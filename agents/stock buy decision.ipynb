{
 "cells": [
  {
   "cell_type": "code",
   "execution_count": 2,
   "id": "752514d8-e63c-42ec-8069-6f899fcd6900",
   "metadata": {},
   "outputs": [],
   "source": [
    "import dash\n",
    "from dash import dcc, html, Input, Output, dash_table\n",
    "import pandas as pd\n",
    "import numpy as np\n",
    "import plotly.express as px\n",
    "import plotly.graph_objects as go"
   ]
  },
  {
   "cell_type": "code",
   "execution_count": 3,
   "id": "3d49e8a8-7c06-46fe-b891-edd1416617a9",
   "metadata": {},
   "outputs": [
    {
     "name": "stderr",
     "output_type": "stream",
     "text": [
      "/tmp/ipykernel_118179/2580584420.py:6: FutureWarning: The default fill_method='pad' in DataFrame.pct_change is deprecated and will be removed in a future version. Either fill in any non-leading NA values prior to calling pct_change or specify 'fill_method=None' to not fill NA values.\n",
      "  returns = data.pct_change()\n"
     ]
    }
   ],
   "source": [
    "df = pd.read_csv('../sp500data/SP500PriceHistory.csv', parse_dates=['Date'])\n",
    "df.sort_values('Date', inplace=True)\n",
    "data = df.set_index('Date')\n",
    "\n",
    "# Calculate returns and volatility\n",
    "returns = data.pct_change()\n",
    "annual_returns = returns.mean() * 252\n",
    "annual_volatilities = returns.std() * np.sqrt(252)\n",
    "\n",
    "combine = pd.DataFrame({\n",
    "    'Returns': annual_returns,\n",
    "    'Volatility': annual_volatilities,\n",
    "    'Sharpe Ratio': annual_returns / annual_volatilities \n",
    "}).dropna()\n"
   ]
  },
  {
   "cell_type": "code",
   "execution_count": 4,
   "id": "705ca6a0-8494-4dee-a323-ef1591e7fb86",
   "metadata": {},
   "outputs": [],
   "source": [
    "app = dash.Dash(__name__)\n",
    "server = app.server"
   ]
  },
  {
   "cell_type": "code",
   "execution_count": 5,
   "id": "af04a25e-e030-4f83-b640-88f0980edd6f",
   "metadata": {},
   "outputs": [],
   "source": [
    "app.layout = html.Div([\n",
    "    html.H1(\"SP500 Stock Analysis Dashboard\", style={'textAlign': 'center'}),\n",
    "    \n",
    "    html.Div([\n",
    "        html.Div([\n",
    "            dcc.RangeSlider(\n",
    "                id='quantile-slider',\n",
    "                min=0,\n",
    "                max=100,\n",
    "                value=[80, 20],\n",
    "                marks={i: f'{i}%' for i in range(0, 101, 10)},\n",
    "                tooltip={'placement': 'bottom'}\n",
    "            )\n",
    "        ], style={'width': '80%', 'margin': '0 auto'}),\n",
    "    ], style={'padding': '20px 0'}),\n",
    "    \n",
    "    html.Div([\n",
    "        dcc.Graph(id='risk-return-plot', style={'height': '70vh'}),\n",
    "    ], style={'width': '65%', 'display': 'inline-block'}),\n",
    "    \n",
    "    html.Div([\n",
    "        html.Div(id='top-buy-table', style={'padding': '10px'}),\n",
    "        html.Div(id='top-sell-table', style={'padding': '10px'})\n",
    "    ], style={'width': '30%', 'display': 'inline-block', 'verticalAlign': 'top'})\n",
    "])\n"
   ]
  },
  {
   "cell_type": "code",
   "execution_count": 6,
   "id": "51044ba2-1e5e-429b-a2e6-e354576f121c",
   "metadata": {},
   "outputs": [],
   "source": [
    "@app.callback(\n",
    "    [Output('risk-return-plot', 'figure'),\n",
    "     Output('top-buy-table', 'children'),\n",
    "     Output('top-sell-table', 'children')],\n",
    "    [Input('quantile-slider', 'value')]\n",
    ")\n",
    "def update_dashboard(quantiles):\n",
    "    # Calculate thresholds\n",
    "    top_q = np.percentile(combine['Returns'], quantiles[0])\n",
    "    bottom_q = np.percentile(combine['Returns'], quantiles[1])\n",
    "    \n",
    "    # Create figure\n",
    "    fig = px.scatter(\n",
    "        combine,\n",
    "        x='Volatility',\n",
    "        y='Returns',\n",
    "        color='Sharpe Ratio',\n",
    "        size='Volatility',\n",
    "        hover_data=[combine.index],\n",
    "        color_continuous_scale='RdYlGn',\n",
    "        title='Risk-Return Analysis with Zoom Capability'\n",
    "    )\n",
    "    \n",
    "    # Add annotation layers\n",
    "    fig.update_layout(\n",
    "        hovermode='closest',\n",
    "        plot_bgcolor='#f8f9fa',\n",
    "        xaxis=dict(title='Annualized Volatility', gridcolor='lightgray'),\n",
    "        yaxis=dict(title='Annualized Returns', gridcolor='lightgray'),\n",
    "        coloraxis_colorbar=dict(title='Sharpe Ratio'),\n",
    "        height=700\n",
    "    )\n",
    "    \n",
    "    # Add buy/sell regions\n",
    "    fig.add_shape(type=\"rect\",\n",
    "        xref=\"paper\", yref=\"paper\",\n",
    "        x0=0.7, y0=0.7, x1=1, y1=1,\n",
    "        line=dict(color=\"Green\", width=2),\n",
    "        fillcolor=\"LightGreen\", opacity=0.4\n",
    "    )\n",
    "    \n",
    "    fig.add_shape(type=\"rect\",\n",
    "        xref=\"paper\", yref=\"paper\",\n",
    "        x0=0.7, y0=0, x1=1, y1=0.3,\n",
    "        line=dict(color=\"Red\", width=2),\n",
    "        fillcolor=\"LightCoral\", opacity=0.4\n",
    "    )\n",
    "    \n",
    "    # Filter top and bottom stocks\n",
    "    top_buy = combine[combine['Returns'] > top_q].sort_values('Returns', ascending=False).head(10)\n",
    "    top_sell = combine[combine['Returns'] < bottom_q].sort_values('Returns').head(10)\n",
    "    \n",
    "    # Create tables\n",
    "    buy_table = dash_table.DataTable(\n",
    "        columns=[{'name': 'Stock', 'id': 'Ticker'}, \n",
    "                 {'name': 'Return', 'id': 'Returns'},\n",
    "                 {'name': 'Volatility', 'id': 'Volatility'}],\n",
    "        data=top_buy.reset_index().rename(columns={'index':'Ticker'}).to_dict('records'),\n",
    "        style_header={'backgroundColor': 'lightgreen'},\n",
    "        style_cell={'textAlign': 'left', 'padding': '5px'}\n",
    "    )\n",
    "    \n",
    "    sell_table = dash_table.DataTable(\n",
    "        columns=[{'name': 'Stock', 'id': 'Ticker'}, \n",
    "                 {'name': 'Return', 'id': 'Returns'},\n",
    "                 {'name': 'Volatility', 'id': 'Volatility'}],\n",
    "        data=top_sell.reset_index().rename(columns={'index':'Ticker'}).to_dict('records'),\n",
    "        style_header={'backgroundColor': 'lightcoral'},\n",
    "        style_cell={'textAlign': 'left', 'padding': '5px'}\n",
    "    )\n",
    "    \n",
    "    return fig, buy_table, sell_table\n"
   ]
  },
  {
   "cell_type": "code",
   "execution_count": 7,
   "id": "ac9d7c8f-56b9-4fc8-8007-42f1e5f6d9e0",
   "metadata": {},
   "outputs": [
    {
     "data": {
      "text/html": [
       "\n",
       "        <iframe\n",
       "            width=\"100%\"\n",
       "            height=\"650\"\n",
       "            src=\"http://127.0.0.1:8051/\"\n",
       "            frameborder=\"0\"\n",
       "            allowfullscreen\n",
       "            \n",
       "        ></iframe>\n",
       "        "
      ],
      "text/plain": [
       "<IPython.lib.display.IFrame at 0x7f91b26ff210>"
      ]
     },
     "metadata": {},
     "output_type": "display_data"
    }
   ],
   "source": [
    "if __name__ == '__main__':\n",
    "    app.run_server(debug=True, port=8051)"
   ]
  }
 ],
 "metadata": {
  "kernelspec": {
   "display_name": "Python 3 (ipykernel)",
   "language": "python",
   "name": "python3"
  },
  "language_info": {
   "codemirror_mode": {
    "name": "ipython",
    "version": 3
   },
   "file_extension": ".py",
   "mimetype": "text/x-python",
   "name": "python",
   "nbconvert_exporter": "python",
   "pygments_lexer": "ipython3",
   "version": "3.11.11"
  }
 },
 "nbformat": 4,
 "nbformat_minor": 5
}
