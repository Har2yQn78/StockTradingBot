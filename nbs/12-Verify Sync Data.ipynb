{
 "cells": [
  {
   "cell_type": "code",
   "execution_count": 1,
   "id": "ed826452-4f75-4c4a-ba8b-ad9a1ed7ca17",
   "metadata": {},
   "outputs": [],
   "source": [
    "import setup\n",
    "setup.init_django()"
   ]
  },
  {
   "cell_type": "code",
   "execution_count": 2,
   "id": "6566ba9e-3bf8-4337-b63b-e37dc3ad686c",
   "metadata": {},
   "outputs": [],
   "source": [
    "from market.models import *"
   ]
  },
  {
   "cell_type": "code",
   "execution_count": 3,
   "id": "c771fca8-ec75-49bc-9832-4f61ffdd7233",
   "metadata": {},
   "outputs": [
    {
     "data": {
      "text/plain": [
       "4"
      ]
     },
     "execution_count": 3,
     "metadata": {},
     "output_type": "execute_result"
    }
   ],
   "source": [
    "qs = Company.objects.filter(active=True)\n",
    "qs.count()"
   ]
  },
  {
   "cell_type": "code",
   "execution_count": 4,
   "id": "b8648bba-22cf-43d1-ac83-ae3e4ea24b2f",
   "metadata": {},
   "outputs": [],
   "source": [
    "obj, created = Company.objects.get_or_create(name='Meta', ticker='META')\n",
    "obj.save()"
   ]
  },
  {
   "cell_type": "code",
   "execution_count": 5,
   "id": "ac43b2c1-bf80-4c5e-934d-2ee72a23e7af",
   "metadata": {},
   "outputs": [
    {
     "data": {
      "text/plain": [
       "4"
      ]
     },
     "execution_count": 5,
     "metadata": {},
     "output_type": "execute_result"
    }
   ],
   "source": [
    "stocks = StockQuote.objects.all()\n",
    "qs.count()"
   ]
  },
  {
   "cell_type": "code",
   "execution_count": 6,
   "id": "92eac94b-ec12-454a-9dde-e171d1f5a947",
   "metadata": {},
   "outputs": [
    {
     "ename": "IntegrityError",
     "evalue": "UNIQUE constraint failed: market_company.ticker",
     "output_type": "error",
     "traceback": [
      "\u001b[1;31m---------------------------------------------------------------------------\u001b[0m",
      "\u001b[1;31mIntegrityError\u001b[0m                            Traceback (most recent call last)",
      "File \u001b[1;32m~\\Desktop\\StockTradingbot\\.venv\\Lib\\site-packages\\django\\db\\backends\\utils.py:105\u001b[0m, in \u001b[0;36mCursorWrapper._execute\u001b[1;34m(self, sql, params, *ignored_wrapper_args)\u001b[0m\n\u001b[0;32m    104\u001b[0m \u001b[38;5;28;01melse\u001b[39;00m:\n\u001b[1;32m--> 105\u001b[0m     \u001b[38;5;28;01mreturn\u001b[39;00m \u001b[38;5;28;43mself\u001b[39;49m\u001b[38;5;241;43m.\u001b[39;49m\u001b[43mcursor\u001b[49m\u001b[38;5;241;43m.\u001b[39;49m\u001b[43mexecute\u001b[49m\u001b[43m(\u001b[49m\u001b[43msql\u001b[49m\u001b[43m,\u001b[49m\u001b[43m \u001b[49m\u001b[43mparams\u001b[49m\u001b[43m)\u001b[49m\n",
      "File \u001b[1;32m~\\Desktop\\StockTradingbot\\.venv\\Lib\\site-packages\\django\\db\\backends\\sqlite3\\base.py:354\u001b[0m, in \u001b[0;36mSQLiteCursorWrapper.execute\u001b[1;34m(self, query, params)\u001b[0m\n\u001b[0;32m    353\u001b[0m query \u001b[38;5;241m=\u001b[39m \u001b[38;5;28mself\u001b[39m\u001b[38;5;241m.\u001b[39mconvert_query(query, param_names\u001b[38;5;241m=\u001b[39mparam_names)\n\u001b[1;32m--> 354\u001b[0m \u001b[38;5;28;01mreturn\u001b[39;00m \u001b[38;5;28;43msuper\u001b[39;49m\u001b[43m(\u001b[49m\u001b[43m)\u001b[49m\u001b[38;5;241;43m.\u001b[39;49m\u001b[43mexecute\u001b[49m\u001b[43m(\u001b[49m\u001b[43mquery\u001b[49m\u001b[43m,\u001b[49m\u001b[43m \u001b[49m\u001b[43mparams\u001b[49m\u001b[43m)\u001b[49m\n",
      "\u001b[1;31mIntegrityError\u001b[0m: UNIQUE constraint failed: market_company.ticker",
      "\nThe above exception was the direct cause of the following exception:\n",
      "\u001b[1;31mIntegrityError\u001b[0m                            Traceback (most recent call last)",
      "Cell \u001b[1;32mIn[6], line 2\u001b[0m\n\u001b[0;32m      1\u001b[0m \u001b[38;5;28;01mfor\u001b[39;00m company \u001b[38;5;129;01min\u001b[39;00m qs:\n\u001b[1;32m----> 2\u001b[0m     \u001b[43mcompany\u001b[49m\u001b[38;5;241;43m.\u001b[39;49m\u001b[43msave\u001b[49m\u001b[43m(\u001b[49m\u001b[43m)\u001b[49m\n",
      "File \u001b[1;32m~\\Desktop\\StockTradingbot\\src\\market\\models.py:19\u001b[0m, in \u001b[0;36mCompany.save\u001b[1;34m(self, *args, **kwargs)\u001b[0m\n\u001b[0;32m     17\u001b[0m \u001b[38;5;28;01mdef\u001b[39;00m \u001b[38;5;21msave\u001b[39m(\u001b[38;5;28mself\u001b[39m, \u001b[38;5;241m*\u001b[39margs, \u001b[38;5;241m*\u001b[39m\u001b[38;5;241m*\u001b[39mkwargs):\n\u001b[0;32m     18\u001b[0m     \u001b[38;5;28mself\u001b[39m\u001b[38;5;241m.\u001b[39mticker \u001b[38;5;241m=\u001b[39m \u001b[38;5;124mf\u001b[39m\u001b[38;5;124m\"\u001b[39m\u001b[38;5;132;01m{\u001b[39;00m\u001b[38;5;28mself\u001b[39m\u001b[38;5;241m.\u001b[39mticker\u001b[38;5;132;01m}\u001b[39;00m\u001b[38;5;124m\"\u001b[39m\u001b[38;5;241m.\u001b[39mupper()\n\u001b[1;32m---> 19\u001b[0m     \u001b[38;5;28;43msuper\u001b[39;49m\u001b[43m(\u001b[49m\u001b[43m)\u001b[49m\u001b[38;5;241;43m.\u001b[39;49m\u001b[43msave\u001b[49m\u001b[43m(\u001b[49m\u001b[38;5;241;43m*\u001b[39;49m\u001b[43margs\u001b[49m\u001b[43m,\u001b[49m\u001b[43m \u001b[49m\u001b[38;5;241;43m*\u001b[39;49m\u001b[38;5;241;43m*\u001b[39;49m\u001b[43mkwargs\u001b[49m\u001b[43m)\u001b[49m\n\u001b[0;32m     20\u001b[0m     tasks\u001b[38;5;241m.\u001b[39msync_company_stock_quotes\u001b[38;5;241m.\u001b[39mdelay(\u001b[38;5;28mself\u001b[39m\u001b[38;5;241m.\u001b[39mpk)\n",
      "File \u001b[1;32m~\\Desktop\\StockTradingbot\\.venv\\Lib\\site-packages\\django\\db\\models\\base.py:892\u001b[0m, in \u001b[0;36mModel.save\u001b[1;34m(self, force_insert, force_update, using, update_fields, *args)\u001b[0m\n\u001b[0;32m    889\u001b[0m     \u001b[38;5;28;01mif\u001b[39;00m loaded_fields:\n\u001b[0;32m    890\u001b[0m         update_fields \u001b[38;5;241m=\u001b[39m \u001b[38;5;28mfrozenset\u001b[39m(loaded_fields)\n\u001b[1;32m--> 892\u001b[0m \u001b[38;5;28;43mself\u001b[39;49m\u001b[38;5;241;43m.\u001b[39;49m\u001b[43msave_base\u001b[49m\u001b[43m(\u001b[49m\n\u001b[0;32m    893\u001b[0m \u001b[43m    \u001b[49m\u001b[43musing\u001b[49m\u001b[38;5;241;43m=\u001b[39;49m\u001b[43musing\u001b[49m\u001b[43m,\u001b[49m\n\u001b[0;32m    894\u001b[0m \u001b[43m    \u001b[49m\u001b[43mforce_insert\u001b[49m\u001b[38;5;241;43m=\u001b[39;49m\u001b[43mforce_insert\u001b[49m\u001b[43m,\u001b[49m\n\u001b[0;32m    895\u001b[0m \u001b[43m    \u001b[49m\u001b[43mforce_update\u001b[49m\u001b[38;5;241;43m=\u001b[39;49m\u001b[43mforce_update\u001b[49m\u001b[43m,\u001b[49m\n\u001b[0;32m    896\u001b[0m \u001b[43m    \u001b[49m\u001b[43mupdate_fields\u001b[49m\u001b[38;5;241;43m=\u001b[39;49m\u001b[43mupdate_fields\u001b[49m\u001b[43m,\u001b[49m\n\u001b[0;32m    897\u001b[0m \u001b[43m\u001b[49m\u001b[43m)\u001b[49m\n",
      "File \u001b[1;32m~\\Desktop\\StockTradingbot\\.venv\\Lib\\site-packages\\django\\db\\models\\base.py:998\u001b[0m, in \u001b[0;36mModel.save_base\u001b[1;34m(self, raw, force_insert, force_update, using, update_fields)\u001b[0m\n\u001b[0;32m    994\u001b[0m         force_insert \u001b[38;5;241m=\u001b[39m \u001b[38;5;28mself\u001b[39m\u001b[38;5;241m.\u001b[39m_validate_force_insert(force_insert)\n\u001b[0;32m    995\u001b[0m         parent_inserted \u001b[38;5;241m=\u001b[39m \u001b[38;5;28mself\u001b[39m\u001b[38;5;241m.\u001b[39m_save_parents(\n\u001b[0;32m    996\u001b[0m             \u001b[38;5;28mcls\u001b[39m, using, update_fields, force_insert\n\u001b[0;32m    997\u001b[0m         )\n\u001b[1;32m--> 998\u001b[0m     updated \u001b[38;5;241m=\u001b[39m \u001b[38;5;28;43mself\u001b[39;49m\u001b[38;5;241;43m.\u001b[39;49m\u001b[43m_save_table\u001b[49m\u001b[43m(\u001b[49m\n\u001b[0;32m    999\u001b[0m \u001b[43m        \u001b[49m\u001b[43mraw\u001b[49m\u001b[43m,\u001b[49m\n\u001b[0;32m   1000\u001b[0m \u001b[43m        \u001b[49m\u001b[38;5;28;43mcls\u001b[39;49m\u001b[43m,\u001b[49m\n\u001b[0;32m   1001\u001b[0m \u001b[43m        \u001b[49m\u001b[43mforce_insert\u001b[49m\u001b[43m \u001b[49m\u001b[38;5;129;43;01mor\u001b[39;49;00m\u001b[43m \u001b[49m\u001b[43mparent_inserted\u001b[49m\u001b[43m,\u001b[49m\n\u001b[0;32m   1002\u001b[0m \u001b[43m        \u001b[49m\u001b[43mforce_update\u001b[49m\u001b[43m,\u001b[49m\n\u001b[0;32m   1003\u001b[0m \u001b[43m        \u001b[49m\u001b[43musing\u001b[49m\u001b[43m,\u001b[49m\n\u001b[0;32m   1004\u001b[0m \u001b[43m        \u001b[49m\u001b[43mupdate_fields\u001b[49m\u001b[43m,\u001b[49m\n\u001b[0;32m   1005\u001b[0m \u001b[43m    \u001b[49m\u001b[43m)\u001b[49m\n\u001b[0;32m   1006\u001b[0m \u001b[38;5;66;03m# Store the database on which the object was saved\u001b[39;00m\n\u001b[0;32m   1007\u001b[0m \u001b[38;5;28mself\u001b[39m\u001b[38;5;241m.\u001b[39m_state\u001b[38;5;241m.\u001b[39mdb \u001b[38;5;241m=\u001b[39m using\n",
      "File \u001b[1;32m~\\Desktop\\StockTradingbot\\.venv\\Lib\\site-packages\\django\\db\\models\\base.py:1130\u001b[0m, in \u001b[0;36mModel._save_table\u001b[1;34m(self, raw, cls, force_insert, force_update, using, update_fields)\u001b[0m\n\u001b[0;32m   1121\u001b[0m values \u001b[38;5;241m=\u001b[39m [\n\u001b[0;32m   1122\u001b[0m     (\n\u001b[0;32m   1123\u001b[0m         f,\n\u001b[1;32m   (...)\u001b[0m\n\u001b[0;32m   1127\u001b[0m     \u001b[38;5;28;01mfor\u001b[39;00m f \u001b[38;5;129;01min\u001b[39;00m non_pks_non_generated\n\u001b[0;32m   1128\u001b[0m ]\n\u001b[0;32m   1129\u001b[0m forced_update \u001b[38;5;241m=\u001b[39m update_fields \u001b[38;5;129;01mor\u001b[39;00m force_update\n\u001b[1;32m-> 1130\u001b[0m updated \u001b[38;5;241m=\u001b[39m \u001b[38;5;28;43mself\u001b[39;49m\u001b[38;5;241;43m.\u001b[39;49m\u001b[43m_do_update\u001b[49m\u001b[43m(\u001b[49m\n\u001b[0;32m   1131\u001b[0m \u001b[43m    \u001b[49m\u001b[43mbase_qs\u001b[49m\u001b[43m,\u001b[49m\u001b[43m \u001b[49m\u001b[43musing\u001b[49m\u001b[43m,\u001b[49m\u001b[43m \u001b[49m\u001b[43mpk_val\u001b[49m\u001b[43m,\u001b[49m\u001b[43m \u001b[49m\u001b[43mvalues\u001b[49m\u001b[43m,\u001b[49m\u001b[43m \u001b[49m\u001b[43mupdate_fields\u001b[49m\u001b[43m,\u001b[49m\u001b[43m \u001b[49m\u001b[43mforced_update\u001b[49m\n\u001b[0;32m   1132\u001b[0m \u001b[43m\u001b[49m\u001b[43m)\u001b[49m\n\u001b[0;32m   1133\u001b[0m \u001b[38;5;28;01mif\u001b[39;00m force_update \u001b[38;5;129;01mand\u001b[39;00m \u001b[38;5;129;01mnot\u001b[39;00m updated:\n\u001b[0;32m   1134\u001b[0m     \u001b[38;5;28;01mraise\u001b[39;00m DatabaseError(\u001b[38;5;124m\"\u001b[39m\u001b[38;5;124mForced update did not affect any rows.\u001b[39m\u001b[38;5;124m\"\u001b[39m)\n",
      "File \u001b[1;32m~\\Desktop\\StockTradingbot\\.venv\\Lib\\site-packages\\django\\db\\models\\base.py:1195\u001b[0m, in \u001b[0;36mModel._do_update\u001b[1;34m(self, base_qs, using, pk_val, values, update_fields, forced_update)\u001b[0m\n\u001b[0;32m   1182\u001b[0m \u001b[38;5;28;01mif\u001b[39;00m \u001b[38;5;28mself\u001b[39m\u001b[38;5;241m.\u001b[39m_meta\u001b[38;5;241m.\u001b[39mselect_on_save \u001b[38;5;129;01mand\u001b[39;00m \u001b[38;5;129;01mnot\u001b[39;00m forced_update:\n\u001b[0;32m   1183\u001b[0m     \u001b[38;5;28;01mreturn\u001b[39;00m (\n\u001b[0;32m   1184\u001b[0m         filtered\u001b[38;5;241m.\u001b[39mexists()\n\u001b[0;32m   1185\u001b[0m         \u001b[38;5;129;01mand\u001b[39;00m\n\u001b[1;32m   (...)\u001b[0m\n\u001b[0;32m   1193\u001b[0m         (filtered\u001b[38;5;241m.\u001b[39m_update(values) \u001b[38;5;241m>\u001b[39m \u001b[38;5;241m0\u001b[39m \u001b[38;5;129;01mor\u001b[39;00m filtered\u001b[38;5;241m.\u001b[39mexists())\n\u001b[0;32m   1194\u001b[0m     )\n\u001b[1;32m-> 1195\u001b[0m \u001b[38;5;28;01mreturn\u001b[39;00m \u001b[43mfiltered\u001b[49m\u001b[38;5;241;43m.\u001b[39;49m\u001b[43m_update\u001b[49m\u001b[43m(\u001b[49m\u001b[43mvalues\u001b[49m\u001b[43m)\u001b[49m \u001b[38;5;241m>\u001b[39m \u001b[38;5;241m0\u001b[39m\n",
      "File \u001b[1;32m~\\Desktop\\StockTradingbot\\.venv\\Lib\\site-packages\\django\\db\\models\\query.py:1278\u001b[0m, in \u001b[0;36mQuerySet._update\u001b[1;34m(self, values)\u001b[0m\n\u001b[0;32m   1276\u001b[0m query\u001b[38;5;241m.\u001b[39mannotations \u001b[38;5;241m=\u001b[39m {}\n\u001b[0;32m   1277\u001b[0m \u001b[38;5;28mself\u001b[39m\u001b[38;5;241m.\u001b[39m_result_cache \u001b[38;5;241m=\u001b[39m \u001b[38;5;28;01mNone\u001b[39;00m\n\u001b[1;32m-> 1278\u001b[0m \u001b[38;5;28;01mreturn\u001b[39;00m \u001b[43mquery\u001b[49m\u001b[38;5;241;43m.\u001b[39;49m\u001b[43mget_compiler\u001b[49m\u001b[43m(\u001b[49m\u001b[38;5;28;43mself\u001b[39;49m\u001b[38;5;241;43m.\u001b[39;49m\u001b[43mdb\u001b[49m\u001b[43m)\u001b[49m\u001b[38;5;241;43m.\u001b[39;49m\u001b[43mexecute_sql\u001b[49m\u001b[43m(\u001b[49m\u001b[43mCURSOR\u001b[49m\u001b[43m)\u001b[49m\n",
      "File \u001b[1;32m~\\Desktop\\StockTradingbot\\.venv\\Lib\\site-packages\\django\\db\\models\\sql\\compiler.py:2003\u001b[0m, in \u001b[0;36mSQLUpdateCompiler.execute_sql\u001b[1;34m(self, result_type)\u001b[0m\n\u001b[0;32m   1996\u001b[0m \u001b[38;5;28;01mdef\u001b[39;00m \u001b[38;5;21mexecute_sql\u001b[39m(\u001b[38;5;28mself\u001b[39m, result_type):\n\u001b[0;32m   1997\u001b[0m \u001b[38;5;250m    \u001b[39m\u001b[38;5;124;03m\"\"\"\u001b[39;00m\n\u001b[0;32m   1998\u001b[0m \u001b[38;5;124;03m    Execute the specified update. Return the number of rows affected by\u001b[39;00m\n\u001b[0;32m   1999\u001b[0m \u001b[38;5;124;03m    the primary update query. The \"primary update query\" is the first\u001b[39;00m\n\u001b[0;32m   2000\u001b[0m \u001b[38;5;124;03m    non-empty query that is executed. Row counts for any subsequent,\u001b[39;00m\n\u001b[0;32m   2001\u001b[0m \u001b[38;5;124;03m    related queries are not available.\u001b[39;00m\n\u001b[0;32m   2002\u001b[0m \u001b[38;5;124;03m    \"\"\"\u001b[39;00m\n\u001b[1;32m-> 2003\u001b[0m     cursor \u001b[38;5;241m=\u001b[39m \u001b[38;5;28;43msuper\u001b[39;49m\u001b[43m(\u001b[49m\u001b[43m)\u001b[49m\u001b[38;5;241;43m.\u001b[39;49m\u001b[43mexecute_sql\u001b[49m\u001b[43m(\u001b[49m\u001b[43mresult_type\u001b[49m\u001b[43m)\u001b[49m\n\u001b[0;32m   2004\u001b[0m     \u001b[38;5;28;01mtry\u001b[39;00m:\n\u001b[0;32m   2005\u001b[0m         rows \u001b[38;5;241m=\u001b[39m cursor\u001b[38;5;241m.\u001b[39mrowcount \u001b[38;5;28;01mif\u001b[39;00m cursor \u001b[38;5;28;01melse\u001b[39;00m \u001b[38;5;241m0\u001b[39m\n",
      "File \u001b[1;32m~\\Desktop\\StockTradingbot\\.venv\\Lib\\site-packages\\django\\db\\models\\sql\\compiler.py:1574\u001b[0m, in \u001b[0;36mSQLCompiler.execute_sql\u001b[1;34m(self, result_type, chunked_fetch, chunk_size)\u001b[0m\n\u001b[0;32m   1572\u001b[0m     cursor \u001b[38;5;241m=\u001b[39m \u001b[38;5;28mself\u001b[39m\u001b[38;5;241m.\u001b[39mconnection\u001b[38;5;241m.\u001b[39mcursor()\n\u001b[0;32m   1573\u001b[0m \u001b[38;5;28;01mtry\u001b[39;00m:\n\u001b[1;32m-> 1574\u001b[0m     \u001b[43mcursor\u001b[49m\u001b[38;5;241;43m.\u001b[39;49m\u001b[43mexecute\u001b[49m\u001b[43m(\u001b[49m\u001b[43msql\u001b[49m\u001b[43m,\u001b[49m\u001b[43m \u001b[49m\u001b[43mparams\u001b[49m\u001b[43m)\u001b[49m\n\u001b[0;32m   1575\u001b[0m \u001b[38;5;28;01mexcept\u001b[39;00m \u001b[38;5;167;01mException\u001b[39;00m:\n\u001b[0;32m   1576\u001b[0m     \u001b[38;5;66;03m# Might fail for server-side cursors (e.g. connection closed)\u001b[39;00m\n\u001b[0;32m   1577\u001b[0m     cursor\u001b[38;5;241m.\u001b[39mclose()\n",
      "File \u001b[1;32m~\\Desktop\\StockTradingbot\\.venv\\Lib\\site-packages\\django\\db\\backends\\utils.py:122\u001b[0m, in \u001b[0;36mCursorDebugWrapper.execute\u001b[1;34m(self, sql, params)\u001b[0m\n\u001b[0;32m    120\u001b[0m \u001b[38;5;28;01mdef\u001b[39;00m \u001b[38;5;21mexecute\u001b[39m(\u001b[38;5;28mself\u001b[39m, sql, params\u001b[38;5;241m=\u001b[39m\u001b[38;5;28;01mNone\u001b[39;00m):\n\u001b[0;32m    121\u001b[0m     \u001b[38;5;28;01mwith\u001b[39;00m \u001b[38;5;28mself\u001b[39m\u001b[38;5;241m.\u001b[39mdebug_sql(sql, params, use_last_executed_query\u001b[38;5;241m=\u001b[39m\u001b[38;5;28;01mTrue\u001b[39;00m):\n\u001b[1;32m--> 122\u001b[0m         \u001b[38;5;28;01mreturn\u001b[39;00m \u001b[38;5;28;43msuper\u001b[39;49m\u001b[43m(\u001b[49m\u001b[43m)\u001b[49m\u001b[38;5;241;43m.\u001b[39;49m\u001b[43mexecute\u001b[49m\u001b[43m(\u001b[49m\u001b[43msql\u001b[49m\u001b[43m,\u001b[49m\u001b[43m \u001b[49m\u001b[43mparams\u001b[49m\u001b[43m)\u001b[49m\n",
      "File \u001b[1;32m~\\Desktop\\StockTradingbot\\.venv\\Lib\\site-packages\\django\\db\\backends\\utils.py:79\u001b[0m, in \u001b[0;36mCursorWrapper.execute\u001b[1;34m(self, sql, params)\u001b[0m\n\u001b[0;32m     78\u001b[0m \u001b[38;5;28;01mdef\u001b[39;00m \u001b[38;5;21mexecute\u001b[39m(\u001b[38;5;28mself\u001b[39m, sql, params\u001b[38;5;241m=\u001b[39m\u001b[38;5;28;01mNone\u001b[39;00m):\n\u001b[1;32m---> 79\u001b[0m     \u001b[38;5;28;01mreturn\u001b[39;00m \u001b[38;5;28;43mself\u001b[39;49m\u001b[38;5;241;43m.\u001b[39;49m\u001b[43m_execute_with_wrappers\u001b[49m\u001b[43m(\u001b[49m\n\u001b[0;32m     80\u001b[0m \u001b[43m        \u001b[49m\u001b[43msql\u001b[49m\u001b[43m,\u001b[49m\u001b[43m \u001b[49m\u001b[43mparams\u001b[49m\u001b[43m,\u001b[49m\u001b[43m \u001b[49m\u001b[43mmany\u001b[49m\u001b[38;5;241;43m=\u001b[39;49m\u001b[38;5;28;43;01mFalse\u001b[39;49;00m\u001b[43m,\u001b[49m\u001b[43m \u001b[49m\u001b[43mexecutor\u001b[49m\u001b[38;5;241;43m=\u001b[39;49m\u001b[38;5;28;43mself\u001b[39;49m\u001b[38;5;241;43m.\u001b[39;49m\u001b[43m_execute\u001b[49m\n\u001b[0;32m     81\u001b[0m \u001b[43m    \u001b[49m\u001b[43m)\u001b[49m\n",
      "File \u001b[1;32m~\\Desktop\\StockTradingbot\\.venv\\Lib\\site-packages\\django\\db\\backends\\utils.py:92\u001b[0m, in \u001b[0;36mCursorWrapper._execute_with_wrappers\u001b[1;34m(self, sql, params, many, executor)\u001b[0m\n\u001b[0;32m     90\u001b[0m \u001b[38;5;28;01mfor\u001b[39;00m wrapper \u001b[38;5;129;01min\u001b[39;00m \u001b[38;5;28mreversed\u001b[39m(\u001b[38;5;28mself\u001b[39m\u001b[38;5;241m.\u001b[39mdb\u001b[38;5;241m.\u001b[39mexecute_wrappers):\n\u001b[0;32m     91\u001b[0m     executor \u001b[38;5;241m=\u001b[39m functools\u001b[38;5;241m.\u001b[39mpartial(wrapper, executor)\n\u001b[1;32m---> 92\u001b[0m \u001b[38;5;28;01mreturn\u001b[39;00m \u001b[43mexecutor\u001b[49m\u001b[43m(\u001b[49m\u001b[43msql\u001b[49m\u001b[43m,\u001b[49m\u001b[43m \u001b[49m\u001b[43mparams\u001b[49m\u001b[43m,\u001b[49m\u001b[43m \u001b[49m\u001b[43mmany\u001b[49m\u001b[43m,\u001b[49m\u001b[43m \u001b[49m\u001b[43mcontext\u001b[49m\u001b[43m)\u001b[49m\n",
      "File \u001b[1;32m~\\Desktop\\StockTradingbot\\.venv\\Lib\\site-packages\\django\\db\\backends\\utils.py:100\u001b[0m, in \u001b[0;36mCursorWrapper._execute\u001b[1;34m(self, sql, params, *ignored_wrapper_args)\u001b[0m\n\u001b[0;32m     98\u001b[0m     warnings\u001b[38;5;241m.\u001b[39mwarn(\u001b[38;5;28mself\u001b[39m\u001b[38;5;241m.\u001b[39mAPPS_NOT_READY_WARNING_MSG, category\u001b[38;5;241m=\u001b[39m\u001b[38;5;167;01mRuntimeWarning\u001b[39;00m)\n\u001b[0;32m     99\u001b[0m \u001b[38;5;28mself\u001b[39m\u001b[38;5;241m.\u001b[39mdb\u001b[38;5;241m.\u001b[39mvalidate_no_broken_transaction()\n\u001b[1;32m--> 100\u001b[0m \u001b[43m\u001b[49m\u001b[38;5;28;43;01mwith\u001b[39;49;00m\u001b[43m \u001b[49m\u001b[38;5;28;43mself\u001b[39;49m\u001b[38;5;241;43m.\u001b[39;49m\u001b[43mdb\u001b[49m\u001b[38;5;241;43m.\u001b[39;49m\u001b[43mwrap_database_errors\u001b[49m\u001b[43m:\u001b[49m\n\u001b[0;32m    101\u001b[0m \u001b[43m    \u001b[49m\u001b[38;5;28;43;01mif\u001b[39;49;00m\u001b[43m \u001b[49m\u001b[43mparams\u001b[49m\u001b[43m \u001b[49m\u001b[38;5;129;43;01mis\u001b[39;49;00m\u001b[43m \u001b[49m\u001b[38;5;28;43;01mNone\u001b[39;49;00m\u001b[43m:\u001b[49m\n\u001b[0;32m    102\u001b[0m \u001b[43m        \u001b[49m\u001b[38;5;66;43;03m# params default might be backend specific.\u001b[39;49;00m\n\u001b[0;32m    103\u001b[0m \u001b[43m        \u001b[49m\u001b[38;5;28;43;01mreturn\u001b[39;49;00m\u001b[43m \u001b[49m\u001b[38;5;28;43mself\u001b[39;49m\u001b[38;5;241;43m.\u001b[39;49m\u001b[43mcursor\u001b[49m\u001b[38;5;241;43m.\u001b[39;49m\u001b[43mexecute\u001b[49m\u001b[43m(\u001b[49m\u001b[43msql\u001b[49m\u001b[43m)\u001b[49m\n",
      "File \u001b[1;32m~\\Desktop\\StockTradingbot\\.venv\\Lib\\site-packages\\django\\db\\utils.py:91\u001b[0m, in \u001b[0;36mDatabaseErrorWrapper.__exit__\u001b[1;34m(self, exc_type, exc_value, traceback)\u001b[0m\n\u001b[0;32m     89\u001b[0m \u001b[38;5;28;01mif\u001b[39;00m dj_exc_type \u001b[38;5;129;01mnot\u001b[39;00m \u001b[38;5;129;01min\u001b[39;00m (DataError, IntegrityError):\n\u001b[0;32m     90\u001b[0m     \u001b[38;5;28mself\u001b[39m\u001b[38;5;241m.\u001b[39mwrapper\u001b[38;5;241m.\u001b[39merrors_occurred \u001b[38;5;241m=\u001b[39m \u001b[38;5;28;01mTrue\u001b[39;00m\n\u001b[1;32m---> 91\u001b[0m \u001b[38;5;28;01mraise\u001b[39;00m dj_exc_value\u001b[38;5;241m.\u001b[39mwith_traceback(traceback) \u001b[38;5;28;01mfrom\u001b[39;00m \u001b[38;5;21;01mexc_value\u001b[39;00m\n",
      "File \u001b[1;32m~\\Desktop\\StockTradingbot\\.venv\\Lib\\site-packages\\django\\db\\backends\\utils.py:105\u001b[0m, in \u001b[0;36mCursorWrapper._execute\u001b[1;34m(self, sql, params, *ignored_wrapper_args)\u001b[0m\n\u001b[0;32m    103\u001b[0m     \u001b[38;5;28;01mreturn\u001b[39;00m \u001b[38;5;28mself\u001b[39m\u001b[38;5;241m.\u001b[39mcursor\u001b[38;5;241m.\u001b[39mexecute(sql)\n\u001b[0;32m    104\u001b[0m \u001b[38;5;28;01melse\u001b[39;00m:\n\u001b[1;32m--> 105\u001b[0m     \u001b[38;5;28;01mreturn\u001b[39;00m \u001b[38;5;28;43mself\u001b[39;49m\u001b[38;5;241;43m.\u001b[39;49m\u001b[43mcursor\u001b[49m\u001b[38;5;241;43m.\u001b[39;49m\u001b[43mexecute\u001b[49m\u001b[43m(\u001b[49m\u001b[43msql\u001b[49m\u001b[43m,\u001b[49m\u001b[43m \u001b[49m\u001b[43mparams\u001b[49m\u001b[43m)\u001b[49m\n",
      "File \u001b[1;32m~\\Desktop\\StockTradingbot\\.venv\\Lib\\site-packages\\django\\db\\backends\\sqlite3\\base.py:354\u001b[0m, in \u001b[0;36mSQLiteCursorWrapper.execute\u001b[1;34m(self, query, params)\u001b[0m\n\u001b[0;32m    352\u001b[0m param_names \u001b[38;5;241m=\u001b[39m \u001b[38;5;28mlist\u001b[39m(params) \u001b[38;5;28;01mif\u001b[39;00m \u001b[38;5;28misinstance\u001b[39m(params, Mapping) \u001b[38;5;28;01melse\u001b[39;00m \u001b[38;5;28;01mNone\u001b[39;00m\n\u001b[0;32m    353\u001b[0m query \u001b[38;5;241m=\u001b[39m \u001b[38;5;28mself\u001b[39m\u001b[38;5;241m.\u001b[39mconvert_query(query, param_names\u001b[38;5;241m=\u001b[39mparam_names)\n\u001b[1;32m--> 354\u001b[0m \u001b[38;5;28;01mreturn\u001b[39;00m \u001b[38;5;28;43msuper\u001b[39;49m\u001b[43m(\u001b[49m\u001b[43m)\u001b[49m\u001b[38;5;241;43m.\u001b[39;49m\u001b[43mexecute\u001b[49m\u001b[43m(\u001b[49m\u001b[43mquery\u001b[49m\u001b[43m,\u001b[49m\u001b[43m \u001b[49m\u001b[43mparams\u001b[49m\u001b[43m)\u001b[49m\n",
      "\u001b[1;31mIntegrityError\u001b[0m: UNIQUE constraint failed: market_company.ticker"
     ]
    }
   ],
   "source": [
    "for company in qs:\n",
    "    company.save()"
   ]
  },
  {
   "cell_type": "code",
   "execution_count": 18,
   "id": "3d78936b-617d-4ccb-baed-2d682c8f51c9",
   "metadata": {},
   "outputs": [
    {
     "data": {
      "text/plain": [
       "0"
      ]
     },
     "execution_count": 18,
     "metadata": {},
     "output_type": "execute_result"
    }
   ],
   "source": [
    "stocks = StockQuote.objects.all()\n",
    "stocks.count()"
   ]
  },
  {
   "cell_type": "code",
   "execution_count": 19,
   "id": "9b337dad-d60e-4837-b435-bfd728574128",
   "metadata": {},
   "outputs": [],
   "source": [
    "start_from_scratch = False\n",
    "if start_from_scratch:\n",
    "    stocks.delete()"
   ]
  },
  {
   "cell_type": "code",
   "execution_count": 20,
   "id": "29ec5d31-48b7-4e3c-ac7d-62a7d2de42dc",
   "metadata": {},
   "outputs": [],
   "source": [
    "from market import tasks as market_tasks"
   ]
  },
  {
   "cell_type": "code",
   "execution_count": 21,
   "id": "4a9c65cd-a335-476a-bb0c-ae78e9987c73",
   "metadata": {},
   "outputs": [
    {
     "data": {
      "text/plain": [
       "<AsyncResult: fd5433e5-9298-4171-a7e8-1415fd5ef72a>"
      ]
     },
     "execution_count": 21,
     "metadata": {},
     "output_type": "execute_result"
    }
   ],
   "source": [
    "market_tasks.sync_stock_data.delay()"
   ]
  },
  {
   "cell_type": "code",
   "execution_count": 22,
   "id": "99362f86-4b92-4911-8908-ac075483932e",
   "metadata": {},
   "outputs": [
    {
     "data": {
      "text/plain": [
       "0"
      ]
     },
     "execution_count": 22,
     "metadata": {},
     "output_type": "execute_result"
    }
   ],
   "source": [
    "StockQuote.objects.all().count()"
   ]
  },
  {
   "cell_type": "code",
   "execution_count": null,
   "id": "39e09b75-fec6-4862-9e11-cd43040a71a0",
   "metadata": {},
   "outputs": [],
   "source": []
  },
  {
   "cell_type": "code",
   "execution_count": null,
   "id": "0111f233-d918-4975-a88c-5ed6f6cd7ae7",
   "metadata": {},
   "outputs": [],
   "source": []
  },
  {
   "cell_type": "code",
   "execution_count": null,
   "id": "51b131ab-1ea1-47fe-bf2b-e3a0843bc62d",
   "metadata": {},
   "outputs": [],
   "source": []
  },
  {
   "cell_type": "code",
   "execution_count": null,
   "id": "a151a319-75a0-41d3-8845-4679a5097f7b",
   "metadata": {},
   "outputs": [],
   "source": []
  }
 ],
 "metadata": {
  "kernelspec": {
   "display_name": "Python 3 (ipykernel)",
   "language": "python",
   "name": "python3"
  },
  "language_info": {
   "codemirror_mode": {
    "name": "ipython",
    "version": 3
   },
   "file_extension": ".py",
   "mimetype": "text/x-python",
   "name": "python",
   "nbconvert_exporter": "python",
   "pygments_lexer": "ipython3",
   "version": "3.12.5"
  }
 },
 "nbformat": 4,
 "nbformat_minor": 5
}
