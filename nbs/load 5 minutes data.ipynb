{
 "cells": [
  {
   "cell_type": "code",
   "execution_count": 1,
   "id": "b5360bcb-1ab7-47af-acf6-42a1ea7b11ab",
   "metadata": {},
   "outputs": [],
   "source": [
    "import warnings\n",
    "\n",
    "warnings.filterwarnings(\"ignore\")"
   ]
  },
  {
   "cell_type": "code",
   "execution_count": 2,
   "id": "89e63607-67ac-4676-baf5-dd8bb03267c8",
   "metadata": {},
   "outputs": [],
   "source": [
    "import setup\n",
    "setup.init_django()\n",
    "from market import services as market_services\n",
    "from market import tasks as market_tasks\n",
    "from market.models import Company\n",
    "import json\n",
    "from decouple import config"
   ]
  },
  {
   "cell_type": "code",
   "execution_count": 3,
   "id": "dfcd6a15-a462-45fc-a889-3870c65f7b86",
   "metadata": {},
   "outputs": [
    {
     "data": {
      "text/plain": [
       "2"
      ]
     },
     "execution_count": 3,
     "metadata": {},
     "output_type": "execute_result"
    }
   ],
   "source": [
    "ticker = \"AAPL\"\n",
    "name = \"Apple\"\n",
    "company, _ = Company.objects.get_or_create(name=name, ticker=ticker)\n",
    "company.id"
   ]
  },
  {
   "cell_type": "code",
   "execution_count": null,
   "id": "1dff1bed-9685-40ac-9b5d-017c6fc8ea9c",
   "metadata": {},
   "outputs": [],
   "source": [
    "market_tasks.sync_historical_stock_data(\n",
    "    years_ago=1, \n",
    "    company_ids=[company.id], \n",
    "    use_celery=False, \n",
    "    verbose=True\n",
    ")"
   ]
  },
  {
   "cell_type": "code",
   "execution_count": 4,
   "id": "b3bf1e28-1ad0-4635-8fbf-2dbb83e251a8",
   "metadata": {},
   "outputs": [
    {
     "name": "stdout",
     "output_type": "stream",
     "text": [
      "Cleaned 5-Minute Data Summary:\n",
      "Columns: ['Open', 'High', 'Low', 'Close', 'Volume']\n",
      "Date Range: 2023-03-02 09:00:00 to 2025-01-25 00:55:00\n",
      "Total Data Points: 87706\n",
      "\n",
      "Sample Data:\n",
      "                       Open    High     Low   Close  Volume\n",
      "time                                                       \n",
      "2023-03-02 09:00:00  144.96  144.96  144.23  144.35   11810\n",
      "2023-03-02 09:05:00  144.34  144.40  144.28  144.40    6443\n",
      "2023-03-02 09:10:00  144.41  144.41  144.34  144.34    2776\n"
     ]
    }
   ],
   "source": [
    "import pandas as pd\n",
    "import setup\n",
    "from market.models import Company\n",
    "from market import services as market_services\n",
    "\n",
    "ticker = \"AAPL\"\n",
    "days = 720 \n",
    "\n",
    "queryset = market_services.get_5min_stock_quotes_queryset(ticker, days=days)\n",
    "\n",
    "df = pd.DataFrame.from_records(list(queryset.values()))\n",
    "df['time'] = pd.to_datetime(df['time'])\n",
    "df.set_index('time', inplace=True)\n",
    "\n",
    "df = df.rename(columns={\n",
    "    'open_price': 'Open',\n",
    "    'high_price': 'High',\n",
    "    'low_price': 'Low',\n",
    "    'close_price': 'Close',\n",
    "    'volume': 'Volume'\n",
    "})\n",
    "\n",
    "df[['Open', 'High', 'Low', 'Close']] = df[['Open', 'High', 'Low', 'Close']].astype(float)\n",
    "\n",
    "df.index = df.index.tz_localize(None)  \n",
    "\n",
    "df = df[['Open', 'High', 'Low', 'Close', 'Volume']]\n",
    "\n",
    "print(\"Cleaned 5-Minute Data Summary:\")\n",
    "print(f\"Columns: {df.columns.tolist()}\")\n",
    "print(f\"Date Range: {df.index.min()} to {df.index.max()}\")\n",
    "print(f\"Total Data Points: {len(df)}\")\n",
    "print(f\"\\nSample Data:\\n{df.head(3)}\")"
   ]
  },
  {
   "cell_type": "code",
   "execution_count": null,
   "id": "0a145a09-3079-4bb1-a2db-491d9bc8adab",
   "metadata": {},
   "outputs": [],
   "source": []
  }
 ],
 "metadata": {
  "kernelspec": {
   "display_name": "Python 3 (ipykernel)",
   "language": "python",
   "name": "python3"
  },
  "language_info": {
   "codemirror_mode": {
    "name": "ipython",
    "version": 3
   },
   "file_extension": ".py",
   "mimetype": "text/x-python",
   "name": "python",
   "nbconvert_exporter": "python",
   "pygments_lexer": "ipython3",
   "version": "3.11.11"
  }
 },
 "nbformat": 4,
 "nbformat_minor": 5
}
