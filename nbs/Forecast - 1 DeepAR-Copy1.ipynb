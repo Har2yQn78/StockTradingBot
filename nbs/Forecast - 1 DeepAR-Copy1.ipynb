{
 "cells": [
  {
   "cell_type": "code",
   "execution_count": 1,
   "id": "6cad75a1-b852-4bd3-9299-d046846ac7f3",
   "metadata": {},
   "outputs": [],
   "source": [
    "import setup\n",
    "setup.init_django()\n",
    "from market import services as market_services\n",
    "from market import tasks as market_tasks\n",
    "from market.models import Company\n",
    "import json\n",
    "from decouple import config"
   ]
  },
  {
   "cell_type": "code",
   "execution_count": 2,
   "id": "753f9e85-20c6-45f3-803e-5c89a5c36489",
   "metadata": {},
   "outputs": [
    {
     "data": {
      "text/plain": [
       "2"
      ]
     },
     "execution_count": 2,
     "metadata": {},
     "output_type": "execute_result"
    }
   ],
   "source": [
    "ticker = \"AAPL\"\n",
    "name = \"Apple\"\n",
    "company, _ = Company.objects.get_or_create(name=name, ticker=ticker)\n",
    "company.id"
   ]
  },
  {
   "cell_type": "code",
   "execution_count": null,
   "id": "31e371fe-876c-4003-be3a-e7d4366380a2",
   "metadata": {},
   "outputs": [],
   "source": [
    "market_tasks.sync_historical_stock_data(\n",
    "    years_ago=1, \n",
    "    company_ids=[company.id], \n",
    "    use_celery=False, \n",
    "    verbose=True\n",
    ")\n",
    "\n",
    "# use celery / async\n",
    "# market_tasks.sync_historical_stock_data.delay(years_ago=5, company_ids=[company.id], use_celery=True, verbose=False)"
   ]
  },
  {
   "cell_type": "code",
   "execution_count": 3,
   "id": "45edca03-e0b4-40db-b8ea-3f795d1faf09",
   "metadata": {},
   "outputs": [
    {
     "name": "stdout",
     "output_type": "stream",
     "text": [
      "                          close_price\n",
      "time                                 \n",
      "2024-02-20 23:55:00+00:00    181.7000\n",
      "2024-02-21 23:55:00+00:00    182.4700\n",
      "2024-02-22 23:55:00+00:00    184.2400\n",
      "2024-02-23 23:55:00+00:00    182.3300\n",
      "2024-02-24 00:55:00+00:00    182.2800\n"
     ]
    }
   ],
   "source": [
    "import pandas as pd\n",
    "from market import services as market_services\n",
    "days = 360\n",
    "queryset = market_services.get_daily_stock_quotes_queryset(ticker, days=days)\n",
    "historical_data_list = queryset.values(\n",
    "    'time', 'open_price', 'close_price', 'high_price', 'low_price',\n",
    "    'raw_timestamp', 'number_of_trades', 'volume', 'volume_weighted_average'\n",
    ")\n",
    "\n",
    "historical_data = pd.DataFrame.from_records(historical_data_list)\n",
    "historical_data['time'] = pd.to_datetime(historical_data['time'])\n",
    "historical_data.set_index('time', inplace=True)\n",
    "historical_data = historical_data[['close_price']]\n",
    "print(historical_data.head())"
   ]
  },
  {
   "cell_type": "code",
   "execution_count": 4,
   "id": "d90b3f17-2cfb-4fdc-8c0b-43fb028e9b2f",
   "metadata": {},
   "outputs": [
    {
     "name": "stdout",
     "output_type": "stream",
     "text": [
      "Index(['close_price'], dtype='object')\n"
     ]
    }
   ],
   "source": [
    "print(historical_data.columns)"
   ]
  },
  {
   "cell_type": "code",
   "execution_count": 5,
   "id": "bd80d974-5392-477d-a836-56e70382c5f7",
   "metadata": {},
   "outputs": [
    {
     "name": "stdout",
     "output_type": "stream",
     "text": [
      "                          close_price\n",
      "time                                 \n",
      "2024-02-20 23:55:00+00:00    181.7000\n",
      "2024-02-21 23:55:00+00:00    182.4700\n",
      "2024-02-22 23:55:00+00:00    184.2400\n",
      "2024-02-23 23:55:00+00:00    182.3300\n",
      "2024-02-24 00:55:00+00:00    182.2800\n",
      "close_price    object\n",
      "dtype: object\n"
     ]
    }
   ],
   "source": [
    "print(historical_data.head())\n",
    "print(historical_data.dtypes)"
   ]
  },
  {
   "cell_type": "code",
   "execution_count": 6,
   "id": "7d0c800d-b3f7-4128-ba74-72bffcf03475",
   "metadata": {},
   "outputs": [],
   "source": [
    "from merlion.models.forecast.deep_ar import DeepARForecaster, DeepARConfig\n",
    "from merlion.utils import TimeSeries\n",
    "import pandas as pd\n",
    "import matplotlib.pyplot as plt"
   ]
  },
  {
   "cell_type": "code",
   "execution_count": 7,
   "id": "3e1b9123-f1a7-4419-9b54-e75d71dbcc91",
   "metadata": {},
   "outputs": [
    {
     "name": "stdout",
     "output_type": "stream",
     "text": [
      "{'config': <class 'merlion.models.forecast.deep_ar.DeepARConfig'>}\n"
     ]
    }
   ],
   "source": [
    "from merlion.models.forecast.deep_ar import DeepARForecaster\n",
    "print(DeepARForecaster.__init__.__annotations__)\n"
   ]
  },
  {
   "cell_type": "code",
   "execution_count": 8,
   "id": "acdd0827-385d-4416-bf56-4db8892f900a",
   "metadata": {},
   "outputs": [
    {
     "name": "stdout",
     "output_type": "stream",
     "text": [
      "close_price    object\n",
      "dtype: object\n"
     ]
    }
   ],
   "source": [
    "print(historical_data.dtypes)"
   ]
  },
  {
   "cell_type": "code",
   "execution_count": 9,
   "id": "2d60b7a8-5626-4155-86b0-c22b06b6c56f",
   "metadata": {},
   "outputs": [
    {
     "name": "stdout",
     "output_type": "stream",
     "text": [
      "Missing values: close_price    0\n",
      "dtype: int64\n",
      "Time series data:\n",
      "                     close_price\n",
      "time                            \n",
      "2024-02-20 23:55:00       181.70\n",
      "2024-02-21 23:55:00       182.47\n",
      "2024-02-22 23:55:00       184.24\n",
      "2024-02-23 23:55:00       182.33\n",
      "2024-02-24 00:55:00       182.28\n",
      "Time series shape: (246, 1)\n"
     ]
    },
    {
     "name": "stderr",
     "output_type": "stream",
     "text": [
      "/tmp/ipykernel_5008/872399467.py:10: FutureWarning: DataFrame.fillna with 'method' is deprecated and will raise in a future version. Use obj.ffill() or obj.bfill() instead.\n",
      "  historical_data.fillna(method=\"ffill\", inplace=True)  # Forward fill\n",
      "/tmp/ipykernel_5008/872399467.py:11: FutureWarning: DataFrame.fillna with 'method' is deprecated and will raise in a future version. Use obj.ffill() or obj.bfill() instead.\n",
      "  historical_data.fillna(method=\"bfill\", inplace=True)  # Backward fill\n"
     ]
    }
   ],
   "source": [
    "from merlion.models.forecast.deep_ar import DeepARForecaster, DeepARConfig\n",
    "from merlion.utils import TimeSeries\n",
    "import pandas as pd\n",
    "import matplotlib.pyplot as plt\n",
    "\n",
    "historical_data.index = historical_data.index.tz_localize(None)\n",
    "\n",
    "print(\"Missing values:\", historical_data.isnull().sum())\n",
    "\n",
    "historical_data.fillna(method=\"ffill\", inplace=True)  # Forward fill\n",
    "historical_data.fillna(method=\"bfill\", inplace=True)  # Backward fill\n",
    "historical_data.dropna(inplace=True)\n",
    "\n",
    "time_series = TimeSeries.from_pd(historical_data)\n",
    "\n",
    "print(\"Time series data:\")\n",
    "print(time_series.to_pd().head())\n",
    "print(\"Time series shape:\", time_series.to_pd().shape)\n"
   ]
  },
  {
   "cell_type": "code",
   "execution_count": 10,
   "id": "c7482e9b-31ad-46d0-b9a6-d4c6e4c4f409",
   "metadata": {},
   "outputs": [
    {
     "name": "stdout",
     "output_type": "stream",
     "text": [
      " |========================================| 100.0% Train Loss:  0.0985, Validation Loss:  0.0623\n",
      "Training complete!\n"
     ]
    }
   ],
   "source": [
    "config = DeepARConfig(\n",
    "    n_past=7,              \n",
    "    max_forecast_steps=14,  \n",
    "    target_seq_index=0,     # Use the first column as the target (close_price)\n",
    "    hidden_size=100,        \n",
    "    num_layers=2,          \n",
    "    learning_rate=0.0001,   \n",
    "    batch_size=16,\n",
    "    num_epochs=11\n",
    ")\n",
    "model = DeepARForecaster(config=config)\n",
    "train_result = model.train(time_series)\n",
    "print(\"Training complete!\")"
   ]
  },
  {
   "cell_type": "code",
   "execution_count": 11,
   "id": "f15cac50-761d-462d-913e-2f4fb5fc266c",
   "metadata": {},
   "outputs": [
    {
     "name": "stdout",
     "output_type": "stream",
     "text": [
      "                     close_price\n",
      "time                            \n",
      "2025-01-19 00:55:00   225.161250\n",
      "2025-01-20 00:55:00   232.026904\n",
      "2025-01-21 00:55:00   225.882582\n",
      "2025-01-22 00:55:00   219.733415\n",
      "2025-01-23 00:55:00   225.941824\n",
      "2025-01-24 00:55:00   233.804547\n",
      "2025-01-25 00:55:00   218.721628\n",
      "2025-01-26 00:55:00   228.193831\n",
      "2025-01-27 00:55:00   228.034545\n",
      "2025-01-28 00:55:00   224.436516\n",
      "2025-01-29 00:55:00   218.425966\n",
      "2025-01-30 00:55:00   222.059477\n",
      "2025-01-31 00:55:00   239.534681\n",
      "2025-02-01 00:55:00   223.203150\n"
     ]
    }
   ],
   "source": [
    "last_timestamp = historical_data.index[-1]\n",
    "future_timestamps = pd.date_range(start=last_timestamp, periods=15, freq=\"D\")[1:]  # Exclude the last historical timestamp\n",
    "forecast, stderr = model.forecast(time_stamps=future_timestamps)\n",
    "forecast_df = forecast.to_pd()\n",
    "print(forecast_df)"
   ]
  },
  {
   "cell_type": "code",
   "execution_count": null,
   "id": "92faf85a-bbcc-4c37-a8ab-996c8d2f899a",
   "metadata": {},
   "outputs": [],
   "source": [
    "from sklearn.metrics import mean_squared_error\n",
    "import numpy as np\n",
    "last_actual_values = historical_data[\"close_price\"].iloc[-7:]\n",
    "last_forecasted_values = forecast_df[\"close_price\"].iloc[:7]\n",
    "if len(last_actual_values) == len(last_forecasted_values):\n",
    "    from sklearn.metrics import mean_absolute_error\n",
    "    mse = mean_absolute_error(last_actual_values, last_forecasted_values)\n",
    "    \n",
    "    forecast_df[\"adjusted_close_price\"] = forecast_df[\"close_price\"] + np.sqrt(mse)\n",
    "\n",
    "    plt.figure(figsize=(12, 6))\n",
    "    plt.plot(historical_data.index, historical_data[\"close_price\"], label=\"Historical Data\")\n",
    "    plt.plot(forecast_df.index, forecast_df[\"adjusted_close_price\"], label=\"Adjusted Forecasted Data\", linestyle=\"--\")\n",
    "    plt.xlabel(\"Time\")\n",
    "    plt.ylabel(\"Close Price\")\n",
    "    plt.title(f\"Stock Price Forecast using DeepARForecaster (Adjusted with MSE: {mse:.2f})\")\n",
    "    plt.legend()\n",
    "    plt.show()\n",
    "else:\n",
    "    print(\"The length of the last actual values and forecasted values do not match.\")\n"
   ]
  },
  {
   "cell_type": "code",
   "execution_count": 14,
   "id": "e8e7cbb3-1a6e-4986-80c3-3af5604e4579",
   "metadata": {},
   "outputs": [
    {
     "name": "stdout",
     "output_type": "stream",
     "text": [
      "                     close_price  adjusted_close_price\n",
      "time                                                  \n",
      "2025-01-19 00:55:00   225.161250            228.053526\n",
      "2025-01-20 00:55:00   232.026904            234.919180\n",
      "2025-01-21 00:55:00   225.882582            228.774859\n",
      "2025-01-22 00:55:00   219.733415            222.625692\n",
      "2025-01-23 00:55:00   225.941824            228.834100\n",
      "2025-01-24 00:55:00   233.804547            236.696824\n",
      "2025-01-25 00:55:00   218.721628            221.613905\n",
      "2025-01-26 00:55:00   228.193831            231.086107\n",
      "2025-01-27 00:55:00   228.034545            230.926822\n",
      "2025-01-28 00:55:00   224.436516            227.328792\n",
      "2025-01-29 00:55:00   218.425966            221.318242\n",
      "2025-01-30 00:55:00   222.059477            224.951754\n",
      "2025-01-31 00:55:00   239.534681            242.426957\n",
      "2025-02-01 00:55:00   223.203150            226.095427\n"
     ]
    }
   ],
   "source": [
    "print(forecast_df)"
   ]
  }
 ],
 "metadata": {
  "kernelspec": {
   "display_name": "Python 3 (ipykernel)",
   "language": "python",
   "name": "python3"
  },
  "language_info": {
   "codemirror_mode": {
    "name": "ipython",
    "version": 3
   },
   "file_extension": ".py",
   "mimetype": "text/x-python",
   "name": "python",
   "nbconvert_exporter": "python",
   "pygments_lexer": "ipython3",
   "version": "3.11.11"
  }
 },
 "nbformat": 4,
 "nbformat_minor": 5
}
