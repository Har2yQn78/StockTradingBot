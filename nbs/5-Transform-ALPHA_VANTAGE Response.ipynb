{
 "cells": [
  {
   "cell_type": "code",
   "execution_count": 21,
   "id": "0b975197-fef3-41a6-922a-f0ea4e239872",
   "metadata": {},
   "outputs": [
    {
     "name": "stdout",
     "output_type": "stream",
     "text": [
      "Current Working Directory: /\n",
      "Files in Current Directory: ['media', 'dev', 'sys', 'root', 'bin', 'lost+found', 'run', 'boot', 'usr', 'etc', 'var', 'opt', 'mnt', 'srv', 'lib', 'snap', 'home', 'Docker', 'init', 'lib32', 'proc', 'libx32', 'sbin', 'lib64', 'tmp']\n"
     ]
    }
   ],
   "source": [
    "from decouple import config, AutoConfig\n",
    "import os\n",
    "import requests\n",
    "os.chdir(\"../\")\n",
    "print(\"Current Working Directory:\", os.getcwd())\n",
    "print(\"Files in Current Directory:\", os.listdir(os.getcwd()))\n",
    "config = AutoConfig(search_path=\"/home/harry/StockTradingbot\") "
   ]
  },
  {
   "cell_type": "code",
   "execution_count": 22,
   "id": "f489eaad-10ca-46d0-84b8-150183a05288",
   "metadata": {},
   "outputs": [],
   "source": [
    "ALPHA_VANTAGE_API_KEY =  config(\"ALPHA_VANTAGE_API_KEY\", default=None, cast=str)"
   ]
  },
  {
   "cell_type": "code",
   "execution_count": 23,
   "id": "c8588eb7-fcfd-4e4e-b4ce-039aea86d892",
   "metadata": {},
   "outputs": [
    {
     "data": {
      "text/plain": [
       "'SNCFS0TQWEYDXJLH'"
      ]
     },
     "execution_count": 23,
     "metadata": {},
     "output_type": "execute_result"
    }
   ],
   "source": [
    "ALPHA_VANTAGE_API_KEY"
   ]
  },
  {
   "cell_type": "code",
   "execution_count": 18,
   "id": "623a058f-e004-41da-a52b-ab7bdbb49591",
   "metadata": {
    "scrolled": true
   },
   "outputs": [],
   "source": [
    "# replace the \"demo\" apikey below with your own key from https://www.alphavantage.co/support/#api-key\n",
    "api_key = ALPHA_VANTAGE_API_KEY  # Replace with your actual API key\n",
    "params = {\n",
    "    \"function\": \"TIME_SERIES_INTRADAY\",\n",
    "    \"ticker\": \"AAPL\",\n",
    "    \"interval\": \"1min\",\n",
    "    \"apikey\": ALPHA_VANTAGE_API_KEY\n",
    "}\n",
    "\n",
    "url = 'https://www.alphavantage.co/query?function={function}&symbol={ticker}&interval={interval}&apikey={apikey}'.format(\n",
    "    **params\n",
    ")\n",
    "r = requests.get(url)\n",
    "data = r.json()"
   ]
  },
  {
   "cell_type": "code",
   "execution_count": 40,
   "id": "f0569ef0-2626-41d2-bebe-85f7be902e48",
   "metadata": {},
   "outputs": [
    {
     "data": {
      "text/plain": [
       "'Time Series (1min)'"
      ]
     },
     "execution_count": 40,
     "metadata": {},
     "output_type": "execute_result"
    }
   ],
   "source": [
    "dataset_key = [x for x in list(data.keys()) if not x.lower() == \"meta data\"][0]\n",
    "dataset_key"
   ]
  },
  {
   "cell_type": "code",
   "execution_count": 41,
   "id": "83274d57-911f-4459-8882-01ed7450a5e2",
   "metadata": {},
   "outputs": [],
   "source": [
    "results = data[dataset_key] #dict\n",
    "#for timestamp_str in results.keys():\n",
    "#    print(timestamp_str, results.get(timestamp_str))"
   ]
  },
  {
   "cell_type": "code",
   "execution_count": 42,
   "id": "8b95733c-0624-41d5-a5a2-318bcf08a506",
   "metadata": {},
   "outputs": [
    {
     "data": {
      "text/plain": [
       "'2025-01-03 19:59:00'"
      ]
     },
     "execution_count": 42,
     "metadata": {},
     "output_type": "execute_result"
    }
   ],
   "source": [
    "timestamp_str = list(results.keys())[0]\n",
    "timestamp_str"
   ]
  },
  {
   "cell_type": "code",
   "execution_count": 43,
   "id": "66757a8a-6dd1-433f-8b6a-38a45af952f9",
   "metadata": {},
   "outputs": [
    {
     "data": {
      "text/plain": [
       "{'1. open': '243.3600',\n",
       " '2. high': '243.4000',\n",
       " '3. low': '243.3300',\n",
       " '4. close': '243.3500',\n",
       " '5. volume': '661'}"
      ]
     },
     "execution_count": 43,
     "metadata": {},
     "output_type": "execute_result"
    }
   ],
   "source": [
    "result_value = results.get(timestamp_str)\n",
    "result_value"
   ]
  },
  {
   "cell_type": "code",
   "execution_count": 44,
   "id": "569cff85-060a-43e1-9164-99ced8d41ebe",
   "metadata": {},
   "outputs": [],
   "source": [
    "from datetime import datetime\n",
    "from decimal import Decimal\n",
    "import pytz \n",
    "\n",
    "def transfor_alpha_vantage_result(timestamp_str, result):\n",
    "    timestamp_format = '%Y-%m-%d %H:%M:%S'\n",
    "    eastern = pytz.timezone(\"US/Eastern\")\n",
    "    utc = pytz.utc\n",
    "    timestamp = eastern.localize(datetime.strptime(timestamp_str, timestamp_format)).astimezone(utc)\n",
    "    # unix_timestamp = result.get('t') / 1000.0\n",
    "    # utc_timestamp = datetime.fromtimestamp(unix_timestamp, tz=pytz.timezone('UTC'))\n",
    "    return{\n",
    "         'open_price': Decimal(result['1. open']),\n",
    "         'close_price': Decimal(result['3. low']),\n",
    "         'high_price': Decimal(result['2. high']),\n",
    "         'low_price': Decimal(result['3. low']),\n",
    "         'volume': int(result['5. volume']),\n",
    "         'number_of_trades': None,\n",
    "         'volume_weighted_average': None,\n",
    "         'time': timestamp,\n",
    "}"
   ]
  },
  {
   "cell_type": "code",
   "execution_count": 45,
   "id": "a9700534-80ab-47b1-8964-63aa8ce629cb",
   "metadata": {},
   "outputs": [
    {
     "data": {
      "text/plain": [
       "{'open_price': Decimal('243.3600'),\n",
       " 'close_price': Decimal('243.3300'),\n",
       " 'high_price': Decimal('243.4000'),\n",
       " 'low_price': Decimal('243.3300'),\n",
       " 'volume': 661,\n",
       " 'number_of_trades': None,\n",
       " 'volume_weighted_average': None,\n",
       " 'time': datetime.datetime(2025, 1, 4, 0, 59, tzinfo=<UTC>)}"
      ]
     },
     "execution_count": 45,
     "metadata": {},
     "output_type": "execute_result"
    }
   ],
   "source": [
    "transfor_alpha_vantage_result(timestamp_str, result_value)"
   ]
  },
  {
   "cell_type": "code",
   "execution_count": 46,
   "id": "0f6d44cc-d692-492b-a125-e04c785190b8",
   "metadata": {},
   "outputs": [
    {
     "name": "stdout",
     "output_type": "stream",
     "text": [
      "{'open_price': Decimal('243.3600'), 'close_price': Decimal('243.3300'), 'high_price': Decimal('243.4000'), 'low_price': Decimal('243.3300'), 'volume': 661, 'number_of_trades': None, 'volume_weighted_average': None, 'time': datetime.datetime(2025, 1, 4, 0, 59, tzinfo=<UTC>)}\n",
      "{'open_price': Decimal('243.3500'), 'close_price': Decimal('243.3000'), 'high_price': Decimal('243.3600'), 'low_price': Decimal('243.3000'), 'volume': 169, 'number_of_trades': None, 'volume_weighted_average': None, 'time': datetime.datetime(2025, 1, 4, 0, 58, tzinfo=<UTC>)}\n",
      "{'open_price': Decimal('243.3000'), 'close_price': Decimal('243.3000'), 'high_price': Decimal('243.3500'), 'low_price': Decimal('243.3000'), 'volume': 604, 'number_of_trades': None, 'volume_weighted_average': None, 'time': datetime.datetime(2025, 1, 4, 0, 57, tzinfo=<UTC>)}\n",
      "{'open_price': Decimal('243.3200'), 'close_price': Decimal('243.3000'), 'high_price': Decimal('243.3500'), 'low_price': Decimal('243.3000'), 'volume': 2270, 'number_of_trades': None, 'volume_weighted_average': None, 'time': datetime.datetime(2025, 1, 4, 0, 56, tzinfo=<UTC>)}\n",
      "{'open_price': Decimal('243.3250'), 'close_price': Decimal('243.3000'), 'high_price': Decimal('243.3500'), 'low_price': Decimal('243.3000'), 'volume': 91, 'number_of_trades': None, 'volume_weighted_average': None, 'time': datetime.datetime(2025, 1, 4, 0, 55, tzinfo=<UTC>)}\n",
      "{'open_price': Decimal('243.3400'), 'close_price': Decimal('243.3000'), 'high_price': Decimal('243.3500'), 'low_price': Decimal('243.3000'), 'volume': 82, 'number_of_trades': None, 'volume_weighted_average': None, 'time': datetime.datetime(2025, 1, 4, 0, 54, tzinfo=<UTC>)}\n",
      "{'open_price': Decimal('243.3500'), 'close_price': Decimal('243.3000'), 'high_price': Decimal('243.3500'), 'low_price': Decimal('243.3000'), 'volume': 80, 'number_of_trades': None, 'volume_weighted_average': None, 'time': datetime.datetime(2025, 1, 4, 0, 53, tzinfo=<UTC>)}\n",
      "{'open_price': Decimal('243.3300'), 'close_price': Decimal('243.3250'), 'high_price': Decimal('243.3600'), 'low_price': Decimal('243.3250'), 'volume': 77, 'number_of_trades': None, 'volume_weighted_average': None, 'time': datetime.datetime(2025, 1, 4, 0, 52, tzinfo=<UTC>)}\n",
      "{'open_price': Decimal('243.2900'), 'close_price': Decimal('243.2850'), 'high_price': Decimal('243.3600'), 'low_price': Decimal('243.2850'), 'volume': 70, 'number_of_trades': None, 'volume_weighted_average': None, 'time': datetime.datetime(2025, 1, 4, 0, 51, tzinfo=<UTC>)}\n",
      "{'open_price': Decimal('243.2800'), 'close_price': Decimal('243.2500'), 'high_price': Decimal('243.3600'), 'low_price': Decimal('243.2500'), 'volume': 121, 'number_of_trades': None, 'volume_weighted_average': None, 'time': datetime.datetime(2025, 1, 4, 0, 50, tzinfo=<UTC>)}\n",
      "{'open_price': Decimal('243.2800'), 'close_price': Decimal('243.2000'), 'high_price': Decimal('243.3500'), 'low_price': Decimal('243.2000'), 'volume': 93, 'number_of_trades': None, 'volume_weighted_average': None, 'time': datetime.datetime(2025, 1, 4, 0, 49, tzinfo=<UTC>)}\n",
      "{'open_price': Decimal('243.3000'), 'close_price': Decimal('243.2650'), 'high_price': Decimal('243.3400'), 'low_price': Decimal('243.2650'), 'volume': 31, 'number_of_trades': None, 'volume_weighted_average': None, 'time': datetime.datetime(2025, 1, 4, 0, 48, tzinfo=<UTC>)}\n",
      "{'open_price': Decimal('243.3000'), 'close_price': Decimal('243.2000'), 'high_price': Decimal('243.3500'), 'low_price': Decimal('243.2000'), 'volume': 1233, 'number_of_trades': None, 'volume_weighted_average': None, 'time': datetime.datetime(2025, 1, 4, 0, 47, tzinfo=<UTC>)}\n",
      "{'open_price': Decimal('243.3600'), 'close_price': Decimal('243.2800'), 'high_price': Decimal('243.3600'), 'low_price': Decimal('243.2800'), 'volume': 360, 'number_of_trades': None, 'volume_weighted_average': None, 'time': datetime.datetime(2025, 1, 4, 0, 46, tzinfo=<UTC>)}\n",
      "{'open_price': Decimal('243.3600'), 'close_price': Decimal('243.2500'), 'high_price': Decimal('243.3600'), 'low_price': Decimal('243.2500'), 'volume': 260, 'number_of_trades': None, 'volume_weighted_average': None, 'time': datetime.datetime(2025, 1, 4, 0, 45, tzinfo=<UTC>)}\n",
      "{'open_price': Decimal('243.2700'), 'close_price': Decimal('243.2700'), 'high_price': Decimal('243.3600'), 'low_price': Decimal('243.2700'), 'volume': 28, 'number_of_trades': None, 'volume_weighted_average': None, 'time': datetime.datetime(2025, 1, 4, 0, 44, tzinfo=<UTC>)}\n",
      "{'open_price': Decimal('243.2000'), 'close_price': Decimal('243.2000'), 'high_price': Decimal('243.3500'), 'low_price': Decimal('243.2000'), 'volume': 419, 'number_of_trades': None, 'volume_weighted_average': None, 'time': datetime.datetime(2025, 1, 4, 0, 43, tzinfo=<UTC>)}\n",
      "{'open_price': Decimal('243.2400'), 'close_price': Decimal('243.2193'), 'high_price': Decimal('243.3600'), 'low_price': Decimal('243.2193'), 'volume': 645, 'number_of_trades': None, 'volume_weighted_average': None, 'time': datetime.datetime(2025, 1, 4, 0, 42, tzinfo=<UTC>)}\n",
      "{'open_price': Decimal('243.2382'), 'close_price': Decimal('243.1700'), 'high_price': Decimal('243.2400'), 'low_price': Decimal('243.1700'), 'volume': 252, 'number_of_trades': None, 'volume_weighted_average': None, 'time': datetime.datetime(2025, 1, 4, 0, 41, tzinfo=<UTC>)}\n",
      "{'open_price': Decimal('243.2400'), 'close_price': Decimal('243.1700'), 'high_price': Decimal('243.2400'), 'low_price': Decimal('243.1700'), 'volume': 28, 'number_of_trades': None, 'volume_weighted_average': None, 'time': datetime.datetime(2025, 1, 4, 0, 40, tzinfo=<UTC>)}\n",
      "{'open_price': Decimal('243.1850'), 'close_price': Decimal('243.1700'), 'high_price': Decimal('243.2000'), 'low_price': Decimal('243.1700'), 'volume': 976, 'number_of_trades': None, 'volume_weighted_average': None, 'time': datetime.datetime(2025, 1, 4, 0, 39, tzinfo=<UTC>)}\n",
      "{'open_price': Decimal('243.1900'), 'close_price': Decimal('243.1700'), 'high_price': Decimal('243.2000'), 'low_price': Decimal('243.1700'), 'volume': 321, 'number_of_trades': None, 'volume_weighted_average': None, 'time': datetime.datetime(2025, 1, 4, 0, 38, tzinfo=<UTC>)}\n",
      "{'open_price': Decimal('243.1850'), 'close_price': Decimal('243.1700'), 'high_price': Decimal('243.2000'), 'low_price': Decimal('243.1700'), 'volume': 820, 'number_of_trades': None, 'volume_weighted_average': None, 'time': datetime.datetime(2025, 1, 4, 0, 37, tzinfo=<UTC>)}\n",
      "{'open_price': Decimal('243.2000'), 'close_price': Decimal('243.1701'), 'high_price': Decimal('243.2200'), 'low_price': Decimal('243.1701'), 'volume': 476, 'number_of_trades': None, 'volume_weighted_average': None, 'time': datetime.datetime(2025, 1, 4, 0, 36, tzinfo=<UTC>)}\n",
      "{'open_price': Decimal('243.2100'), 'close_price': Decimal('243.2000'), 'high_price': Decimal('243.2200'), 'low_price': Decimal('243.2000'), 'volume': 676, 'number_of_trades': None, 'volume_weighted_average': None, 'time': datetime.datetime(2025, 1, 4, 0, 35, tzinfo=<UTC>)}\n",
      "{'open_price': Decimal('243.2398'), 'close_price': Decimal('243.2000'), 'high_price': Decimal('243.2398'), 'low_price': Decimal('243.2000'), 'volume': 37, 'number_of_trades': None, 'volume_weighted_average': None, 'time': datetime.datetime(2025, 1, 4, 0, 34, tzinfo=<UTC>)}\n",
      "{'open_price': Decimal('243.2500'), 'close_price': Decimal('243.2000'), 'high_price': Decimal('243.2500'), 'low_price': Decimal('243.2000'), 'volume': 921, 'number_of_trades': None, 'volume_weighted_average': None, 'time': datetime.datetime(2025, 1, 4, 0, 33, tzinfo=<UTC>)}\n",
      "{'open_price': Decimal('243.2500'), 'close_price': Decimal('243.2250'), 'high_price': Decimal('243.2500'), 'low_price': Decimal('243.2250'), 'volume': 138, 'number_of_trades': None, 'volume_weighted_average': None, 'time': datetime.datetime(2025, 1, 4, 0, 32, tzinfo=<UTC>)}\n",
      "{'open_price': Decimal('243.3000'), 'close_price': Decimal('243.2000'), 'high_price': Decimal('243.3000'), 'low_price': Decimal('243.2000'), 'volume': 235, 'number_of_trades': None, 'volume_weighted_average': None, 'time': datetime.datetime(2025, 1, 4, 0, 31, tzinfo=<UTC>)}\n",
      "{'open_price': Decimal('243.2500'), 'close_price': Decimal('243.2000'), 'high_price': Decimal('243.3000'), 'low_price': Decimal('243.2000'), 'volume': 51, 'number_of_trades': None, 'volume_weighted_average': None, 'time': datetime.datetime(2025, 1, 4, 0, 30, tzinfo=<UTC>)}\n",
      "{'open_price': Decimal('243.2500'), 'close_price': Decimal('243.2000'), 'high_price': Decimal('243.3000'), 'low_price': Decimal('243.2000'), 'volume': 73, 'number_of_trades': None, 'volume_weighted_average': None, 'time': datetime.datetime(2025, 1, 4, 0, 29, tzinfo=<UTC>)}\n",
      "{'open_price': Decimal('243.2350'), 'close_price': Decimal('243.2350'), 'high_price': Decimal('243.3000'), 'low_price': Decimal('243.2350'), 'volume': 244, 'number_of_trades': None, 'volume_weighted_average': None, 'time': datetime.datetime(2025, 1, 4, 0, 28, tzinfo=<UTC>)}\n",
      "{'open_price': Decimal('243.2700'), 'close_price': Decimal('243.1700'), 'high_price': Decimal('243.3000'), 'low_price': Decimal('243.1700'), 'volume': 205, 'number_of_trades': None, 'volume_weighted_average': None, 'time': datetime.datetime(2025, 1, 4, 0, 27, tzinfo=<UTC>)}\n",
      "{'open_price': Decimal('243.2350'), 'close_price': Decimal('243.2200'), 'high_price': Decimal('243.3000'), 'low_price': Decimal('243.2200'), 'volume': 11, 'number_of_trades': None, 'volume_weighted_average': None, 'time': datetime.datetime(2025, 1, 4, 0, 26, tzinfo=<UTC>)}\n",
      "{'open_price': Decimal('243.2500'), 'close_price': Decimal('243.1700'), 'high_price': Decimal('243.3000'), 'low_price': Decimal('243.1700'), 'volume': 599, 'number_of_trades': None, 'volume_weighted_average': None, 'time': datetime.datetime(2025, 1, 4, 0, 25, tzinfo=<UTC>)}\n",
      "{'open_price': Decimal('243.3000'), 'close_price': Decimal('243.2000'), 'high_price': Decimal('243.3000'), 'low_price': Decimal('243.2000'), 'volume': 299, 'number_of_trades': None, 'volume_weighted_average': None, 'time': datetime.datetime(2025, 1, 4, 0, 24, tzinfo=<UTC>)}\n",
      "{'open_price': Decimal('243.2500'), 'close_price': Decimal('243.2000'), 'high_price': Decimal('243.3000'), 'low_price': Decimal('243.2000'), 'volume': 223, 'number_of_trades': None, 'volume_weighted_average': None, 'time': datetime.datetime(2025, 1, 4, 0, 23, tzinfo=<UTC>)}\n",
      "{'open_price': Decimal('243.2100'), 'close_price': Decimal('243.1900'), 'high_price': Decimal('243.3000'), 'low_price': Decimal('243.1900'), 'volume': 302, 'number_of_trades': None, 'volume_weighted_average': None, 'time': datetime.datetime(2025, 1, 4, 0, 22, tzinfo=<UTC>)}\n",
      "{'open_price': Decimal('243.2450'), 'close_price': Decimal('243.1900'), 'high_price': Decimal('243.3000'), 'low_price': Decimal('243.1900'), 'volume': 920, 'number_of_trades': None, 'volume_weighted_average': None, 'time': datetime.datetime(2025, 1, 4, 0, 21, tzinfo=<UTC>)}\n",
      "{'open_price': Decimal('243.2200'), 'close_price': Decimal('243.1900'), 'high_price': Decimal('243.3000'), 'low_price': Decimal('243.1900'), 'volume': 440, 'number_of_trades': None, 'volume_weighted_average': None, 'time': datetime.datetime(2025, 1, 4, 0, 20, tzinfo=<UTC>)}\n",
      "{'open_price': Decimal('243.2200'), 'close_price': Decimal('243.1900'), 'high_price': Decimal('243.2500'), 'low_price': Decimal('243.1900'), 'volume': 130, 'number_of_trades': None, 'volume_weighted_average': None, 'time': datetime.datetime(2025, 1, 4, 0, 19, tzinfo=<UTC>)}\n",
      "{'open_price': Decimal('243.2450'), 'close_price': Decimal('243.2200'), 'high_price': Decimal('243.3000'), 'low_price': Decimal('243.2200'), 'volume': 19, 'number_of_trades': None, 'volume_weighted_average': None, 'time': datetime.datetime(2025, 1, 4, 0, 18, tzinfo=<UTC>)}\n",
      "{'open_price': Decimal('243.2450'), 'close_price': Decimal('243.1900'), 'high_price': Decimal('243.3000'), 'low_price': Decimal('243.1900'), 'volume': 141, 'number_of_trades': None, 'volume_weighted_average': None, 'time': datetime.datetime(2025, 1, 4, 0, 17, tzinfo=<UTC>)}\n",
      "{'open_price': Decimal('243.2500'), 'close_price': Decimal('243.1900'), 'high_price': Decimal('243.3000'), 'low_price': Decimal('243.1900'), 'volume': 330, 'number_of_trades': None, 'volume_weighted_average': None, 'time': datetime.datetime(2025, 1, 4, 0, 16, tzinfo=<UTC>)}\n",
      "{'open_price': Decimal('243.2400'), 'close_price': Decimal('243.2350'), 'high_price': Decimal('243.2700'), 'low_price': Decimal('243.2350'), 'volume': 70, 'number_of_trades': None, 'volume_weighted_average': None, 'time': datetime.datetime(2025, 1, 4, 0, 15, tzinfo=<UTC>)}\n",
      "{'open_price': Decimal('243.3000'), 'close_price': Decimal('243.1700'), 'high_price': Decimal('243.3000'), 'low_price': Decimal('243.1700'), 'volume': 497, 'number_of_trades': None, 'volume_weighted_average': None, 'time': datetime.datetime(2025, 1, 4, 0, 14, tzinfo=<UTC>)}\n",
      "{'open_price': Decimal('243.1803'), 'close_price': Decimal('243.1700'), 'high_price': Decimal('243.3000'), 'low_price': Decimal('243.1700'), 'volume': 358, 'number_of_trades': None, 'volume_weighted_average': None, 'time': datetime.datetime(2025, 1, 4, 0, 13, tzinfo=<UTC>)}\n",
      "{'open_price': Decimal('243.2350'), 'close_price': Decimal('243.1700'), 'high_price': Decimal('243.3000'), 'low_price': Decimal('243.1700'), 'volume': 60, 'number_of_trades': None, 'volume_weighted_average': None, 'time': datetime.datetime(2025, 1, 4, 0, 12, tzinfo=<UTC>)}\n",
      "{'open_price': Decimal('243.3000'), 'close_price': Decimal('243.1700'), 'high_price': Decimal('243.3000'), 'low_price': Decimal('243.1700'), 'volume': 26, 'number_of_trades': None, 'volume_weighted_average': None, 'time': datetime.datetime(2025, 1, 4, 0, 11, tzinfo=<UTC>)}\n",
      "{'open_price': Decimal('243.2800'), 'close_price': Decimal('243.1700'), 'high_price': Decimal('243.3000'), 'low_price': Decimal('243.1700'), 'volume': 196, 'number_of_trades': None, 'volume_weighted_average': None, 'time': datetime.datetime(2025, 1, 4, 0, 10, tzinfo=<UTC>)}\n",
      "{'open_price': Decimal('243.2350'), 'close_price': Decimal('243.1927'), 'high_price': Decimal('243.3000'), 'low_price': Decimal('243.1927'), 'volume': 32, 'number_of_trades': None, 'volume_weighted_average': None, 'time': datetime.datetime(2025, 1, 4, 0, 9, tzinfo=<UTC>)}\n",
      "{'open_price': Decimal('243.1700'), 'close_price': Decimal('243.1700'), 'high_price': Decimal('243.3000'), 'low_price': Decimal('243.1700'), 'volume': 74, 'number_of_trades': None, 'volume_weighted_average': None, 'time': datetime.datetime(2025, 1, 4, 0, 8, tzinfo=<UTC>)}\n",
      "{'open_price': Decimal('243.2350'), 'close_price': Decimal('243.1967'), 'high_price': Decimal('243.3000'), 'low_price': Decimal('243.1967'), 'volume': 171, 'number_of_trades': None, 'volume_weighted_average': None, 'time': datetime.datetime(2025, 1, 4, 0, 7, tzinfo=<UTC>)}\n",
      "{'open_price': Decimal('243.2350'), 'close_price': Decimal('243.1700'), 'high_price': Decimal('243.3000'), 'low_price': Decimal('243.1700'), 'volume': 75, 'number_of_trades': None, 'volume_weighted_average': None, 'time': datetime.datetime(2025, 1, 4, 0, 6, tzinfo=<UTC>)}\n",
      "{'open_price': Decimal('243.2000'), 'close_price': Decimal('243.1798'), 'high_price': Decimal('243.2500'), 'low_price': Decimal('243.1798'), 'volume': 330, 'number_of_trades': None, 'volume_weighted_average': None, 'time': datetime.datetime(2025, 1, 4, 0, 5, tzinfo=<UTC>)}\n",
      "{'open_price': Decimal('243.2350'), 'close_price': Decimal('243.1700'), 'high_price': Decimal('243.3000'), 'low_price': Decimal('243.1700'), 'volume': 586, 'number_of_trades': None, 'volume_weighted_average': None, 'time': datetime.datetime(2025, 1, 4, 0, 4, tzinfo=<UTC>)}\n",
      "{'open_price': Decimal('243.2300'), 'close_price': Decimal('243.1700'), 'high_price': Decimal('243.3000'), 'low_price': Decimal('243.1700'), 'volume': 199, 'number_of_trades': None, 'volume_weighted_average': None, 'time': datetime.datetime(2025, 1, 4, 0, 3, tzinfo=<UTC>)}\n",
      "{'open_price': Decimal('243.2400'), 'close_price': Decimal('243.0700'), 'high_price': Decimal('243.3000'), 'low_price': Decimal('243.0700'), 'volume': 81, 'number_of_trades': None, 'volume_weighted_average': None, 'time': datetime.datetime(2025, 1, 4, 0, 2, tzinfo=<UTC>)}\n",
      "{'open_price': Decimal('243.2600'), 'close_price': Decimal('243.0700'), 'high_price': Decimal('243.2600'), 'low_price': Decimal('243.0700'), 'volume': 8615, 'number_of_trades': None, 'volume_weighted_average': None, 'time': datetime.datetime(2025, 1, 4, 0, 1, tzinfo=<UTC>)}\n",
      "{'open_price': Decimal('243.2600'), 'close_price': Decimal('243.2200'), 'high_price': Decimal('243.2700'), 'low_price': Decimal('243.2200'), 'volume': 133, 'number_of_trades': None, 'volume_weighted_average': None, 'time': datetime.datetime(2025, 1, 4, 0, 0, tzinfo=<UTC>)}\n",
      "{'open_price': Decimal('243.3000'), 'close_price': Decimal('243.2200'), 'high_price': Decimal('243.3000'), 'low_price': Decimal('243.2200'), 'volume': 82, 'number_of_trades': None, 'volume_weighted_average': None, 'time': datetime.datetime(2025, 1, 3, 23, 59, tzinfo=<UTC>)}\n",
      "{'open_price': Decimal('243.3000'), 'close_price': Decimal('243.2200'), 'high_price': Decimal('243.3000'), 'low_price': Decimal('243.2200'), 'volume': 467, 'number_of_trades': None, 'volume_weighted_average': None, 'time': datetime.datetime(2025, 1, 3, 23, 58, tzinfo=<UTC>)}\n",
      "{'open_price': Decimal('243.2600'), 'close_price': Decimal('243.2200'), 'high_price': Decimal('243.3000'), 'low_price': Decimal('243.2200'), 'volume': 23, 'number_of_trades': None, 'volume_weighted_average': None, 'time': datetime.datetime(2025, 1, 3, 23, 57, tzinfo=<UTC>)}\n",
      "{'open_price': Decimal('243.3000'), 'close_price': Decimal('243.2200'), 'high_price': Decimal('243.3000'), 'low_price': Decimal('243.2200'), 'volume': 160, 'number_of_trades': None, 'volume_weighted_average': None, 'time': datetime.datetime(2025, 1, 3, 23, 56, tzinfo=<UTC>)}\n",
      "{'open_price': Decimal('243.2988'), 'close_price': Decimal('243.2200'), 'high_price': Decimal('243.3000'), 'low_price': Decimal('243.2200'), 'volume': 627, 'number_of_trades': None, 'volume_weighted_average': None, 'time': datetime.datetime(2025, 1, 3, 23, 55, tzinfo=<UTC>)}\n",
      "{'open_price': Decimal('243.3000'), 'close_price': Decimal('243.2500'), 'high_price': Decimal('243.3000'), 'low_price': Decimal('243.2500'), 'volume': 158, 'number_of_trades': None, 'volume_weighted_average': None, 'time': datetime.datetime(2025, 1, 3, 23, 54, tzinfo=<UTC>)}\n",
      "{'open_price': Decimal('243.2991'), 'close_price': Decimal('243.2600'), 'high_price': Decimal('243.3000'), 'low_price': Decimal('243.2600'), 'volume': 124, 'number_of_trades': None, 'volume_weighted_average': None, 'time': datetime.datetime(2025, 1, 3, 23, 53, tzinfo=<UTC>)}\n",
      "{'open_price': Decimal('243.2900'), 'close_price': Decimal('243.2500'), 'high_price': Decimal('243.3000'), 'low_price': Decimal('243.2500'), 'volume': 852, 'number_of_trades': None, 'volume_weighted_average': None, 'time': datetime.datetime(2025, 1, 3, 23, 52, tzinfo=<UTC>)}\n",
      "{'open_price': Decimal('243.3000'), 'close_price': Decimal('243.2800'), 'high_price': Decimal('243.3000'), 'low_price': Decimal('243.2800'), 'volume': 49, 'number_of_trades': None, 'volume_weighted_average': None, 'time': datetime.datetime(2025, 1, 3, 23, 51, tzinfo=<UTC>)}\n",
      "{'open_price': Decimal('243.2711'), 'close_price': Decimal('243.2711'), 'high_price': Decimal('243.3000'), 'low_price': Decimal('243.2711'), 'volume': 151, 'number_of_trades': None, 'volume_weighted_average': None, 'time': datetime.datetime(2025, 1, 3, 23, 50, tzinfo=<UTC>)}\n",
      "{'open_price': Decimal('243.2800'), 'close_price': Decimal('243.2600'), 'high_price': Decimal('243.3000'), 'low_price': Decimal('243.2600'), 'volume': 187, 'number_of_trades': None, 'volume_weighted_average': None, 'time': datetime.datetime(2025, 1, 3, 23, 49, tzinfo=<UTC>)}\n",
      "{'open_price': Decimal('243.3000'), 'close_price': Decimal('243.2700'), 'high_price': Decimal('243.3100'), 'low_price': Decimal('243.2700'), 'volume': 34, 'number_of_trades': None, 'volume_weighted_average': None, 'time': datetime.datetime(2025, 1, 3, 23, 48, tzinfo=<UTC>)}\n",
      "{'open_price': Decimal('243.3100'), 'close_price': Decimal('243.2600'), 'high_price': Decimal('243.3400'), 'low_price': Decimal('243.2600'), 'volume': 371, 'number_of_trades': None, 'volume_weighted_average': None, 'time': datetime.datetime(2025, 1, 3, 23, 47, tzinfo=<UTC>)}\n",
      "{'open_price': Decimal('243.3100'), 'close_price': Decimal('243.2600'), 'high_price': Decimal('243.3600'), 'low_price': Decimal('243.2600'), 'volume': 161, 'number_of_trades': None, 'volume_weighted_average': None, 'time': datetime.datetime(2025, 1, 3, 23, 46, tzinfo=<UTC>)}\n",
      "{'open_price': Decimal('243.3600'), 'close_price': Decimal('243.2600'), 'high_price': Decimal('243.3600'), 'low_price': Decimal('243.2600'), 'volume': 281, 'number_of_trades': None, 'volume_weighted_average': None, 'time': datetime.datetime(2025, 1, 3, 23, 45, tzinfo=<UTC>)}\n",
      "{'open_price': Decimal('243.3400'), 'close_price': Decimal('243.3100'), 'high_price': Decimal('243.3600'), 'low_price': Decimal('243.3100'), 'volume': 43, 'number_of_trades': None, 'volume_weighted_average': None, 'time': datetime.datetime(2025, 1, 3, 23, 44, tzinfo=<UTC>)}\n",
      "{'open_price': Decimal('243.3600'), 'close_price': Decimal('243.2600'), 'high_price': Decimal('243.3600'), 'low_price': Decimal('243.2600'), 'volume': 120, 'number_of_trades': None, 'volume_weighted_average': None, 'time': datetime.datetime(2025, 1, 3, 23, 43, tzinfo=<UTC>)}\n",
      "{'open_price': Decimal('243.3100'), 'close_price': Decimal('243.2602'), 'high_price': Decimal('243.3600'), 'low_price': Decimal('243.2602'), 'volume': 321, 'number_of_trades': None, 'volume_weighted_average': None, 'time': datetime.datetime(2025, 1, 3, 23, 42, tzinfo=<UTC>)}\n",
      "{'open_price': Decimal('243.3600'), 'close_price': Decimal('243.2600'), 'high_price': Decimal('243.3600'), 'low_price': Decimal('243.2600'), 'volume': 458, 'number_of_trades': None, 'volume_weighted_average': None, 'time': datetime.datetime(2025, 1, 3, 23, 41, tzinfo=<UTC>)}\n",
      "{'open_price': Decimal('243.3400'), 'close_price': Decimal('243.3000'), 'high_price': Decimal('243.3600'), 'low_price': Decimal('243.3000'), 'volume': 427, 'number_of_trades': None, 'volume_weighted_average': None, 'time': datetime.datetime(2025, 1, 3, 23, 40, tzinfo=<UTC>)}\n",
      "{'open_price': Decimal('243.3400'), 'close_price': Decimal('243.3200'), 'high_price': Decimal('243.3400'), 'low_price': Decimal('243.3200'), 'volume': 53, 'number_of_trades': None, 'volume_weighted_average': None, 'time': datetime.datetime(2025, 1, 3, 23, 39, tzinfo=<UTC>)}\n",
      "{'open_price': Decimal('243.3400'), 'close_price': Decimal('243.3200'), 'high_price': Decimal('243.3600'), 'low_price': Decimal('243.3200'), 'volume': 79, 'number_of_trades': None, 'volume_weighted_average': None, 'time': datetime.datetime(2025, 1, 3, 23, 38, tzinfo=<UTC>)}\n",
      "{'open_price': Decimal('243.3300'), 'close_price': Decimal('243.3200'), 'high_price': Decimal('243.3600'), 'low_price': Decimal('243.3200'), 'volume': 196, 'number_of_trades': None, 'volume_weighted_average': None, 'time': datetime.datetime(2025, 1, 3, 23, 37, tzinfo=<UTC>)}\n",
      "{'open_price': Decimal('243.3400'), 'close_price': Decimal('243.3200'), 'high_price': Decimal('243.3600'), 'low_price': Decimal('243.3200'), 'volume': 36, 'number_of_trades': None, 'volume_weighted_average': None, 'time': datetime.datetime(2025, 1, 3, 23, 36, tzinfo=<UTC>)}\n",
      "{'open_price': Decimal('243.3400'), 'close_price': Decimal('243.3150'), 'high_price': Decimal('243.3600'), 'low_price': Decimal('243.3150'), 'volume': 778, 'number_of_trades': None, 'volume_weighted_average': None, 'time': datetime.datetime(2025, 1, 3, 23, 35, tzinfo=<UTC>)}\n",
      "{'open_price': Decimal('243.3150'), 'close_price': Decimal('243.2900'), 'high_price': Decimal('243.3400'), 'low_price': Decimal('243.2900'), 'volume': 123, 'number_of_trades': None, 'volume_weighted_average': None, 'time': datetime.datetime(2025, 1, 3, 23, 34, tzinfo=<UTC>)}\n",
      "{'open_price': Decimal('243.3500'), 'close_price': Decimal('243.2900'), 'high_price': Decimal('243.3500'), 'low_price': Decimal('243.2900'), 'volume': 524, 'number_of_trades': None, 'volume_weighted_average': None, 'time': datetime.datetime(2025, 1, 3, 23, 33, tzinfo=<UTC>)}\n",
      "{'open_price': Decimal('243.3250'), 'close_price': Decimal('243.3250'), 'high_price': Decimal('243.3600'), 'low_price': Decimal('243.3250'), 'volume': 134, 'number_of_trades': None, 'volume_weighted_average': None, 'time': datetime.datetime(2025, 1, 3, 23, 32, tzinfo=<UTC>)}\n",
      "{'open_price': Decimal('243.3600'), 'close_price': Decimal('243.2900'), 'high_price': Decimal('243.3600'), 'low_price': Decimal('243.2900'), 'volume': 67, 'number_of_trades': None, 'volume_weighted_average': None, 'time': datetime.datetime(2025, 1, 3, 23, 31, tzinfo=<UTC>)}\n",
      "{'open_price': Decimal('243.3500'), 'close_price': Decimal('243.3070'), 'high_price': Decimal('243.3600'), 'low_price': Decimal('243.3070'), 'volume': 2037, 'number_of_trades': None, 'volume_weighted_average': None, 'time': datetime.datetime(2025, 1, 3, 23, 30, tzinfo=<UTC>)}\n",
      "{'open_price': Decimal('243.3300'), 'close_price': Decimal('243.3000'), 'high_price': Decimal('243.3600'), 'low_price': Decimal('243.3000'), 'volume': 112, 'number_of_trades': None, 'volume_weighted_average': None, 'time': datetime.datetime(2025, 1, 3, 23, 29, tzinfo=<UTC>)}\n",
      "{'open_price': Decimal('243.3487'), 'close_price': Decimal('243.3000'), 'high_price': Decimal('243.3600'), 'low_price': Decimal('243.3000'), 'volume': 195, 'number_of_trades': None, 'volume_weighted_average': None, 'time': datetime.datetime(2025, 1, 3, 23, 28, tzinfo=<UTC>)}\n",
      "{'open_price': Decimal('243.3500'), 'close_price': Decimal('243.3000'), 'high_price': Decimal('243.3500'), 'low_price': Decimal('243.3000'), 'volume': 979, 'number_of_trades': None, 'volume_weighted_average': None, 'time': datetime.datetime(2025, 1, 3, 23, 27, tzinfo=<UTC>)}\n",
      "{'open_price': Decimal('243.3500'), 'close_price': Decimal('243.3000'), 'high_price': Decimal('243.3500'), 'low_price': Decimal('243.3000'), 'volume': 64, 'number_of_trades': None, 'volume_weighted_average': None, 'time': datetime.datetime(2025, 1, 3, 23, 26, tzinfo=<UTC>)}\n",
      "{'open_price': Decimal('243.3300'), 'close_price': Decimal('243.3000'), 'high_price': Decimal('243.3600'), 'low_price': Decimal('243.3000'), 'volume': 174, 'number_of_trades': None, 'volume_weighted_average': None, 'time': datetime.datetime(2025, 1, 3, 23, 25, tzinfo=<UTC>)}\n",
      "{'open_price': Decimal('243.3500'), 'close_price': Decimal('243.3000'), 'high_price': Decimal('243.3600'), 'low_price': Decimal('243.3000'), 'volume': 211, 'number_of_trades': None, 'volume_weighted_average': None, 'time': datetime.datetime(2025, 1, 3, 23, 24, tzinfo=<UTC>)}\n",
      "{'open_price': Decimal('243.2900'), 'close_price': Decimal('243.2900'), 'high_price': Decimal('243.3600'), 'low_price': Decimal('243.2900'), 'volume': 185, 'number_of_trades': None, 'volume_weighted_average': None, 'time': datetime.datetime(2025, 1, 3, 23, 23, tzinfo=<UTC>)}\n",
      "{'open_price': Decimal('243.3100'), 'close_price': Decimal('243.2200'), 'high_price': Decimal('243.3600'), 'low_price': Decimal('243.2200'), 'volume': 146, 'number_of_trades': None, 'volume_weighted_average': None, 'time': datetime.datetime(2025, 1, 3, 23, 22, tzinfo=<UTC>)}\n",
      "{'open_price': Decimal('243.2201'), 'close_price': Decimal('243.2201'), 'high_price': Decimal('243.3600'), 'low_price': Decimal('243.2201'), 'volume': 157, 'number_of_trades': None, 'volume_weighted_average': None, 'time': datetime.datetime(2025, 1, 3, 23, 21, tzinfo=<UTC>)}\n",
      "{'open_price': Decimal('243.2800'), 'close_price': Decimal('243.2100'), 'high_price': Decimal('243.3600'), 'low_price': Decimal('243.2100'), 'volume': 496, 'number_of_trades': None, 'volume_weighted_average': None, 'time': datetime.datetime(2025, 1, 3, 23, 20, tzinfo=<UTC>)}\n"
     ]
    }
   ],
   "source": [
    "for timestamp_str in results.keys():\n",
    "    new_data = transfor_alpha_vantage_result(timestamp_str, results.get(timestamp_str))\n",
    "    print(new_data)"
   ]
  },
  {
   "cell_type": "code",
   "execution_count": null,
   "id": "5dc9e3dd-4b3f-4cfa-aeb5-c18b01ae2a90",
   "metadata": {},
   "outputs": [],
   "source": []
  }
 ],
 "metadata": {
  "kernelspec": {
   "display_name": "Python 3 (ipykernel)",
   "language": "python",
   "name": "python3"
  },
  "language_info": {
   "codemirror_mode": {
    "name": "ipython",
    "version": 3
   },
   "file_extension": ".py",
   "mimetype": "text/x-python",
   "name": "python",
   "nbconvert_exporter": "python",
   "pygments_lexer": "ipython3",
   "version": "3.8.10"
  }
 },
 "nbformat": 4,
 "nbformat_minor": 5
}
