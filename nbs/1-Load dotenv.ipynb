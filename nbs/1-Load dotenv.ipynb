{
 "cells": [
  {
   "cell_type": "code",
   "execution_count": 13,
   "id": "0b975197-fef3-41a6-922a-f0ea4e239872",
   "metadata": {},
   "outputs": [],
   "source": [
    "import os\n",
    "os.chdir(\"../\")"
   ]
  },
  {
   "cell_type": "code",
   "execution_count": 16,
   "id": "4e3596a2-534c-49ff-8d34-a415f230bdb9",
   "metadata": {},
   "outputs": [
    {
     "name": "stdout",
     "output_type": "stream",
     "text": [
      "C:\\Users\\HARRY\\Desktop\\StockTradingbot\n"
     ]
    }
   ],
   "source": [
    "import os\n",
    "print(os.getcwd())\n"
   ]
  },
  {
   "cell_type": "code",
   "execution_count": 30,
   "id": "2c031db0-8c1d-4dae-86c0-b0042dd05265",
   "metadata": {},
   "outputs": [],
   "source": [
    "from decouple import AutoConfig\n",
    "config = AutoConfig(search_path=\"C:/Users/HARRY/Desktop/StockTradingbot\")"
   ]
  },
  {
   "cell_type": "code",
   "execution_count": 35,
   "id": "f489eaad-10ca-46d0-84b8-150183a05288",
   "metadata": {},
   "outputs": [],
   "source": [
    "assert config(\"ALPHA_VANTAGE_API_KEY\", default=None, cast=str) is not None"
   ]
  },
  {
   "cell_type": "code",
   "execution_count": 36,
   "id": "c8588eb7-fcfd-4e4e-b4ce-039aea86d892",
   "metadata": {},
   "outputs": [],
   "source": [
    "assert config(\"POLOGYON_API_KEY\", default=None, cast=str) is not None"
   ]
  },
  {
   "cell_type": "code",
   "execution_count": null,
   "id": "623a058f-e004-41da-a52b-ab7bdbb49591",
   "metadata": {},
   "outputs": [],
   "source": []
  }
 ],
 "metadata": {
  "kernelspec": {
   "display_name": "Python 3 (ipykernel)",
   "language": "python",
   "name": "python3"
  },
  "language_info": {
   "codemirror_mode": {
    "name": "ipython",
    "version": 3
   },
   "file_extension": ".py",
   "mimetype": "text/x-python",
   "name": "python",
   "nbconvert_exporter": "python",
   "pygments_lexer": "ipython3",
   "version": "3.12.5"
  }
 },
 "nbformat": 4,
 "nbformat_minor": 5
}
