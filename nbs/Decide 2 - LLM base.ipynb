{
 "cells": [
  {
   "cell_type": "code",
   "execution_count": 1,
   "id": "386a717e-88d5-4a19-b7c0-fd2586a3d795",
   "metadata": {},
   "outputs": [],
   "source": [
    "import setup\n",
    "setup.init_django()"
   ]
  },
  {
   "cell_type": "code",
   "execution_count": 2,
   "id": "3be6b73f-d67a-41ae-880c-3aae23ce4b3a",
   "metadata": {},
   "outputs": [],
   "source": [
    "from market import services as market_services"
   ]
  },
  {
   "cell_type": "code",
   "execution_count": 3,
   "id": "d9bf194b-4c87-45f5-980f-fd4fd7751b55",
   "metadata": {},
   "outputs": [],
   "source": [
    "def get_stock_indicators(ticker = \"AAPL\", days=30):\n",
    "    queryset = market_services.get_daily_stock_quotes_queryset(ticker, days=days)\n",
    "    if queryset.count() == 0:\n",
    "        raise Exception(f\"Data for {ticker} not found\")\n",
    "    averages = market_services.get_daily_moving_averages(ticker, days=days, queryset=queryset)\n",
    "    price_target = market_services.get_price_target(ticker, days=days, queryset=queryset)\n",
    "    volume_trend = market_services.get_volume_trend(ticker, days=days, queryset=queryset)\n",
    "    rsi_data = market_services.calculate_rsi(ticker, days=days, period=14)\n",
    "    signals = []\n",
    "    if averages.get('ma_5') > averages.get('ma_20'):\n",
    "        signals.append(1)\n",
    "    else:\n",
    "        signals.append(-1)\n",
    "    if price_target.get('current_price') < price_target.get('conservative_target'):\n",
    "        signals.append(1)\n",
    "    else:\n",
    "        signals.append(-1)\n",
    "    if volume_trend.get(\"volume_change_percent\") > 20:\n",
    "        signals.append(1)\n",
    "    elif volume_trend.get(\"volume_change_percent\") < -20:\n",
    "        signals.append(-1)\n",
    "    else:\n",
    "        signals.append(0)\n",
    "    rsi = rsi_data.get('rsi')\n",
    "    if rsi > 70:\n",
    "        signals.append(-1)  # Overbought\n",
    "    elif rsi < 30:\n",
    "        signals.append(1) # Oversold\n",
    "    else:\n",
    "        signals.append(0)\n",
    "    return {\n",
    "        \"score\": sum(signals),\n",
    "        \"ticker\": ticker,\n",
    "        \"indicators\": {\n",
    "            **averages,\n",
    "            **price_target,\n",
    "            **volume_trend,\n",
    "            **rsi_data,\n",
    "        }\n",
    "        \n",
    "    }"
   ]
  },
  {
   "cell_type": "code",
   "execution_count": 4,
   "id": "e2dfa719-db93-4c22-bb19-780e3e7ebd9a",
   "metadata": {},
   "outputs": [
    {
     "data": {
      "text/plain": [
       "{'score': -1,\n",
       " 'ticker': 'AAPL',\n",
       " 'indicators': {'ma_5': 235.318,\n",
       "  'ma_20': 245.604,\n",
       "  'current_price': 233.78,\n",
       "  'conservative_target': 243.6471,\n",
       "  'aggressive_target': 249.7429,\n",
       "  'average_price': 247.0319,\n",
       "  'avg_volume': 2452.6923076923076,\n",
       "  'latest_volume': 603,\n",
       "  'volume_change_percent': -75.41477183628665,\n",
       "  'rsi': 40.509,\n",
       "  'avg_gain': 0.9257,\n",
       "  'avg_loss': 1.3595,\n",
       "  'period': 14,\n",
       "  'days': 30}}"
      ]
     },
     "execution_count": 4,
     "metadata": {},
     "output_type": "execute_result"
    }
   ],
   "source": [
    "results = get_stock_indicators(ticker='AAPL')\n",
    "score = results.get(\"score\")\n",
    "results"
   ]
  },
  {
   "cell_type": "code",
   "execution_count": 16,
   "id": "8879ec91-538f-4d28-a993-744b0b8f0238",
   "metadata": {},
   "outputs": [],
   "source": [
    "import json\n",
    "import requests\n",
    "from decouple import config\n",
    "import os\n",
    "os.chdir(\"../\")"
   ]
  },
  {
   "cell_type": "code",
   "execution_count": 33,
   "id": "e20620ff-ded4-4b4a-9d5d-1e3bc3a2056d",
   "metadata": {},
   "outputs": [
    {
     "name": "stdout",
     "output_type": "stream",
     "text": [
      "Current Working Directory: /\n",
      "Files in Current Directory: ['media', 'dev', 'sys', 'root', 'bin', 'lost+found', 'run', 'boot', 'usr', 'etc', 'var', 'opt', 'mnt', 'srv', 'lib', 'snap', 'home', 'Docker', 'init', 'lib32', 'proc', 'libx32', 'sbin', 'lib64', 'tmp']\n",
      "DEEPSEEK_API_KEY: sk-aabd11be6d394f5d9eb2e95e8ef2b7ef\n"
     ]
    }
   ],
   "source": [
    "from decouple import config, AutoConfig\n",
    "import os\n",
    "os.chdir(\"../\")\n",
    "print(\"Current Working Directory:\", os.getcwd())\n",
    "print(\"Files in Current Directory:\", os.listdir(os.getcwd()))\n",
    "config = AutoConfig(search_path=\"/home/harry/StockTradingbot\") \n",
    "\n",
    "DEEPSEEK_API_KEY = config(\"DEEPSEEK_API_KEY\", default=None)\n",
    "\n",
    "print(\"DEEPSEEK_API_KEY:\", DEEPSEEK_API_KEY)\n",
    "\n",
    "assert DEEPSEEK_API_KEY is not None, \"DEEPSEEK_API_KEY is not set in the .env file\""
   ]
  },
  {
   "cell_type": "code",
   "execution_count": 34,
   "id": "8dc44274-7767-4368-8a13-3b1ea60c317b",
   "metadata": {},
   "outputs": [
    {
     "data": {
      "text/plain": [
       "'{\"score\": -1, \"ticker\": \"AAPL\", \"indicators\": {\"ma_5\": 235.318, \"ma_20\": 245.604, \"current_price\": 233.78, \"conservative_target\": 243.6471, \"aggressive_target\": 249.7429, \"average_price\": 247.0319, \"avg_volume\": 2452.6923076923076, \"latest_volume\": 603, \"volume_change_percent\": -75.41477183628665, \"rsi\": 40.509, \"avg_gain\": 0.9257, \"avg_loss\": 1.3595, \"period\": 14, \"days\": 30}}'"
      ]
     },
     "execution_count": 34,
     "metadata": {},
     "output_type": "execute_result"
    }
   ],
   "source": [
    "results_as_json = json.dumps(results)\n",
    "results_as_json"
   ]
  },
  {
   "cell_type": "code",
   "execution_count": 42,
   "id": "6f0220c5-09ba-4512-8eaa-7977b54ba763",
   "metadata": {},
   "outputs": [
    {
     "data": {
      "text/plain": [
       "'\\nOPENAI_API_KEY=config(\"OPENAI_API_KEY\", default=None)\\nfrom openai import OpenAI\\nclient = OpenAI(api_key=OPENAI_API_KEY)\\n\\n\\nresponse = client.chat.completions.create(\\n    model=\"gpt-4o-mini\",\\n    messages=[\\n        {\"role\": \"system\", \"content\": \"You are an expert an analyzing stocks and respond in JSON data\"},\\n        {\"role\": \"user\", \"content\": f\"Considering these results {results_as_json}, provide a recommendation\"}\\n    ],\\n    response_format={\\n        \"type\": \"json_schema\",\\n        \"json_schema\": {\\n            \"name\": \"recommendation\",\\n            \"schema\": {\\n                \"type\": \"object\",\\n                \"properties\": {\\n                    \"buy\": {\\n                        \"description\": \"Recommend to buy stock\",\\n                        \"type\": \"boolean\"\\n                    },\\n                    \"sell\": {\\n                        \"description\": \"Recommend to sell stock\",\\n                        \"type\": \"boolean\"\\n                    },\\n                    \"hold\": {\\n                        \"description\": \"Recommend to hold stock\",\\n                        \"type\": \"boolean\"\\n                    },\\n                    \"explanation\": {\\n                        \"description\": \"Explanation of reasoning in 1 or 2 sentences\",\\n                        \"type\": \"string\"\\n                    },\\n                    \"additionalProperties\": False\\n                }\\n            }\\n        }\\n    }\\n)\\n\\nresult = json.loads(response.choices[0].message.content)\\nresult\\n\\n'"
      ]
     },
     "execution_count": 42,
     "metadata": {},
     "output_type": "execute_result"
    }
   ],
   "source": [
    "## if you have OpenAI API Key:\n",
    "'''\n",
    "OPENAI_API_KEY=config(\"OPENAI_API_KEY\", default=None)\n",
    "from openai import OpenAI\n",
    "client = OpenAI(api_key=OPENAI_API_KEY)\n",
    "\n",
    "\n",
    "response = client.chat.completions.create(\n",
    "    model=\"gpt-4o-mini\",\n",
    "    messages=[\n",
    "        {\"role\": \"system\", \"content\": \"You are an expert an analyzing stocks and respond in JSON data\"},\n",
    "        {\"role\": \"user\", \"content\": f\"Considering these results {results_as_json}, provide a recommendation\"}\n",
    "    ],\n",
    "    response_format={\n",
    "        \"type\": \"json_schema\",\n",
    "        \"json_schema\": {\n",
    "            \"name\": \"recommendation\",\n",
    "            \"schema\": {\n",
    "                \"type\": \"object\",\n",
    "                \"properties\": {\n",
    "                    \"buy\": {\n",
    "                        \"description\": \"Recommend to buy stock\",\n",
    "                        \"type\": \"boolean\"\n",
    "                    },\n",
    "                    \"sell\": {\n",
    "                        \"description\": \"Recommend to sell stock\",\n",
    "                        \"type\": \"boolean\"\n",
    "                    },\n",
    "                    \"hold\": {\n",
    "                        \"description\": \"Recommend to hold stock\",\n",
    "                        \"type\": \"boolean\"\n",
    "                    },\n",
    "                    \"explanation\": {\n",
    "                        \"description\": \"Explanation of reasoning in 1 or 2 sentences\",\n",
    "                        \"type\": \"string\"\n",
    "                    },\n",
    "                    \"additionalProperties\": False\n",
    "                }\n",
    "            }\n",
    "        }\n",
    "    }\n",
    ")\n",
    "\n",
    "result = json.loads(response.choices[0].message.content)\n",
    "result\n",
    "\n",
    "'''\n"
   ]
  },
  {
   "cell_type": "code",
   "execution_count": null,
   "id": "8382a38e-9de4-4fe9-a4d0-1a0c85eecf22",
   "metadata": {},
   "outputs": [],
   "source": [
    "## for DeepSeek Api\n",
    "from openai import OpenAI\n",
    "\n",
    "client = OpenAI(api_key=DEEPSEEK_API_KEY, base_url=\"https://api.deepseek.com\")\n",
    "\n",
    "response = client.chat.completions.create(\n",
    "    model=\"deepseek-chat\",\n",
    "    messages=[\n",
    "        {\"role\": \"system\", \"content\": \"You are an expert at analyzing stocks and respond in JSON data\"},\n",
    "        {\"role\": \"user\", \"content\": f\"Considering these results {results_as_json}, provide a recommendation\"}\n",
    "    ],\n",
    "    response_format={\"type\": \"json_object\"},  # Use \"json_object\" instead of \"json_schema\"\n",
    ")\n",
    "\n",
    "print(response.choices[0].message.content)"
   ]
  },
  {
   "cell_type": "code",
   "execution_count": 48,
   "id": "d06285e6-51f7-4b72-95c9-a805f601b39d",
   "metadata": {},
   "outputs": [
    {
     "ename": "AttributeError",
     "evalue": "'Response' object has no attribute 'choices'",
     "output_type": "error",
     "traceback": [
      "\u001b[0;31m---------------------------------------------------------------------------\u001b[0m",
      "\u001b[0;31mAttributeError\u001b[0m                            Traceback (most recent call last)",
      "Cell \u001b[0;32mIn[48], line 1\u001b[0m\n\u001b[0;32m----> 1\u001b[0m result \u001b[38;5;241m=\u001b[39m json\u001b[38;5;241m.\u001b[39mloads(\u001b[43mresponse\u001b[49m\u001b[38;5;241;43m.\u001b[39;49m\u001b[43mchoices\u001b[49m[\u001b[38;5;241m0\u001b[39m]\u001b[38;5;241m.\u001b[39mmessage\u001b[38;5;241m.\u001b[39mcontent)\n\u001b[1;32m      2\u001b[0m result\n",
      "\u001b[0;31mAttributeError\u001b[0m: 'Response' object has no attribute 'choices'"
     ]
    }
   ],
   "source": [
    "result = json.loads(response.choices[0].message.content)\n",
    "result"
   ]
  },
  {
   "cell_type": "code",
   "execution_count": null,
   "id": "0b149d12-753c-4c13-b85c-ff459f2aca2b",
   "metadata": {},
   "outputs": [],
   "source": [
    "result.get('hold') is True"
   ]
  }
 ],
 "metadata": {
  "kernelspec": {
   "display_name": "Python 3 (ipykernel)",
   "language": "python",
   "name": "python3"
  },
  "language_info": {
   "codemirror_mode": {
    "name": "ipython",
    "version": 3
   },
   "file_extension": ".py",
   "mimetype": "text/x-python",
   "name": "python",
   "nbconvert_exporter": "python",
   "pygments_lexer": "ipython3",
   "version": "3.8.10"
  }
 },
 "nbformat": 4,
 "nbformat_minor": 5
}
