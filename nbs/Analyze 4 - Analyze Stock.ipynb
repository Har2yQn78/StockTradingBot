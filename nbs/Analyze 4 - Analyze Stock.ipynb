{
 "cells": [
  {
   "cell_type": "code",
   "execution_count": 1,
   "id": "ff0e353c-cd37-41e2-98f2-dc92f9500e90",
   "metadata": {},
   "outputs": [],
   "source": [
    "import setup\n",
    "setup.init_django()"
   ]
  },
  {
   "cell_type": "code",
   "execution_count": 2,
   "id": "de70c44c-282b-4d4d-85e0-d1c8af2d37de",
   "metadata": {},
   "outputs": [],
   "source": [
    "from market.models import StockQuote"
   ]
  },
  {
   "cell_type": "code",
   "execution_count": 3,
   "id": "e7fc7730-7c8f-4471-b650-62baaf8c39a0",
   "metadata": {},
   "outputs": [],
   "source": [
    "from django.db.models import (\n",
    "    Avg, \n",
    "    F,\n",
    "    RowRange,\n",
    "    Window,\n",
    "    Max,\n",
    "    Min,\n",
    "    ExpressionWrapper,\n",
    "    DecimalField,\n",
    "    Case,\n",
    "    When,\n",
    "    Value\n",
    ")\n",
    "from django.db.models.functions import TruncDate, FirstValue, Lag, Coalesce\n",
    "from django.utils import timezone\n",
    "from datetime import timedelta\n",
    "from decimal import Decimal"
   ]
  },
  {
   "cell_type": "code",
   "execution_count": 4,
   "id": "43fa6c72-ae23-495f-b766-c597bff5a696",
   "metadata": {},
   "outputs": [],
   "source": [
    "def calculate_rsi(ticker, period=14):\n",
    "    \"\"\"\n",
    "    Calculate Relative Strength Index (RSI) using Django ORM.\n",
    "    \n",
    "    Args:\n",
    "        ticker (str): Stock ticker symbol\n",
    "        period (int): RSI period (default: 14)\n",
    "    \n",
    "    Returns:\n",
    "        dict: RSI value and component calculations\n",
    "    \"\"\"\n",
    "    end_date = timezone.now()\n",
    "    start_date = end_date - timedelta(days=period * 4)\n",
    "    \n",
    "    # Get daily price data\n",
    "    daily_data = (\n",
    "        StockQuote.timescale\n",
    "        .filter(company__ticker=ticker, time__range=(start_date, end_date))\n",
    "        .time_bucket('time', '1 day')\n",
    "        .order_by('bucket')\n",
    "    )\n",
    "    \n",
    "    # Calculate price changes and gains/losses with explicit decimal conversion\n",
    "    movement = daily_data.annotate(\n",
    "        closing_price=ExpressionWrapper(\n",
    "            F('close_price'),\n",
    "            output_field=DecimalField(max_digits=10, decimal_places=4)\n",
    "        ),\n",
    "        prev_close=Window(\n",
    "            expression=Lag('close_price'),\n",
    "            order_by=F('bucket').asc(),\n",
    "            output_field=DecimalField(max_digits=10, decimal_places=4)\n",
    "        )\n",
    "    ).annotate(\n",
    "        price_change=ExpressionWrapper(\n",
    "            F('close_price') - F('prev_close'),\n",
    "            output_field=DecimalField(max_digits=10, decimal_places=4)\n",
    "        ),\n",
    "        gain=Case(\n",
    "            When(price_change__gt=0, \n",
    "                 then=ExpressionWrapper(\n",
    "                     F('price_change'),\n",
    "                     output_field=DecimalField(max_digits=10, decimal_places=4)\n",
    "                 )),\n",
    "            default=Value(0, output_field=DecimalField(max_digits=10, decimal_places=4)),\n",
    "            output_field=DecimalField(max_digits=10, decimal_places=4)\n",
    "        ),\n",
    "        loss=Case(\n",
    "            When(price_change__lt=0,\n",
    "                 then=ExpressionWrapper(\n",
    "                     -F('price_change'),\n",
    "                     output_field=DecimalField(max_digits=10, decimal_places=4)\n",
    "                 )),\n",
    "            default=Value(0, output_field=DecimalField(max_digits=10, decimal_places=4)),\n",
    "            output_field=DecimalField(max_digits=10, decimal_places=4)\n",
    "        )\n",
    "    )\n",
    "    \n",
    "    # Calculate initial averages for the first period\n",
    "    initial_avg = movement.exclude(prev_close__isnull=True)[:period].aggregate(\n",
    "        avg_gain=Coalesce(\n",
    "            ExpressionWrapper(\n",
    "                Avg('gain'),\n",
    "                output_field=DecimalField(max_digits=10, decimal_places=4)\n",
    "            ),\n",
    "            Value(0, output_field=DecimalField(max_digits=10, decimal_places=4))\n",
    "        ),\n",
    "        avg_loss=Coalesce(\n",
    "            ExpressionWrapper(\n",
    "                Avg('loss'),\n",
    "                output_field=DecimalField(max_digits=10, decimal_places=4)\n",
    "            ),\n",
    "            Value(0, output_field=DecimalField(max_digits=10, decimal_places=4))\n",
    "        )\n",
    "    )\n",
    "    \n",
    "    # Get subsequent data points for EMA calculation\n",
    "    subsequent_data = list(movement.exclude(prev_close__isnull=True)[period:].values('gain', 'loss'))\n",
    "    \n",
    "    # Calculate EMA-based RSI\n",
    "    avg_gain = initial_avg['avg_gain']\n",
    "    avg_loss = initial_avg['avg_loss']\n",
    "    alpha = Decimal(1 / period)  # Smoothing factor\n",
    "    \n",
    "    # Update moving averages using EMA formula\n",
    "    for data in subsequent_data:\n",
    "        avg_gain = (avg_gain * (1 - alpha) + data['gain'] * alpha)\n",
    "        avg_loss = (avg_loss * (1 - alpha) + data['loss'] * alpha)\n",
    "    \n",
    "    # Prevent division by zero\n",
    "    if avg_loss == 0:\n",
    "        rsi = 100\n",
    "    else:\n",
    "        rs = avg_gain / avg_loss\n",
    "        rsi = 100 - (100 / (1 + rs))\n",
    "    \n",
    "    return {\n",
    "        'rsi': round(float(rsi), 4),\n",
    "        'avg_gain': round(float(avg_gain), 4),\n",
    "        'avg_loss': round(float(avg_loss), 4),\n",
    "        'period': period\n",
    "    } "
   ]
  },
  {
   "cell_type": "code",
   "execution_count": 5,
   "id": "f189580e-50a3-4b77-8040-bb9aa6b9ed96",
   "metadata": {},
   "outputs": [],
   "source": [
    "rsi_data = calculate_rsi('AAPL')"
   ]
  },
  {
   "cell_type": "code",
   "execution_count": 6,
   "id": "476a1517-4e0e-41a9-bad2-98a6efc08cd3",
   "metadata": {},
   "outputs": [
    {
     "data": {
      "text/plain": [
       "{'rsi': 56.7483, 'avg_gain': 0.0579, 'avg_loss': 0.0441, 'period': 14}"
      ]
     },
     "execution_count": 6,
     "metadata": {},
     "output_type": "execute_result"
    }
   ],
   "source": [
    "rsi_data"
   ]
  },
  {
   "cell_type": "code",
   "execution_count": null,
   "id": "9f486946-1a8b-4d74-a473-cb7283ebff08",
   "metadata": {},
   "outputs": [],
   "source": []
  }
 ],
 "metadata": {
  "kernelspec": {
   "display_name": "Python 3 (ipykernel)",
   "language": "python",
   "name": "python3"
  },
  "language_info": {
   "codemirror_mode": {
    "name": "ipython",
    "version": 3
   },
   "file_extension": ".py",
   "mimetype": "text/x-python",
   "name": "python",
   "nbconvert_exporter": "python",
   "pygments_lexer": "ipython3",
   "version": "3.8.10"
  }
 },
 "nbformat": 4,
 "nbformat_minor": 5
}
