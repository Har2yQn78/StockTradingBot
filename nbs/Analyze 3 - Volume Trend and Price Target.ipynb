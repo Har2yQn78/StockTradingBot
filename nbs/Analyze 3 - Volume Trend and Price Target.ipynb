{
 "cells": [
  {
   "cell_type": "code",
   "execution_count": 1,
   "id": "6dbd18e9-c63c-487b-966f-a3ee08db37f8",
   "metadata": {},
   "outputs": [],
   "source": [
    "import setup \n",
    "setup.init_django()"
   ]
  },
  {
   "cell_type": "code",
   "execution_count": 2,
   "id": "256a6538-dc39-4f4e-9a7a-4ba6539635b9",
   "metadata": {},
   "outputs": [],
   "source": [
    "from market.models import StockQuote"
   ]
  },
  {
   "cell_type": "code",
   "execution_count": 3,
   "id": "57561978-f1a8-475c-9a68-6d108fe7700a",
   "metadata": {},
   "outputs": [],
   "source": [
    "from django.db.models import Avg, F, RowRange, Window, Max, Min\n",
    "from django.db.models.functions import TruncDate, FirstValue\n",
    "from django.utils import timezone\n",
    "from datetime import timedelta\n",
    "from decimal import Decimal"
   ]
  },
  {
   "cell_type": "code",
   "execution_count": 4,
   "id": "fb00408b-12c2-48ee-9aa8-ef4c5cc9aed1",
   "metadata": {},
   "outputs": [],
   "source": [
    "days_ago = 30\n",
    "now = timezone.now()\n",
    "start_date = now - timedelta(days=30)\n",
    "end_date = now\n",
    "ticker = \"AAPL\""
   ]
  },
  {
   "cell_type": "code",
   "execution_count": 5,
   "id": "f9bf8c3e-d3ef-4cdb-b142-34e5ff15fb19",
   "metadata": {},
   "outputs": [
    {
     "data": {
      "text/plain": [
       "26"
      ]
     },
     "execution_count": 5,
     "metadata": {},
     "output_type": "execute_result"
    }
   ],
   "source": [
    "lastest_daily_timestamps = (\n",
    "    StockQuote.timescale.filter(company__ticker=ticker, time__range=(start_date - timedelta(days=40), end_date))\n",
    "    .time_bucket('time', '1 day')\n",
    "    .annotate(date=TruncDate('time'))\n",
    "    .values('company', 'date')\n",
    "    .annotate(latest_time=Max('time'))\n",
    "    .values('company', 'date', 'latest_time')\n",
    "    .order_by('date')\n",
    ")\n",
    "\n",
    "acutal_timestamps = list(set([x['latest_time'] for x in lastest_daily_timestamps]))\n",
    "len(acutal_timestamps)"
   ]
  },
  {
   "cell_type": "code",
   "execution_count": 6,
   "id": "d8f6beef-d25b-4e20-8622-e40be9593be8",
   "metadata": {},
   "outputs": [],
   "source": [
    "qs = StockQuote.timescale.filter(\n",
    "    company__ticker=ticker, \n",
    "    time__range=(start_date, end_date),\n",
    "    time__in=acutal_timestamps\n",
    ")"
   ]
  },
  {
   "cell_type": "code",
   "execution_count": 7,
   "id": "f3b2a11a-9def-44ae-b9fd-dda785b6627e",
   "metadata": {},
   "outputs": [],
   "source": [
    "def get_volume_trend(queryset, days=5):\n",
    "    \"\"\"\n",
    "    Analyze recent volume trends\n",
    "    \"\"\"\n",
    "    start = -(days - 1)\n",
    "    data = queryset.annotate(\n",
    "        avg_volume=Window(\n",
    "            expression=Avg('volume'),\n",
    "            order_by=F('time').asc(),\n",
    "            frame=RowRange(start=start, end=0)\n",
    "        )\n",
    "    ).order_by('-time').first()\n",
    "\n",
    "    if not data:\n",
    "        return None\n",
    "    volume_change = ((data.volume - data.avg_volume) / \n",
    "                    data.avg_volume) * 100\n",
    "    return {\n",
    "        'avg_volume': float(data.avg_volume),\n",
    "        'latest_volume': int(data.volume),\n",
    "        'volume_change_percent': float(volume_change)\n",
    "    }"
   ]
  },
  {
   "cell_type": "code",
   "execution_count": 8,
   "id": "c5c23bbb-3ac8-40af-83d7-81fbdac0803c",
   "metadata": {},
   "outputs": [
    {
     "data": {
      "text/plain": [
       "{'avg_volume': 3083.6,\n",
       " 'latest_volume': 603,\n",
       " 'volume_change_percent': -80.44493449215203}"
      ]
     },
     "execution_count": 8,
     "metadata": {},
     "output_type": "execute_result"
    }
   ],
   "source": [
    "get_volume_trend(qs)"
   ]
  },
  {
   "cell_type": "code",
   "execution_count": 9,
   "id": "b0d7d17c-5ff2-4fa0-8a9b-dd8842318aac",
   "metadata": {},
   "outputs": [],
   "source": [
    "def get_simple_target(ticker, timestamps=[], days=180):\n",
    "    \"\"\"\n",
    "    Simplified price target calculation\n",
    "    \"\"\"\n",
    "    end_date = timezone.now()\n",
    "    start_date = end_date - timedelta(days=days)\n",
    "    lookups = {\n",
    "        \"company__ticker\": ticker,\n",
    "        \"time__range\": (start_date, end_date)\n",
    "    }\n",
    "    if len(timestamps) > 0:\n",
    "        lookups['time__in'] = timestamps\n",
    "    daily_data = (\n",
    "        StockQuote.timescale\n",
    "        .filter(**lookups)\n",
    "        .time_bucket('time', '1 day')\n",
    "        .annotate(\n",
    "            latest_price=Window(\n",
    "                expression=FirstValue('close_price'),\n",
    "                order_by=F('time').desc()\n",
    "            )\n",
    "        )\n",
    "        .aggregate(\n",
    "            current_price=Max('latest_price'),\n",
    "            avg_price=Avg('close_price'),\n",
    "            highest=Max('high_price'),\n",
    "            lowest=Min('low_price')\n",
    "        )\n",
    "    )\n",
    "    \n",
    "    if not daily_data:\n",
    "        return None\n",
    "        \n",
    "    current_price = float(daily_data['current_price'])\n",
    "    avg_price = float(daily_data['avg_price'])\n",
    "    price_range = float(daily_data['highest']) - float(daily_data['lowest'])\n",
    "    \n",
    "    # Simple target based on average price and recent range\n",
    "    conservative_target = current_price + (price_range * 0.382)  # 38.2% Fibonacci\n",
    "    aggressive_target = current_price + (price_range * 0.618)   # 61.8% Fibonacci\n",
    "    \n",
    "    return {\n",
    "        'current_price': current_price,\n",
    "        'conservative_target': conservative_target,\n",
    "        'aggressive_target': aggressive_target,\n",
    "        'average_price': avg_price\n",
    "    }"
   ]
  },
  {
   "cell_type": "code",
   "execution_count": 10,
   "id": "2977f827-216d-4300-8e5b-64ca838800b0",
   "metadata": {},
   "outputs": [
    {
     "data": {
      "text/plain": [
       "{'current_price': 233.78,\n",
       " 'conservative_target': 245.38516,\n",
       " 'aggressive_target': 252.55484,\n",
       " 'average_price': 247.5885439081813}"
      ]
     },
     "execution_count": 10,
     "metadata": {},
     "output_type": "execute_result"
    }
   ],
   "source": [
    "get_simple_target(\"AAPL\")"
   ]
  }
 ],
 "metadata": {
  "kernelspec": {
   "display_name": "Python 3 (ipykernel)",
   "language": "python",
   "name": "python3"
  },
  "language_info": {
   "codemirror_mode": {
    "name": "ipython",
    "version": 3
   },
   "file_extension": ".py",
   "mimetype": "text/x-python",
   "name": "python",
   "nbconvert_exporter": "python",
   "pygments_lexer": "ipython3",
   "version": "3.8.10"
  }
 },
 "nbformat": 4,
 "nbformat_minor": 5
}
