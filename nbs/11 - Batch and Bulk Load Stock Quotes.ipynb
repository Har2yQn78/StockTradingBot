{
 "cells": [
  {
   "cell_type": "code",
   "execution_count": 10,
   "id": "ed826452-4f75-4c4a-ba8b-ad9a1ed7ca17",
   "metadata": {},
   "outputs": [],
   "source": [
    "import setup\n",
    "setup.init_django()"
   ]
  },
  {
   "cell_type": "code",
   "execution_count": 11,
   "id": "d1e43fbd-b744-4bb4-8862-8bfa87370517",
   "metadata": {},
   "outputs": [],
   "source": [
    "import helpers.clients as helpers_clients"
   ]
  },
  {
   "cell_type": "code",
   "execution_count": 12,
   "id": "7767bd0d-5a48-47a5-9e17-7727011b8951",
   "metadata": {},
   "outputs": [],
   "source": [
    "company_name = \"Google\"\n",
    "company_ticker = \"GOOG\"\n",
    "multiplier = 1\n",
    "from_data= \"2024-01-09\"\n",
    "to_date = \"2024-04-09\"\n",
    "\n",
    "client = helpers_clients.PolygonAPIClient(\n",
    "    ticker = company_ticker,\n",
    "    multiplier = multiplier,\n",
    "    from_data = from_data,\n",
    "    to_date = to_date,\n",
    ")\n",
    "dataset = client.get_stock_data()"
   ]
  },
  {
   "cell_type": "code",
   "execution_count": 13,
   "id": "d218d05f-ce12-4984-b068-5b6b2792f6be",
   "metadata": {},
   "outputs": [
    {
     "data": {
      "text/plain": [
       "5000"
      ]
     },
     "execution_count": 13,
     "metadata": {},
     "output_type": "execute_result"
    }
   ],
   "source": [
    "len(dataset)"
   ]
  },
  {
   "cell_type": "code",
   "execution_count": 14,
   "id": "d2a4fecb-caa8-4324-9a42-294d1fb27e84",
   "metadata": {},
   "outputs": [],
   "source": [
    "new_stock_data = dataset[0]"
   ]
  },
  {
   "cell_type": "code",
   "execution_count": 15,
   "id": "4d20373a-d320-40fd-b173-d220eac4aa71",
   "metadata": {},
   "outputs": [
    {
     "data": {
      "text/plain": [
       "{'open_price': 140.41,\n",
       " 'close_price': 140.41,\n",
       " 'high_price': 140.41,\n",
       " 'low_price': 140.41,\n",
       " 'volume': 134,\n",
       " 'number_of_trades': 3,\n",
       " 'volume_weighted_average': 140.3984,\n",
       " 'time': datetime.datetime(2024, 1, 9, 9, 2, tzinfo=<UTC>)}"
      ]
     },
     "execution_count": 15,
     "metadata": {},
     "output_type": "execute_result"
    }
   ],
   "source": [
    "new_stock_data"
   ]
  },
  {
   "cell_type": "code",
   "execution_count": 16,
   "id": "c0a38688-6b34-4001-a89b-57314293b0ee",
   "metadata": {},
   "outputs": [],
   "source": [
    "from market.models import Company, StockQuote"
   ]
  },
  {
   "cell_type": "code",
   "execution_count": 17,
   "id": "5e351e9b-9ea0-4855-9f54-ca703eacd042",
   "metadata": {},
   "outputs": [],
   "source": [
    "company_obj, created = Company.objects.get_or_create(name=company_name, ticker=company_ticker)"
   ]
  },
  {
   "cell_type": "code",
   "execution_count": 18,
   "id": "5152f053-9043-4415-bf8b-8ae8d3668082",
   "metadata": {},
   "outputs": [
    {
     "data": {
      "text/plain": [
       "<Company: Company object (2)>"
      ]
     },
     "execution_count": 18,
     "metadata": {},
     "output_type": "execute_result"
    }
   ],
   "source": [
    "company_obj"
   ]
  },
  {
   "cell_type": "code",
   "execution_count": 19,
   "id": "05b56ca9-570d-48a4-bd37-0769ef1ea4e3",
   "metadata": {},
   "outputs": [
    {
     "data": {
      "text/plain": [
       "<QuerySet [<StockQuote: StockQuote object (1)>]>"
      ]
     },
     "execution_count": 19,
     "metadata": {},
     "output_type": "execute_result"
    }
   ],
   "source": [
    "StockQuote.objects.all()"
   ]
  },
  {
   "cell_type": "code",
   "execution_count": 20,
   "id": "00b533e0-bd24-48f0-a796-f5e2bbf53088",
   "metadata": {},
   "outputs": [],
   "source": [
    "batch_size = 1000\n",
    "for i in range(0, len(dataset), batch_size):\n",
    "    batch_chunk = dataset[i:i+batch_size]\n",
    "    chunked_quotes = []\n",
    "    for data in batch_chunk:\n",
    "        chunked_quotes.append(\n",
    "            StockQuote(company=company_obj, **data)\n",
    "        )\n",
    "    StockQuote.objects.bulk_create(chunked_quotes, ignore_conflicts=True)"
   ]
  },
  {
   "cell_type": "code",
   "execution_count": 21,
   "id": "4cbfdfa2-d020-444e-9573-5eae7d82cf42",
   "metadata": {},
   "outputs": [
    {
     "data": {
      "text/plain": [
       "5001"
      ]
     },
     "execution_count": 21,
     "metadata": {},
     "output_type": "execute_result"
    }
   ],
   "source": [
    "StockQuote.objects.all().count()"
   ]
  },
  {
   "cell_type": "code",
   "execution_count": null,
   "id": "105cf8d7-83b0-4d53-8b42-866aea49d336",
   "metadata": {},
   "outputs": [],
   "source": []
  }
 ],
 "metadata": {
  "kernelspec": {
   "display_name": "Python 3 (ipykernel)",
   "language": "python",
   "name": "python3"
  },
  "language_info": {
   "codemirror_mode": {
    "name": "ipython",
    "version": 3
   },
   "file_extension": ".py",
   "mimetype": "text/x-python",
   "name": "python",
   "nbconvert_exporter": "python",
   "pygments_lexer": "ipython3",
   "version": "3.12.5"
  }
 },
 "nbformat": 4,
 "nbformat_minor": 5
}
