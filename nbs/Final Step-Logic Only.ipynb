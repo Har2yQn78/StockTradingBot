{
 "cells": [
  {
   "cell_type": "code",
   "execution_count": 1,
   "id": "6cad75a1-b852-4bd3-9299-d046846ac7f3",
   "metadata": {},
   "outputs": [],
   "source": [
    "import setup\n",
    "setup.init_django()\n",
    "from market import services as market_services\n",
    "from market import tasks as market_tasks\n",
    "from market.models import Company\n",
    "import json\n",
    "from decouple import config"
   ]
  },
  {
   "cell_type": "code",
   "execution_count": 2,
   "id": "753f9e85-20c6-45f3-803e-5c89a5c36489",
   "metadata": {},
   "outputs": [
    {
     "data": {
      "text/plain": [
       "2"
      ]
     },
     "execution_count": 2,
     "metadata": {},
     "output_type": "execute_result"
    }
   ],
   "source": [
    "ticker = \"AAPL\"\n",
    "name = \"Apple\"\n",
    "company, _ = Company.objects.get_or_create(name=name, ticker=ticker)\n",
    "company.id"
   ]
  },
  {
   "cell_type": "code",
   "execution_count": 3,
   "id": "31e371fe-876c-4003-be3a-e7d4366380a2",
   "metadata": {},
   "outputs": [
    {
     "name": "stdout",
     "output_type": "stream",
     "text": [
      "Historical sync days ago 30\n",
      "dataset length 3398\n",
      "Doing chunk 0\n",
      "finished chunk 0\n",
      "Doing chunk 1000\n",
      "finished chunk 1000\n",
      "Doing chunk 2000\n",
      "finished chunk 2000\n",
      "Doing chunk 3000\n",
      "finished chunk 3000\n",
      "30 done\n",
      "\n",
      "Historical sync days ago 60\n",
      "dataset length 6730\n",
      "Doing chunk 0\n",
      "finished chunk 0\n",
      "Doing chunk 1000\n",
      "finished chunk 1000\n",
      "Doing chunk 2000\n",
      "finished chunk 2000\n",
      "Doing chunk 3000\n",
      "finished chunk 3000\n",
      "Doing chunk 4000\n",
      "finished chunk 4000\n",
      "Doing chunk 5000\n",
      "finished chunk 5000\n",
      "Doing chunk 6000\n",
      "finished chunk 6000\n",
      "60 done\n",
      "\n",
      "Historical sync days ago 90\n",
      "dataset length 10788\n",
      "Doing chunk 0\n",
      "finished chunk 0\n",
      "Doing chunk 1000\n",
      "finished chunk 1000\n",
      "Doing chunk 2000\n",
      "finished chunk 2000\n",
      "Doing chunk 3000\n",
      "finished chunk 3000\n",
      "Doing chunk 4000\n",
      "finished chunk 4000\n",
      "Doing chunk 5000\n",
      "finished chunk 5000\n",
      "Doing chunk 6000\n",
      "finished chunk 6000\n",
      "Doing chunk 7000\n",
      "finished chunk 7000\n",
      "Doing chunk 8000\n",
      "finished chunk 8000\n",
      "Doing chunk 9000\n",
      "finished chunk 9000\n",
      "Doing chunk 10000\n",
      "finished chunk 10000\n",
      "90 done\n",
      "\n",
      "Historical sync days ago 120\n",
      "dataset length 12700\n",
      "Doing chunk 0\n",
      "finished chunk 0\n",
      "Doing chunk 1000\n",
      "finished chunk 1000\n",
      "Doing chunk 2000\n",
      "finished chunk 2000\n",
      "Doing chunk 3000\n",
      "finished chunk 3000\n",
      "Doing chunk 4000\n",
      "finished chunk 4000\n",
      "Doing chunk 5000\n",
      "finished chunk 5000\n",
      "Doing chunk 6000\n",
      "finished chunk 6000\n",
      "Doing chunk 7000\n",
      "finished chunk 7000\n",
      "Doing chunk 8000\n",
      "finished chunk 8000\n",
      "Doing chunk 9000\n",
      "finished chunk 9000\n",
      "Doing chunk 10000\n",
      "finished chunk 10000\n",
      "Doing chunk 11000\n",
      "finished chunk 11000\n",
      "Doing chunk 12000\n",
      "finished chunk 12000\n",
      "120 done\n",
      "\n",
      "Historical sync days ago 150\n",
      "dataset length 12669\n",
      "Doing chunk 0\n",
      "finished chunk 0\n",
      "Doing chunk 1000\n",
      "finished chunk 1000\n",
      "Doing chunk 2000\n",
      "finished chunk 2000\n",
      "Doing chunk 3000\n",
      "finished chunk 3000\n",
      "Doing chunk 4000\n",
      "finished chunk 4000\n",
      "Doing chunk 5000\n",
      "finished chunk 5000\n",
      "Doing chunk 6000\n",
      "finished chunk 6000\n",
      "Doing chunk 7000\n",
      "finished chunk 7000\n",
      "Doing chunk 8000\n",
      "finished chunk 8000\n",
      "Doing chunk 9000\n",
      "finished chunk 9000\n",
      "Doing chunk 10000\n",
      "finished chunk 10000\n",
      "Doing chunk 11000\n",
      "finished chunk 11000\n",
      "Doing chunk 12000\n",
      "finished chunk 12000\n",
      "150 done\n",
      "\n",
      "Historical sync days ago 180\n"
     ]
    },
    {
     "ename": "HTTPError",
     "evalue": "429 Client Error: Too Many Requests for url: https://api.polygon.io/v2/aggs/ticker/AAPL/range/5/minute/2024-07-19/2025-01-16?adjusted=True&sort=asc&limit=50000",
     "output_type": "error",
     "traceback": [
      "\u001b[0;31m---------------------------------------------------------------------------\u001b[0m",
      "\u001b[0;31mHTTPError\u001b[0m                                 Traceback (most recent call last)",
      "Cell \u001b[0;32mIn[3], line 1\u001b[0m\n\u001b[0;32m----> 1\u001b[0m \u001b[43mmarket_tasks\u001b[49m\u001b[38;5;241;43m.\u001b[39;49m\u001b[43msync_historical_stock_data\u001b[49m\u001b[43m(\u001b[49m\n\u001b[1;32m      2\u001b[0m \u001b[43m    \u001b[49m\u001b[43myears_ago\u001b[49m\u001b[38;5;241;43m=\u001b[39;49m\u001b[38;5;241;43m1\u001b[39;49m\u001b[43m,\u001b[49m\u001b[43m \u001b[49m\n\u001b[1;32m      3\u001b[0m \u001b[43m    \u001b[49m\u001b[43mcompany_ids\u001b[49m\u001b[38;5;241;43m=\u001b[39;49m\u001b[43m[\u001b[49m\u001b[43mcompany\u001b[49m\u001b[38;5;241;43m.\u001b[39;49m\u001b[43mid\u001b[49m\u001b[43m]\u001b[49m\u001b[43m,\u001b[49m\u001b[43m \u001b[49m\n\u001b[1;32m      4\u001b[0m \u001b[43m    \u001b[49m\u001b[43muse_celery\u001b[49m\u001b[38;5;241;43m=\u001b[39;49m\u001b[38;5;28;43;01mFalse\u001b[39;49;00m\u001b[43m,\u001b[49m\u001b[43m \u001b[49m\n\u001b[1;32m      5\u001b[0m \u001b[43m    \u001b[49m\u001b[43mverbose\u001b[49m\u001b[38;5;241;43m=\u001b[39;49m\u001b[38;5;28;43;01mTrue\u001b[39;49;00m\n\u001b[1;32m      6\u001b[0m \u001b[43m)\u001b[49m\n\u001b[1;32m      8\u001b[0m \u001b[38;5;66;03m# use celery / async\u001b[39;00m\n\u001b[1;32m      9\u001b[0m \u001b[38;5;66;03m# market_tasks.sync_historical_stock_data.delay(years_ago=5, company_ids=[company.id], use_celery=True, verbose=False)\u001b[39;00m\n",
      "File \u001b[0;32m~/StockTradingbot/myenv/lib/python3.8/site-packages/celery/local.py:182\u001b[0m, in \u001b[0;36mProxy.__call__\u001b[0;34m(self, *a, **kw)\u001b[0m\n\u001b[1;32m    181\u001b[0m \u001b[38;5;28;01mdef\u001b[39;00m\u001b[38;5;250m \u001b[39m\u001b[38;5;21m__call__\u001b[39m(\u001b[38;5;28mself\u001b[39m, \u001b[38;5;241m*\u001b[39ma, \u001b[38;5;241m*\u001b[39m\u001b[38;5;241m*\u001b[39mkw):\n\u001b[0;32m--> 182\u001b[0m     \u001b[38;5;28;01mreturn\u001b[39;00m \u001b[38;5;28;43mself\u001b[39;49m\u001b[38;5;241;43m.\u001b[39;49m\u001b[43m_get_current_object\u001b[49m\u001b[43m(\u001b[49m\u001b[43m)\u001b[49m\u001b[43m(\u001b[49m\u001b[38;5;241;43m*\u001b[39;49m\u001b[43ma\u001b[49m\u001b[43m,\u001b[49m\u001b[43m \u001b[49m\u001b[38;5;241;43m*\u001b[39;49m\u001b[38;5;241;43m*\u001b[39;49m\u001b[43mkw\u001b[49m\u001b[43m)\u001b[49m\n",
      "File \u001b[0;32m~/StockTradingbot/myenv/lib/python3.8/site-packages/celery/app/task.py:411\u001b[0m, in \u001b[0;36mTask.__call__\u001b[0;34m(self, *args, **kwargs)\u001b[0m\n\u001b[1;32m    409\u001b[0m \u001b[38;5;28mself\u001b[39m\u001b[38;5;241m.\u001b[39mpush_request(args\u001b[38;5;241m=\u001b[39margs, kwargs\u001b[38;5;241m=\u001b[39mkwargs)\n\u001b[1;32m    410\u001b[0m \u001b[38;5;28;01mtry\u001b[39;00m:\n\u001b[0;32m--> 411\u001b[0m     \u001b[38;5;28;01mreturn\u001b[39;00m \u001b[38;5;28;43mself\u001b[39;49m\u001b[38;5;241;43m.\u001b[39;49m\u001b[43mrun\u001b[49m\u001b[43m(\u001b[49m\u001b[38;5;241;43m*\u001b[39;49m\u001b[43margs\u001b[49m\u001b[43m,\u001b[49m\u001b[43m \u001b[49m\u001b[38;5;241;43m*\u001b[39;49m\u001b[38;5;241;43m*\u001b[39;49m\u001b[43mkwargs\u001b[49m\u001b[43m)\u001b[49m\n\u001b[1;32m    412\u001b[0m \u001b[38;5;28;01mfinally\u001b[39;00m:\n\u001b[1;32m    413\u001b[0m     \u001b[38;5;28mself\u001b[39m\u001b[38;5;241m.\u001b[39mpop_request()\n",
      "File \u001b[0;32m~/StockTradingbot/src/market/tasks.py:61\u001b[0m, in \u001b[0;36msync_historical_stock_data\u001b[0;34m(years_ago, company_ids, use_celery, verbose)\u001b[0m\n\u001b[1;32m     59\u001b[0m     sync_company_stock_quotes\u001b[38;5;241m.\u001b[39mdelay(company_id, days_ago\u001b[38;5;241m=\u001b[39mi, verbose\u001b[38;5;241m=\u001b[39mverbose)\n\u001b[1;32m     60\u001b[0m \u001b[38;5;28;01melse\u001b[39;00m:\n\u001b[0;32m---> 61\u001b[0m     \u001b[43msync_company_stock_quotes\u001b[49m\u001b[43m(\u001b[49m\u001b[43mcompany_id\u001b[49m\u001b[43m,\u001b[49m\u001b[43m \u001b[49m\u001b[43mdays_ago\u001b[49m\u001b[38;5;241;43m=\u001b[39;49m\u001b[43mi\u001b[49m\u001b[43m,\u001b[49m\u001b[43m \u001b[49m\u001b[43mverbose\u001b[49m\u001b[38;5;241;43m=\u001b[39;49m\u001b[43mverbose\u001b[49m\u001b[43m)\u001b[49m\n\u001b[1;32m     62\u001b[0m \u001b[38;5;28;01mif\u001b[39;00m verbose:\n\u001b[1;32m     63\u001b[0m     \u001b[38;5;28mprint\u001b[39m(i, \u001b[38;5;124m\"\u001b[39m\u001b[38;5;124mdone\u001b[39m\u001b[38;5;130;01m\\n\u001b[39;00m\u001b[38;5;124m\"\u001b[39m)\n",
      "File \u001b[0;32m~/StockTradingbot/myenv/lib/python3.8/site-packages/celery/local.py:182\u001b[0m, in \u001b[0;36mProxy.__call__\u001b[0;34m(self, *a, **kw)\u001b[0m\n\u001b[1;32m    181\u001b[0m \u001b[38;5;28;01mdef\u001b[39;00m\u001b[38;5;250m \u001b[39m\u001b[38;5;21m__call__\u001b[39m(\u001b[38;5;28mself\u001b[39m, \u001b[38;5;241m*\u001b[39ma, \u001b[38;5;241m*\u001b[39m\u001b[38;5;241m*\u001b[39mkw):\n\u001b[0;32m--> 182\u001b[0m     \u001b[38;5;28;01mreturn\u001b[39;00m \u001b[38;5;28;43mself\u001b[39;49m\u001b[38;5;241;43m.\u001b[39;49m\u001b[43m_get_current_object\u001b[49m\u001b[43m(\u001b[49m\u001b[43m)\u001b[49m\u001b[43m(\u001b[49m\u001b[38;5;241;43m*\u001b[39;49m\u001b[43ma\u001b[49m\u001b[43m,\u001b[49m\u001b[43m \u001b[49m\u001b[38;5;241;43m*\u001b[39;49m\u001b[38;5;241;43m*\u001b[39;49m\u001b[43mkw\u001b[49m\u001b[43m)\u001b[49m\n",
      "File \u001b[0;32m~/StockTradingbot/myenv/lib/python3.8/site-packages/celery/app/task.py:411\u001b[0m, in \u001b[0;36mTask.__call__\u001b[0;34m(self, *args, **kwargs)\u001b[0m\n\u001b[1;32m    409\u001b[0m \u001b[38;5;28mself\u001b[39m\u001b[38;5;241m.\u001b[39mpush_request(args\u001b[38;5;241m=\u001b[39margs, kwargs\u001b[38;5;241m=\u001b[39mkwargs)\n\u001b[1;32m    410\u001b[0m \u001b[38;5;28;01mtry\u001b[39;00m:\n\u001b[0;32m--> 411\u001b[0m     \u001b[38;5;28;01mreturn\u001b[39;00m \u001b[38;5;28;43mself\u001b[39;49m\u001b[38;5;241;43m.\u001b[39;49m\u001b[43mrun\u001b[49m\u001b[43m(\u001b[49m\u001b[38;5;241;43m*\u001b[39;49m\u001b[43margs\u001b[49m\u001b[43m,\u001b[49m\u001b[43m \u001b[49m\u001b[38;5;241;43m*\u001b[39;49m\u001b[38;5;241;43m*\u001b[39;49m\u001b[43mkwargs\u001b[49m\u001b[43m)\u001b[49m\n\u001b[1;32m    412\u001b[0m \u001b[38;5;28;01mfinally\u001b[39;00m:\n\u001b[1;32m    413\u001b[0m     \u001b[38;5;28mself\u001b[39m\u001b[38;5;241m.\u001b[39mpop_request()\n",
      "File \u001b[0;32m~/StockTradingbot/src/market/tasks.py:31\u001b[0m, in \u001b[0;36msync_company_stock_quotes\u001b[0;34m(company_id, days_ago, date_format, verbose)\u001b[0m\n\u001b[1;32m     25\u001b[0m from_date \u001b[38;5;241m=\u001b[39m start_date\u001b[38;5;241m.\u001b[39mstrftime(date_format)\n\u001b[1;32m     26\u001b[0m client \u001b[38;5;241m=\u001b[39m helper_clients\u001b[38;5;241m.\u001b[39mPolygonAPIClient(\n\u001b[1;32m     27\u001b[0m     ticker\u001b[38;5;241m=\u001b[39mcompany_ticker,\n\u001b[1;32m     28\u001b[0m     from_date\u001b[38;5;241m=\u001b[39mfrom_date,\n\u001b[1;32m     29\u001b[0m     to_date\u001b[38;5;241m=\u001b[39mto_date\n\u001b[1;32m     30\u001b[0m )\n\u001b[0;32m---> 31\u001b[0m dataset \u001b[38;5;241m=\u001b[39m \u001b[43mclient\u001b[49m\u001b[38;5;241;43m.\u001b[39;49m\u001b[43mget_stock_data\u001b[49m\u001b[43m(\u001b[49m\u001b[43m)\u001b[49m\n\u001b[1;32m     32\u001b[0m \u001b[38;5;28;01mif\u001b[39;00m verbose:\n\u001b[1;32m     33\u001b[0m     \u001b[38;5;28mprint\u001b[39m(\u001b[38;5;124m'\u001b[39m\u001b[38;5;124mdataset length\u001b[39m\u001b[38;5;124m'\u001b[39m, \u001b[38;5;28mlen\u001b[39m(dataset))\n",
      "File \u001b[0;32m~/StockTradingbot/src/helpers/clients/polygon_.py:75\u001b[0m, in \u001b[0;36mPolygonAPIClient.get_stock_data\u001b[0;34m(self)\u001b[0m\n\u001b[1;32m     74\u001b[0m \u001b[38;5;28;01mdef\u001b[39;00m\u001b[38;5;250m \u001b[39m\u001b[38;5;21mget_stock_data\u001b[39m(\u001b[38;5;28mself\u001b[39m):\n\u001b[0;32m---> 75\u001b[0m     data \u001b[38;5;241m=\u001b[39m \u001b[38;5;28;43mself\u001b[39;49m\u001b[38;5;241;43m.\u001b[39;49m\u001b[43mfetch_data\u001b[49m\u001b[43m(\u001b[49m\u001b[43m)\u001b[49m\n\u001b[1;32m     76\u001b[0m     results \u001b[38;5;241m=\u001b[39m data\u001b[38;5;241m.\u001b[39mget(\u001b[38;5;124m'\u001b[39m\u001b[38;5;124mresults\u001b[39m\u001b[38;5;124m'\u001b[39m) \u001b[38;5;129;01mor\u001b[39;00m \u001b[38;5;28;01mNone\u001b[39;00m\n\u001b[1;32m     77\u001b[0m     \u001b[38;5;28;01mif\u001b[39;00m results \u001b[38;5;129;01mis\u001b[39;00m \u001b[38;5;28;01mNone\u001b[39;00m:\n",
      "File \u001b[0;32m~/StockTradingbot/src/helpers/clients/polygon_.py:71\u001b[0m, in \u001b[0;36mPolygonAPIClient.fetch_data\u001b[0;34m(self)\u001b[0m\n\u001b[1;32m     69\u001b[0m url \u001b[38;5;241m=\u001b[39m \u001b[38;5;28mself\u001b[39m\u001b[38;5;241m.\u001b[39mgenerate_url()\n\u001b[1;32m     70\u001b[0m response \u001b[38;5;241m=\u001b[39m requests\u001b[38;5;241m.\u001b[39mget(url, headers\u001b[38;5;241m=\u001b[39mheaders)\n\u001b[0;32m---> 71\u001b[0m \u001b[43mresponse\u001b[49m\u001b[38;5;241;43m.\u001b[39;49m\u001b[43mraise_for_status\u001b[49m\u001b[43m(\u001b[49m\u001b[43m)\u001b[49m  \u001b[38;5;66;03m# not 200/201\u001b[39;00m\n\u001b[1;32m     72\u001b[0m \u001b[38;5;28;01mreturn\u001b[39;00m response\u001b[38;5;241m.\u001b[39mjson()\n",
      "File \u001b[0;32m~/StockTradingbot/myenv/lib/python3.8/site-packages/requests/models.py:1024\u001b[0m, in \u001b[0;36mResponse.raise_for_status\u001b[0;34m(self)\u001b[0m\n\u001b[1;32m   1019\u001b[0m     http_error_msg \u001b[38;5;241m=\u001b[39m (\n\u001b[1;32m   1020\u001b[0m         \u001b[38;5;124mf\u001b[39m\u001b[38;5;124m\"\u001b[39m\u001b[38;5;132;01m{\u001b[39;00m\u001b[38;5;28mself\u001b[39m\u001b[38;5;241m.\u001b[39mstatus_code\u001b[38;5;132;01m}\u001b[39;00m\u001b[38;5;124m Server Error: \u001b[39m\u001b[38;5;132;01m{\u001b[39;00mreason\u001b[38;5;132;01m}\u001b[39;00m\u001b[38;5;124m for url: \u001b[39m\u001b[38;5;132;01m{\u001b[39;00m\u001b[38;5;28mself\u001b[39m\u001b[38;5;241m.\u001b[39murl\u001b[38;5;132;01m}\u001b[39;00m\u001b[38;5;124m\"\u001b[39m\n\u001b[1;32m   1021\u001b[0m     )\n\u001b[1;32m   1023\u001b[0m \u001b[38;5;28;01mif\u001b[39;00m http_error_msg:\n\u001b[0;32m-> 1024\u001b[0m     \u001b[38;5;28;01mraise\u001b[39;00m HTTPError(http_error_msg, response\u001b[38;5;241m=\u001b[39m\u001b[38;5;28mself\u001b[39m)\n",
      "\u001b[0;31mHTTPError\u001b[0m: 429 Client Error: Too Many Requests for url: https://api.polygon.io/v2/aggs/ticker/AAPL/range/5/minute/2024-07-19/2025-01-16?adjusted=True&sort=asc&limit=50000"
     ]
    }
   ],
   "source": [
    "market_tasks.sync_historical_stock_data(\n",
    "    years_ago=1, \n",
    "    company_ids=[company.id], \n",
    "    use_celery=False, \n",
    "    verbose=True\n",
    ")\n",
    "\n",
    "# use celery / async\n",
    "# market_tasks.sync_historical_stock_data.delay(years_ago=5, company_ids=[company.id], use_celery=True, verbose=False)"
   ]
  },
  {
   "cell_type": "code",
   "execution_count": 4,
   "id": "45edca03-e0b4-40db-b8ea-3f795d1faf09",
   "metadata": {},
   "outputs": [],
   "source": [
    "days = 90\n",
    "queryset = market_services.get_daily_stock_quotes_queryset(ticker, days=days)"
   ]
  },
  {
   "cell_type": "code",
   "execution_count": 5,
   "id": "e3b0a486-a15d-43fa-b1fc-4f1876c15bd3",
   "metadata": {},
   "outputs": [],
   "source": [
    "averages = market_services.get_daily_moving_averages(ticker, days=days, queryset=queryset)\n",
    "price_target = market_services.get_price_target(ticker, days=days, queryset=queryset)\n",
    "volume_trend = market_services.get_volume_trend(ticker, days=days, queryset=queryset)\n",
    "rsi_data = market_services.calculate_rsi(ticker, days=days, period=14)\n",
    "macd_data = market_services.calculate_macd(ticker, days=days, queryset=queryset)\n",
    "bollinger_data = market_services.calculate_bollinger_bands(ticker, days=days, queryset=queryset)"
   ]
  },
  {
   "cell_type": "code",
   "execution_count": 6,
   "id": "f43f2c6f-beb8-4126-916e-c6f6eb2ee1fa",
   "metadata": {},
   "outputs": [],
   "source": [
    "signals = []\n",
    "signal_weights = {\n",
    "    'ma_crossover': 2.0,    \n",
    "    'price_target': 1.5,   \n",
    "    'volume': 1.0,         \n",
    "    'rsi': 1.5,          \n",
    "    'macd': 1.5,          \n",
    "    'bollinger': 1.0       \n",
    "}"
   ]
  },
  {
   "cell_type": "code",
   "execution_count": 7,
   "id": "ea1e8486-d87b-4ab3-9fa6-312b992555d6",
   "metadata": {},
   "outputs": [],
   "source": [
    "if averages.get('ma_5') > averages.get('ma_20'):\n",
    "    signals.append(1 * signal_weights['ma_crossover'])\n",
    "else:\n",
    "    signals.append(-1 * signal_weights['ma_crossover'])"
   ]
  },
  {
   "cell_type": "code",
   "execution_count": 8,
   "id": "6c9127db-ec19-4b43-aa05-f81c8fb68d56",
   "metadata": {},
   "outputs": [],
   "source": [
    "if price_target.get('current_price') < price_target.get('conservative_target'):\n",
    "    signals.append(1 * signal_weights['price_target'])\n",
    "else:\n",
    "    signals.append(-1 * signal_weights['price_target'])"
   ]
  },
  {
   "cell_type": "code",
   "execution_count": 9,
   "id": "13a4cc3c-9bbe-4109-bc72-6812a2b384de",
   "metadata": {},
   "outputs": [],
   "source": [
    "vol_change = volume_trend.get(\"volume_change_percent\")\n",
    "if vol_change > 20:\n",
    "    signals.append(1 * signal_weights['volume'])\n",
    "elif vol_change < -20:\n",
    "    signals.append(-1 * signal_weights['volume'])\n",
    "else:\n",
    "    signals.append(0)"
   ]
  },
  {
   "cell_type": "code",
   "execution_count": 10,
   "id": "93a75a45-7485-401e-8caf-06e50baed704",
   "metadata": {},
   "outputs": [],
   "source": [
    "rsi = rsi_data.get('rsi')\n",
    "if rsi > 70:\n",
    "    signals.append(-1 * signal_weights['rsi'])  # Overbought\n",
    "elif rsi < 30:\n",
    "    signals.append(1 * signal_weights['rsi'])   # Oversold\n",
    "else:\n",
    "    signals.append(0)"
   ]
  },
  {
   "cell_type": "code",
   "execution_count": 11,
   "id": "52e8c44b-0102-4a8d-908b-079ee70a849b",
   "metadata": {},
   "outputs": [],
   "source": [
    "if macd_data:\n",
    "    if macd_data['macd_line'] > 0:\n",
    "        signals.append(1 * signal_weights['macd'])\n",
    "    else:\n",
    "        signals.append(-1 * signal_weights['macd'])"
   ]
  },
  {
   "cell_type": "code",
   "execution_count": 12,
   "id": "03ae5587-c192-45eb-ae83-350f46b1d8b0",
   "metadata": {},
   "outputs": [],
   "source": [
    "if bollinger_data:\n",
    "    current_price = price_target.get('current_price')\n",
    "    if current_price < bollinger_data['lower_band']:\n",
    "        signals.append(1 * signal_weights['bollinger'])\n",
    "    elif current_price > bollinger_data['upper_band']:\n",
    "        signals.append(-1 * signal_weights['bollinger'])\n",
    "    else:\n",
    "        signals.append(0)"
   ]
  },
  {
   "cell_type": "code",
   "execution_count": 13,
   "id": "b8b20cad-8b99-4e17-99fa-03f334057efd",
   "metadata": {},
   "outputs": [],
   "source": [
    "weighted_score = sum(signals)\n",
    "max_possible_score = sum(signal_weights.values())\n",
    "normalized_score = (weighted_score / max_possible_score) * 10"
   ]
  },
  {
   "cell_type": "code",
   "execution_count": 14,
   "id": "aa0ce1bc-0768-438a-93d9-2012f2638ab3",
   "metadata": {},
   "outputs": [],
   "source": [
    "if normalized_score >= 3:\n",
    "    recommendation = \"BUY\"\n",
    "elif normalized_score <= -3:\n",
    "    recommendation = \"SELL\"\n",
    "else:\n",
    "    recommendation = \"HOLD\""
   ]
  },
  {
   "cell_type": "code",
   "execution_count": 15,
   "id": "987b004c-5d21-4d2c-93be-ddca343b3522",
   "metadata": {},
   "outputs": [
    {
     "name": "stdout",
     "output_type": "stream",
     "text": [
      "{\n",
      "  \"score\": -3.53,\n",
      "  \"recommendation\": \"SELL\",\n",
      "  \"ticker\": \"AAPL\",\n",
      "  \"indicators\": {\n",
      "    \"ma_5\": 235.318,\n",
      "    \"ma_20\": 245.604,\n",
      "    \"current_price\": 233.78,\n",
      "    \"conservative_target\": 248.1088,\n",
      "    \"aggressive_target\": 256.9612,\n",
      "    \"average_price\": 238.0477,\n",
      "    \"avg_volume\": 2879.7123287671234,\n",
      "    \"latest_volume\": 603,\n",
      "    \"volume_change_percent\": -79.06040843120745,\n",
      "    \"rsi\": 47.4629,\n",
      "    \"avg_gain\": 0.9259,\n",
      "    \"avg_loss\": 1.0249,\n",
      "    \"period\": 14,\n",
      "    \"days\": 90,\n",
      "    \"macd\": {\n",
      "      \"macd_line\": -3.0152332717677837,\n",
      "      \"signal_line\": -1.1008648164385355,\n",
      "      \"histogram\": -1.9143684553292482\n",
      "    },\n",
      "    \"bollinger\": {\n",
      "      \"middle_band\": 245.604,\n",
      "      \"upper_band\": 261.5317,\n",
      "      \"lower_band\": 229.6763\n",
      "    }\n",
      "  }\n",
      "}\n"
     ]
    }
   ],
   "source": [
    "analysis_result = {\n",
    "    \"score\": round(normalized_score, 2),\n",
    "    \"recommendation\": recommendation,\n",
    "    \"ticker\": ticker,\n",
    "    \"indicators\": {\n",
    "        **averages,\n",
    "        **price_target,\n",
    "        **volume_trend,\n",
    "        **rsi_data,\n",
    "        \"macd\": macd_data,\n",
    "        \"bollinger\": bollinger_data\n",
    "    }\n",
    "}\n",
    "\n",
    "print(json.dumps(analysis_result, indent=2))"
   ]
  },
  {
   "cell_type": "code",
   "execution_count": 16,
   "id": "df923fd6-b91f-4c5d-9aa6-535f7c99bde0",
   "metadata": {},
   "outputs": [],
   "source": [
    "import matplotlib.pyplot as plt\n",
    "import pandas as pd"
   ]
  },
  {
   "cell_type": "code",
   "execution_count": 17,
   "id": "872cd4e0-534d-4d31-84e6-6d6d0c752af6",
   "metadata": {},
   "outputs": [
    {
     "data": {
      "image/png": "[encoded data removed]",
      "text/plain": [
       "<Figure size 1000x600 with 1 Axes>"
      ]
     },
     "metadata": {},
     "output_type": "display_data"
    }
   ],
   "source": [
    "signal_values = {\n",
    "    'Moving Average': signals[0],\n",
    "    'Price Target': signals[1],\n",
    "    'Volume': signals[2],\n",
    "    'RSI': signals[3],\n",
    "    'MACD': signals[4],\n",
    "    'Bollinger': signals[5]\n",
    "}\n",
    "\n",
    "plt.figure(figsize=(10, 6))\n",
    "plt.bar(signal_values.keys(), signal_values.values())\n",
    "plt.title(f'{ticker} Signal Strengths')\n",
    "plt.xticks(rotation=45)\n",
    "plt.axhline(y=0, color='r', linestyle='-')\n",
    "plt.show()"
   ]
  },
  {
   "cell_type": "code",
   "execution_count": null,
   "id": "682d30c9-322d-4252-acce-96be9c57da85",
   "metadata": {},
   "outputs": [],
   "source": []
  }
 ],
 "metadata": {
  "kernelspec": {
   "display_name": "Python 3 (ipykernel)",
   "language": "python",
   "name": "python3"
  },
  "language_info": {
   "codemirror_mode": {
    "name": "ipython",
    "version": 3
   },
   "file_extension": ".py",
   "mimetype": "text/x-python",
   "name": "python",
   "nbconvert_exporter": "python",
   "pygments_lexer": "ipython3",
   "version": "3.8.10"
  }
 },
 "nbformat": 4,
 "nbformat_minor": 5
}
