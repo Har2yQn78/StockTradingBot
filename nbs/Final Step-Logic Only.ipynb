{
 "cells": [
  {
   "cell_type": "code",
   "execution_count": 1,
   "id": "6cad75a1-b852-4bd3-9299-d046846ac7f3",
   "metadata": {},
   "outputs": [],
   "source": [
    "import setup\n",
    "setup.init_django()\n",
    "from market import services as market_services\n",
    "from market import tasks as market_tasks\n",
    "from market.models import Company\n",
    "import json\n",
    "from decouple import config"
   ]
  },
  {
   "cell_type": "code",
   "execution_count": 2,
   "id": "753f9e85-20c6-45f3-803e-5c89a5c36489",
   "metadata": {},
   "outputs": [
    {
     "data": {
      "text/plain": [
       "3"
      ]
     },
     "execution_count": 2,
     "metadata": {},
     "output_type": "execute_result"
    }
   ],
   "source": [
    "ticker = \"GOOG\"\n",
    "name = \"Google\"\n",
    "company, _ = Company.objects.get_or_create(name=name, ticker=ticker)\n",
    "company.id"
   ]
  },
  {
   "cell_type": "code",
   "id": "31e371fe-876c-4003-be3a-e7d4366380a2",
   "metadata": {},
   "source": [
    "market_tasks.sync_historical_stock_data(\n",
    "    years_ago=1, \n",
    "    company_ids=[company.id], \n",
    "    use_celery=False, \n",
    "    verbose=True\n",
    ")\n",
    "\n",
    "# use celery / async\n",
    "# market_tasks.sync_historical_stock_data.delay(years_ago=5, company_ids=[company.id], use_celery=True, verbose=False)"
   ],
   "outputs": [],
   "execution_count": null
  },
  {
   "cell_type": "code",
   "execution_count": 4,
   "id": "45edca03-e0b4-40db-b8ea-3f795d1faf09",
   "metadata": {},
   "outputs": [],
   "source": [
    "days = 90\n",
    "queryset = market_services.get_daily_stock_quotes_queryset(ticker, days=days)"
   ]
  },
  {
   "cell_type": "code",
   "execution_count": 5,
   "id": "e3b0a486-a15d-43fa-b1fc-4f1876c15bd3",
   "metadata": {},
   "outputs": [],
   "source": [
    "averages = market_services.get_daily_moving_averages(ticker, days=days, queryset=queryset)\n",
    "price_target = market_services.get_price_target(ticker, days=days, queryset=queryset)\n",
    "volume_trend = market_services.get_volume_trend(ticker, days=days, queryset=queryset)\n",
    "rsi_data = market_services.calculate_rsi(ticker, days=days, period=14)\n",
    "macd_data = market_services.calculate_macd(ticker, days=days, queryset=queryset)\n",
    "bollinger_data = market_services.calculate_bollinger_bands(ticker, days=days, queryset=queryset)"
   ]
  },
  {
   "cell_type": "code",
   "execution_count": 6,
   "id": "f43f2c6f-beb8-4126-916e-c6f6eb2ee1fa",
   "metadata": {},
   "outputs": [],
   "source": [
    "signals = []\n",
    "signal_weights = {\n",
    "    'ma_crossover': 2.0,    \n",
    "    'price_target': 1.5,   \n",
    "    'volume': 1.0,         \n",
    "    'rsi': 1.5,          \n",
    "    'macd': 1.5,          \n",
    "    'bollinger': 1.0       \n",
    "}"
   ]
  },
  {
   "cell_type": "code",
   "execution_count": 7,
   "id": "ea1e8486-d87b-4ab3-9fa6-312b992555d6",
   "metadata": {},
   "outputs": [],
   "source": [
    "if averages.get('ma_5') > averages.get('ma_20'):\n",
    "    signals.append(1 * signal_weights['ma_crossover'])\n",
    "else:\n",
    "    signals.append(-1 * signal_weights['ma_crossover'])"
   ]
  },
  {
   "cell_type": "code",
   "execution_count": 8,
   "id": "6c9127db-ec19-4b43-aa05-f81c8fb68d56",
   "metadata": {},
   "outputs": [],
   "source": [
    "if price_target.get('current_price') < price_target.get('conservative_target'):\n",
    "    signals.append(1 * signal_weights['price_target'])\n",
    "else:\n",
    "    signals.append(-1 * signal_weights['price_target'])"
   ]
  },
  {
   "cell_type": "code",
   "execution_count": 9,
   "id": "13a4cc3c-9bbe-4109-bc72-6812a2b384de",
   "metadata": {},
   "outputs": [],
   "source": [
    "vol_change = volume_trend.get(\"volume_change_percent\")\n",
    "if vol_change > 20:\n",
    "    signals.append(1 * signal_weights['volume'])\n",
    "elif vol_change < -20:\n",
    "    signals.append(-1 * signal_weights['volume'])\n",
    "else:\n",
    "    signals.append(0)"
   ]
  },
  {
   "cell_type": "code",
   "execution_count": 10,
   "id": "93a75a45-7485-401e-8caf-06e50baed704",
   "metadata": {},
   "outputs": [],
   "source": [
    "rsi = rsi_data.get('rsi')\n",
    "if rsi > 70:\n",
    "    signals.append(-1 * signal_weights['rsi'])  # Overbought\n",
    "elif rsi < 30:\n",
    "    signals.append(1 * signal_weights['rsi'])   # Oversold\n",
    "else:\n",
    "    signals.append(0)"
   ]
  },
  {
   "cell_type": "code",
   "execution_count": 11,
   "id": "52e8c44b-0102-4a8d-908b-079ee70a849b",
   "metadata": {},
   "outputs": [],
   "source": [
    "if macd_data:\n",
    "    if macd_data['macd_line'] > 0:\n",
    "        signals.append(1 * signal_weights['macd'])\n",
    "    else:\n",
    "        signals.append(-1 * signal_weights['macd'])"
   ]
  },
  {
   "cell_type": "code",
   "execution_count": 12,
   "id": "03ae5587-c192-45eb-ae83-350f46b1d8b0",
   "metadata": {},
   "outputs": [],
   "source": [
    "if bollinger_data:\n",
    "    current_price = price_target.get('current_price')\n",
    "    if current_price < bollinger_data['lower_band']:\n",
    "        signals.append(1 * signal_weights['bollinger'])\n",
    "    elif current_price > bollinger_data['upper_band']:\n",
    "        signals.append(-1 * signal_weights['bollinger'])\n",
    "    else:\n",
    "        signals.append(0)"
   ]
  },
  {
   "cell_type": "code",
   "execution_count": 13,
   "id": "b8b20cad-8b99-4e17-99fa-03f334057efd",
   "metadata": {},
   "outputs": [],
   "source": [
    "weighted_score = sum(signals)\n",
    "max_possible_score = sum(signal_weights.values())\n",
    "normalized_score = (weighted_score / max_possible_score) * 10"
   ]
  },
  {
   "cell_type": "code",
   "execution_count": 14,
   "id": "aa0ce1bc-0768-438a-93d9-2012f2638ab3",
   "metadata": {},
   "outputs": [],
   "source": [
    "if normalized_score >= 3:\n",
    "    recommendation = \"BUY\"\n",
    "elif normalized_score <= -3:\n",
    "    recommendation = \"SELL\"\n",
    "else:\n",
    "    recommendation = \"HOLD\""
   ]
  },
  {
   "cell_type": "code",
   "execution_count": 15,
   "id": "987b004c-5d21-4d2c-93be-ddca343b3522",
   "metadata": {},
   "outputs": [
    {
     "name": "stdout",
     "output_type": "stream",
     "text": [
      "{\n",
      "  \"score\": 4.71,\n",
      "  \"recommendation\": \"BUY\",\n",
      "  \"ticker\": \"GOOG\",\n",
      "  \"indicators\": {\n",
      "    \"ma_5\": 194.424,\n",
      "    \"ma_20\": 194.0835,\n",
      "    \"current_price\": 197.15,\n",
      "    \"conservative_target\": 210.0769,\n",
      "    \"aggressive_target\": 218.0631,\n",
      "    \"average_price\": 182.3596,\n",
      "    \"avg_volume\": 1582.123287671233,\n",
      "    \"latest_volume\": 1015,\n",
      "    \"volume_change_percent\": -35.84570760638989,\n",
      "    \"rsi\": 61.4011,\n",
      "    \"avg_gain\": 1.5733,\n",
      "    \"avg_loss\": 0.9891,\n",
      "    \"period\": 14,\n",
      "    \"days\": 90,\n",
      "    \"macd\": {\n",
      "      \"macd_line\": 2.024502389854746,\n",
      "      \"signal_line\": 2.3549156133238993,\n",
      "      \"histogram\": -0.33041322346915347\n",
      "    },\n",
      "    \"bollinger\": {\n",
      "      \"middle_band\": 194.0835,\n",
      "      \"upper_band\": 198.9751,\n",
      "      \"lower_band\": 189.1919\n",
      "    }\n",
      "  }\n",
      "}\n"
     ]
    }
   ],
   "source": [
    "analysis_result = {\n",
    "    \"score\": round(normalized_score, 2),\n",
    "    \"recommendation\": recommendation,\n",
    "    \"ticker\": ticker,\n",
    "    \"indicators\": {\n",
    "        **averages,\n",
    "        **price_target,\n",
    "        **volume_trend,\n",
    "        **rsi_data,\n",
    "        \"macd\": macd_data,\n",
    "        \"bollinger\": bollinger_data\n",
    "    }\n",
    "}\n",
    "\n",
    "print(json.dumps(analysis_result, indent=2))"
   ]
  }
 ],
 "metadata": {
  "kernelspec": {
   "display_name": "Python 3 (ipykernel)",
   "language": "python",
   "name": "python3"
  },
  "language_info": {
   "codemirror_mode": {
    "name": "ipython",
    "version": 3
   },
   "file_extension": ".py",
   "mimetype": "text/x-python",
   "name": "python",
   "nbconvert_exporter": "python",
   "pygments_lexer": "ipython3",
   "version": "3.8.10"
  }
 },
 "nbformat": 4,
 "nbformat_minor": 5
}
