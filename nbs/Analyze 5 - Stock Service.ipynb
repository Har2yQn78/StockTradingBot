{
 "cells": [
  {
   "cell_type": "code",
   "execution_count": 1,
   "id": "ff0e353c-cd37-41e2-98f2-dc92f9500e90",
   "metadata": {},
   "outputs": [],
   "source": [
    "import setup\n",
    "setup.init_django()"
   ]
  },
  {
   "cell_type": "code",
   "execution_count": 2,
   "id": "de70c44c-282b-4d4d-85e0-d1c8af2d37de",
   "metadata": {},
   "outputs": [],
   "source": [
    "from market import services as market_services"
   ]
  },
  {
   "cell_type": "code",
   "execution_count": 3,
   "id": "e7fc7730-7c8f-4471-b650-62baaf8c39a0",
   "metadata": {},
   "outputs": [],
   "source": [
    "ticker = \"AAPL\"\n",
    "days = 28\n",
    "queryset = market_services.get_daily_stock_quotes_queryset(ticker, days=days)\n",
    "averages = market_services.get_daily_moving_averages(ticker, days=days, queryset=queryset)\n",
    "price_target = market_services.get_price_target(ticker, days=days, queryset=queryset)\n",
    "volume_trend = market_services.get_volume_trend(ticker, days=days, queryset=queryset)\n",
    "rsi = market_services.calculate_rsi(ticker, days=days, period=14)"
   ]
  },
  {
   "cell_type": "code",
   "execution_count": 4,
   "id": "43fa6c72-ae23-495f-b766-c597bff5a696",
   "metadata": {},
   "outputs": [
    {
     "data": {
      "text/plain": [
       "24"
      ]
     },
     "execution_count": 4,
     "metadata": {},
     "output_type": "execute_result"
    }
   ],
   "source": [
    "queryset.count()"
   ]
  },
  {
   "cell_type": "code",
   "execution_count": 5,
   "id": "f189580e-50a3-4b77-8040-bb9aa6b9ed96",
   "metadata": {},
   "outputs": [
    {
     "data": {
      "text/plain": [
       "{'ma_5': 235.318, 'ma_20': 245.604}"
      ]
     },
     "execution_count": 5,
     "metadata": {},
     "output_type": "execute_result"
    }
   ],
   "source": [
    "averages"
   ]
  },
  {
   "cell_type": "code",
   "execution_count": 6,
   "id": "476a1517-4e0e-41a9-bad2-98a6efc08cd3",
   "metadata": {},
   "outputs": [
    {
     "data": {
      "text/plain": [
       "{'current_price': 233.78,\n",
       " 'conservative_target': 243.6471,\n",
       " 'aggressive_target': 249.7429,\n",
       " 'average_price': 246.6192}"
      ]
     },
     "execution_count": 6,
     "metadata": {},
     "output_type": "execute_result"
    }
   ],
   "source": [
    "price_target"
   ]
  },
  {
   "cell_type": "code",
   "execution_count": 7,
   "id": "9f486946-1a8b-4d74-a473-cb7283ebff08",
   "metadata": {},
   "outputs": [
    {
     "data": {
      "text/plain": [
       "{'avg_volume': 2601.6666666666665,\n",
       " 'latest_volume': 603,\n",
       " 'volume_change_percent': -76.82254964766176}"
      ]
     },
     "execution_count": 7,
     "metadata": {},
     "output_type": "execute_result"
    }
   ],
   "source": [
    "volume_trend"
   ]
  },
  {
   "cell_type": "code",
   "execution_count": 8,
   "id": "2002bb8d-365b-4420-9798-cf2e3b4dd492",
   "metadata": {},
   "outputs": [
    {
     "data": {
      "text/plain": [
       "{'rsi': 44.9237,\n",
       " 'avg_gain': 0.8888,\n",
       " 'avg_loss': 1.0897,\n",
       " 'period': 14,\n",
       " 'days': 28}"
      ]
     },
     "execution_count": 8,
     "metadata": {},
     "output_type": "execute_result"
    }
   ],
   "source": [
    "rsi"
   ]
  }
 ],
 "metadata": {
  "kernelspec": {
   "display_name": "Python 3 (ipykernel)",
   "language": "python",
   "name": "python3"
  },
  "language_info": {
   "codemirror_mode": {
    "name": "ipython",
    "version": 3
   },
   "file_extension": ".py",
   "mimetype": "text/x-python",
   "name": "python",
   "nbconvert_exporter": "python",
   "pygments_lexer": "ipython3",
   "version": "3.8.10"
  }
 },
 "nbformat": 4,
 "nbformat_minor": 5
}
