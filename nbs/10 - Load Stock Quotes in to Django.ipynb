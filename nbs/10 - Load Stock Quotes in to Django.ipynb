{
 "cells": [
  {
   "cell_type": "code",
   "execution_count": 1,
   "id": "ed826452-4f75-4c4a-ba8b-ad9a1ed7ca17",
   "metadata": {},
   "outputs": [],
   "source": [
    "import setup\n",
    "setup.init_django()"
   ]
  },
  {
   "cell_type": "code",
   "execution_count": 2,
   "id": "d1e43fbd-b744-4bb4-8862-8bfa87370517",
   "metadata": {},
   "outputs": [],
   "source": [
    "import helpers.clients as helpers_clients"
   ]
  },
  {
   "cell_type": "code",
   "execution_count": 3,
   "id": "7767bd0d-5a48-47a5-9e17-7727011b8951",
   "metadata": {},
   "outputs": [],
   "source": [
    "company_name = \"Apple\"\n",
    "company_ticker = \"AAPL\"\n",
    "multiplier = 1\n",
    "from_data= \"2024-01-09\"\n",
    "to_date = \"2024-01-09\"\n",
    "\n",
    "client = helpers_clients.PolygonAPIClient(\n",
    "    ticker = company_ticker,\n",
    "    multiplier = multiplier,\n",
    "    from_data = from_data,\n",
    "    to_date = to_date,\n",
    ")\n",
    "dataset = client.get_stock_data()"
   ]
  },
  {
   "cell_type": "code",
   "execution_count": 4,
   "id": "d2a4fecb-caa8-4324-9a42-294d1fb27e84",
   "metadata": {},
   "outputs": [],
   "source": [
    "new_stock_data = dataset[0]"
   ]
  },
  {
   "cell_type": "code",
   "execution_count": 5,
   "id": "4d20373a-d320-40fd-b173-d220eac4aa71",
   "metadata": {},
   "outputs": [
    {
     "data": {
      "text/plain": [
       "{'open_price': 185.34,\n",
       " 'close_price': 185,\n",
       " 'high_price': 185.34,\n",
       " 'low_price': 184.97,\n",
       " 'volume': 1726,\n",
       " 'number_of_trades': 106,\n",
       " 'volume_weighted_average': 185.0991,\n",
       " 'time': datetime.datetime(2024, 1, 9, 9, 0, tzinfo=<UTC>)}"
      ]
     },
     "execution_count": 5,
     "metadata": {},
     "output_type": "execute_result"
    }
   ],
   "source": [
    "new_stock_data"
   ]
  },
  {
   "cell_type": "code",
   "execution_count": 6,
   "id": "c0a38688-6b34-4001-a89b-57314293b0ee",
   "metadata": {},
   "outputs": [],
   "source": [
    "from market.models import Company, StockQuote"
   ]
  },
  {
   "cell_type": "code",
   "execution_count": 7,
   "id": "5e351e9b-9ea0-4855-9f54-ca703eacd042",
   "metadata": {},
   "outputs": [],
   "source": [
    "company_obj, created = Company.objects.get_or_create(name=company_name, ticker=company_ticker)"
   ]
  },
  {
   "cell_type": "code",
   "execution_count": 8,
   "id": "5152f053-9043-4415-bf8b-8ae8d3668082",
   "metadata": {},
   "outputs": [
    {
     "data": {
      "text/plain": [
       "<Company: Company object (1)>"
      ]
     },
     "execution_count": 8,
     "metadata": {},
     "output_type": "execute_result"
    }
   ],
   "source": [
    "company_obj"
   ]
  },
  {
   "cell_type": "code",
   "execution_count": 9,
   "id": "6a1ce44e-5882-42f5-9359-1f377519e238",
   "metadata": {},
   "outputs": [
    {
     "data": {
      "text/plain": [
       "<StockQuote: StockQuote object (1)>"
      ]
     },
     "execution_count": 9,
     "metadata": {},
     "output_type": "execute_result"
    }
   ],
   "source": [
    "StockQuote.objects.create(company=company_obj, **new_stock_data)"
   ]
  },
  {
   "cell_type": "code",
   "execution_count": null,
   "id": "7d1db9ea-7efd-4033-b42e-cc05957aea30",
   "metadata": {},
   "outputs": [],
   "source": []
  }
 ],
 "metadata": {
  "kernelspec": {
   "display_name": "Python 3 (ipykernel)",
   "language": "python",
   "name": "python3"
  },
  "language_info": {
   "codemirror_mode": {
    "name": "ipython",
    "version": 3
   },
   "file_extension": ".py",
   "mimetype": "text/x-python",
   "name": "python",
   "nbconvert_exporter": "python",
   "pygments_lexer": "ipython3",
   "version": "3.12.5"
  }
 },
 "nbformat": 4,
 "nbformat_minor": 5
}
