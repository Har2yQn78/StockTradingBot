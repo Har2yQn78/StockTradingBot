{
 "cells": [
  {
   "cell_type": "code",
   "execution_count": 1,
   "id": "ff0e353c-cd37-41e2-98f2-dc92f9500e90",
   "metadata": {},
   "outputs": [],
   "source": [
    "import setup\n",
    "setup.init_django()"
   ]
  },
  {
   "cell_type": "code",
   "execution_count": 2,
   "id": "de70c44c-282b-4d4d-85e0-d1c8af2d37de",
   "metadata": {},
   "outputs": [],
   "source": [
    "from market.models import StockQuote"
   ]
  },
  {
   "cell_type": "code",
   "execution_count": 14,
   "id": "e7fc7730-7c8f-4471-b650-62baaf8c39a0",
   "metadata": {},
   "outputs": [],
   "source": [
    "from django.db.models import (\n",
    "    Avg, \n",
    "    F,\n",
    "    RowRange,\n",
    "    Window,\n",
    "    Max,\n",
    "    Min,\n",
    "    ExpressionWrapper,\n",
    "    DecimalField,\n",
    "    Case,\n",
    "    When,\n",
    "    Value\n",
    ")\n",
    "from django.db.models.functions import TruncDate, FirstValue, Lag, Coalesce\n",
    "from django.utils import timezone\n",
    "from datetime import timedelta\n",
    "from decimal import Decimal\n",
    "from django.db.models.functions import TruncDate\n",
    "from django.db.models import F, Window, Avg, Case, When, Value, DecimalField, ExpressionWrapper\n",
    "from django.db.models.functions import Lag\n",
    "from django.utils import timezone\n",
    "from decimal import Decimal\n",
    "from datetime import timedelta"
   ]
  },
  {
   "cell_type": "code",
   "execution_count": 17,
   "id": "43fa6c72-ae23-495f-b766-c597bff5a696",
   "metadata": {},
   "outputs": [],
   "source": [
    "def calculate_rsi(ticker, period=14):\n",
    "    \"\"\"\n",
    "    Calculate Relative Strength Index (RSI) using Django ORM.\n",
    "    \n",
    "    Args:\n",
    "        ticker (str): Stock ticker symbol\n",
    "        period (int): RSI period (default: 14)\n",
    "    \n",
    "    Returns:\n",
    "        dict: RSI value and component calculations\n",
    "    \"\"\"\n",
    "    end_date = timezone.now()\n",
    "    start_date = end_date - timedelta(days=period * 4)\n",
    "    \n",
    "    # First, get the daily closing prices\n",
    "    daily_prices = (\n",
    "        StockQuote.objects\n",
    "        .filter(company__ticker=ticker, time__range=(start_date, end_date))\n",
    "        .annotate(date=TruncDate('time'))\n",
    "        .values('date')\n",
    "        .annotate(close_price=Avg('close_price'))\n",
    "        .order_by('date')\n",
    "    )\n",
    "    \n",
    "    # Convert to list to do calculations in Python\n",
    "    prices = list(daily_prices)\n",
    "    \n",
    "    if len(prices) < period + 1:\n",
    "        raise ValueError(f\"Insufficient data points. Need at least {period + 1} days of data.\")\n",
    "    \n",
    "    # Calculate gains and losses\n",
    "    changes = []\n",
    "    for i in range(1, len(prices)):\n",
    "        curr_price = Decimal(str(prices[i]['close_price']))\n",
    "        prev_price = Decimal(str(prices[i-1]['close_price']))\n",
    "        change = curr_price - prev_price\n",
    "        changes.append({\n",
    "            'gain': max(change, Decimal('0')),\n",
    "            'loss': max(-change, Decimal('0'))\n",
    "        })\n",
    "    \n",
    "    # Calculate initial averages\n",
    "    initial_gains = sum(c['gain'] for c in changes[:period]) / period\n",
    "    initial_losses = sum(c['loss'] for c in changes[:period]) / period\n",
    "    \n",
    "    # Calculate EMA of gains and losses\n",
    "    avg_gain = initial_gains\n",
    "    avg_loss = initial_losses\n",
    "    alpha = Decimal(1) / Decimal(period)\n",
    "    \n",
    "    # Update moving averages using EMA formula\n",
    "    for change in changes[period:]:\n",
    "        avg_gain = (avg_gain * (1 - alpha) + change['gain'] * alpha)\n",
    "        avg_loss = (avg_loss * (1 - alpha) + change['loss'] * alpha)\n",
    "    \n",
    "    # Calculate final RSI\n",
    "    if avg_loss == 0:\n",
    "        rsi = 100\n",
    "    else:\n",
    "        rs = avg_gain / avg_loss\n",
    "        rsi = 100 - (100 / (1 + rs))\n",
    "    \n",
    "    return {\n",
    "        'rsi': round(float(rsi), 4),\n",
    "        'avg_gain': round(float(avg_gain), 4),\n",
    "        'avg_loss': round(float(avg_loss), 4),\n",
    "        'period': period\n",
    "    }"
   ]
  },
  {
   "cell_type": "code",
   "execution_count": 18,
   "id": "f189580e-50a3-4b77-8040-bb9aa6b9ed96",
   "metadata": {},
   "outputs": [],
   "source": [
    "rsi_data = calculate_rsi('AAPL')"
   ]
  },
  {
   "cell_type": "code",
   "execution_count": 19,
   "id": "476a1517-4e0e-41a9-bad2-98a6efc08cd3",
   "metadata": {},
   "outputs": [
    {
     "data": {
      "text/plain": [
       "{'rsi': 32.3708, 'avg_gain': 0.5495, 'avg_loss': 1.148, 'period': 14}"
      ]
     },
     "execution_count": 19,
     "metadata": {},
     "output_type": "execute_result"
    }
   ],
   "source": [
    "rsi_data"
   ]
  },
  {
   "cell_type": "code",
   "execution_count": null,
   "id": "9f486946-1a8b-4d74-a473-cb7283ebff08",
   "metadata": {},
   "outputs": [],
   "source": []
  }
 ],
 "metadata": {
  "kernelspec": {
   "display_name": "Python 3 (ipykernel)",
   "language": "python",
   "name": "python3"
  },
  "language_info": {
   "codemirror_mode": {
    "name": "ipython",
    "version": 3
   },
   "file_extension": ".py",
   "mimetype": "text/x-python",
   "name": "python",
   "nbconvert_exporter": "python",
   "pygments_lexer": "ipython3",
   "version": "3.8.10"
  }
 },
 "nbformat": 4,
 "nbformat_minor": 5
}
