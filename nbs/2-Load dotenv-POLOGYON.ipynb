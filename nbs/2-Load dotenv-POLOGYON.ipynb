{
 "cells": [
  {
   "cell_type": "code",
   "execution_count": 17,
   "id": "0b975197-fef3-41a6-922a-f0ea4e239872",
   "metadata": {},
   "outputs": [
    {
     "name": "stdout",
     "output_type": "stream",
     "text": [
      "Current Working Directory: /\n",
      "Files in Current Directory: ['media', 'dev', 'sys', 'root', 'bin', 'lost+found', 'run', 'boot', 'usr', 'etc', 'var', 'opt', 'mnt', 'srv', 'lib', 'snap', 'home', 'Docker', 'init', 'lib32', 'proc', 'libx32', 'sbin', 'lib64', 'tmp']\n"
     ]
    }
   ],
   "source": [
    "from decouple import config, AutoConfig\n",
    "import os\n",
    "os.chdir(\"../\")\n",
    "print(\"Current Working Directory:\", os.getcwd())\n",
    "print(\"Files in Current Directory:\", os.listdir(os.getcwd()))\n",
    "config = AutoConfig(search_path=\"/home/harry/StockTradingbot\") "
   ]
  },
  {
   "cell_type": "code",
   "execution_count": 18,
   "id": "c8588eb7-fcfd-4e4e-b4ce-039aea86d892",
   "metadata": {},
   "outputs": [],
   "source": [
    "assert config(\"POLOGYON_API_KEY\", default=None, cast=str) is not None"
   ]
  },
  {
   "cell_type": "code",
   "execution_count": 19,
   "id": "623a058f-e004-41da-a52b-ab7bdbb49591",
   "metadata": {},
   "outputs": [],
   "source": [
    "POLOGYON_API_KEY = config(\"POLOGYON_API_KEY\", default=None, cast=str) "
   ]
  },
  {
   "cell_type": "code",
   "execution_count": 16,
   "id": "b90a6bfc-2e38-4898-9c1f-897bfaecede8",
   "metadata": {},
   "outputs": [
    {
     "data": {
      "text/plain": [
       "'yxjwFUvt7zfgiHNA5TyPDTvpY0tjGRAt'"
      ]
     },
     "execution_count": 16,
     "metadata": {},
     "output_type": "execute_result"
    }
   ],
   "source": [
    "POLOGYON_API_KEY"
   ]
  },
  {
   "cell_type": "code",
   "execution_count": 32,
   "id": "1d1a5982-f95d-4a9b-b8d3-defe582f4b48",
   "metadata": {},
   "outputs": [],
   "source": [
    "ticker = \"AAPL\"\n",
    "multiplier = \"1\"\n",
    "timespan = \"day\"\n",
    "from_data = \"2023-01-09\"\n",
    "to_date = \"2023-01-09\"\n",
    "path = f\"/v2/aggs/ticker/{ticker}/range/{multiplier}/{timespan}/{from_data}/{to_date}\"\n",
    "url = f\"https://api.polygon.io{path}?apiKey={POLOGYON_API_KEY}\""
   ]
  },
  {
   "cell_type": "code",
   "execution_count": null,
   "id": "b511c1eb-c158-448b-8d1f-de2e09b2caaf",
   "metadata": {},
   "outputs": [],
   "source": [
    "url2 = https://api.polygon.io/v2/aggs/ticker/AAPL/range/1/day/2023-01-09/2023-02-10?adjusted=true&sort=asc&apiKey=yxjwFUvt7zfgiHNA5TyPDTvpY0tjGRAt"
   ]
  },
  {
   "cell_type": "code",
   "execution_count": 27,
   "id": "33a3e2b1-9155-44f6-92ec-ede72aac9730",
   "metadata": {},
   "outputs": [],
   "source": [
    "respones = requests.get(url)"
   ]
  },
  {
   "cell_type": "code",
   "execution_count": 29,
   "id": "46bbcb06-5a8b-4c76-9ea6-deb1e521cb36",
   "metadata": {},
   "outputs": [],
   "source": [
    "data = respones.json()"
   ]
  },
  {
   "cell_type": "code",
   "execution_count": 30,
   "id": "3c6535d5-d4c0-4b2b-ad96-d14903a8627f",
   "metadata": {},
   "outputs": [
    {
     "data": {
      "text/plain": [
       "{'ticker': 'AAPL',\n",
       " 'queryCount': 1,\n",
       " 'resultsCount': 1,\n",
       " 'adjusted': True,\n",
       " 'results': [{'v': 70790813.0,\n",
       "   'vw': 131.6292,\n",
       "   'o': 130.465,\n",
       "   'c': 130.15,\n",
       "   'h': 133.41,\n",
       "   'l': 129.89,\n",
       "   't': 1673240400000,\n",
       "   'n': 645365}],\n",
       " 'status': 'OK',\n",
       " 'request_id': '62b453a30e94794afb236747dd3f9eb2',\n",
       " 'count': 1}"
      ]
     },
     "execution_count": 30,
     "metadata": {},
     "output_type": "execute_result"
    }
   ],
   "source": [
    "data"
   ]
  },
  {
   "cell_type": "code",
   "execution_count": 31,
   "id": "e22a9307-caa3-401b-b03a-563656d19015",
   "metadata": {},
   "outputs": [
    {
     "data": {
      "text/plain": [
       "'AAPL'"
      ]
     },
     "execution_count": 31,
     "metadata": {},
     "output_type": "execute_result"
    }
   ],
   "source": [
    "data['ticker']"
   ]
  },
  {
   "cell_type": "code",
   "execution_count": null,
   "id": "bd193c11-74af-4370-918e-f093a0cc1735",
   "metadata": {},
   "outputs": [],
   "source": []
  }
 ],
 "metadata": {
  "kernelspec": {
   "display_name": "Python 3 (ipykernel)",
   "language": "python",
   "name": "python3"
  },
  "language_info": {
   "codemirror_mode": {
    "name": "ipython",
    "version": 3
   },
   "file_extension": ".py",
   "mimetype": "text/x-python",
   "name": "python",
   "nbconvert_exporter": "python",
   "pygments_lexer": "ipython3",
   "version": "3.8.10"
  }
 },
 "nbformat": 4,
 "nbformat_minor": 5
}
