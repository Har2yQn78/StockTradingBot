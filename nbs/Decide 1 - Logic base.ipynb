{
 "cells": [
  {
   "cell_type": "code",
   "execution_count": 1,
   "id": "386a717e-88d5-4a19-b7c0-fd2586a3d795",
   "metadata": {},
   "outputs": [],
   "source": [
    "import setup\n",
    "setup.init_django()"
   ]
  },
  {
   "cell_type": "code",
   "execution_count": 2,
   "id": "3be6b73f-d67a-41ae-880c-3aae23ce4b3a",
   "metadata": {},
   "outputs": [],
   "source": [
    "from market import services as market_services"
   ]
  },
  {
   "cell_type": "code",
   "execution_count": 3,
   "id": "d9bf194b-4c87-45f5-980f-fd4fd7751b55",
   "metadata": {},
   "outputs": [],
   "source": [
    "ticker = \"AAPL\"\n",
    "days = 30\n",
    "queryset = market_services.get_daily_stock_quotes_queryset(ticker, days=days)\n",
    "averages = market_services.get_daily_moving_averages(ticker, days=days, queryset=queryset)\n",
    "price_target = market_services.get_price_target(ticker, days=days, queryset=queryset)\n",
    "volume_trend = market_services.get_volume_trend(ticker, days=days, queryset=queryset)\n",
    "rsi_data = market_services.calculate_rsi(ticker, days=days, period=14)"
   ]
  },
  {
   "cell_type": "code",
   "execution_count": 4,
   "id": "e2dfa719-db93-4c22-bb19-780e3e7ebd9a",
   "metadata": {},
   "outputs": [
    {
     "data": {
      "text/plain": [
       "{'current_price': 233.78,\n",
       " 'conservative_target': 243.6471,\n",
       " 'aggressive_target': 249.7429,\n",
       " 'average_price': 247.0319}"
      ]
     },
     "execution_count": 4,
     "metadata": {},
     "output_type": "execute_result"
    }
   ],
   "source": [
    "price_target"
   ]
  },
  {
   "cell_type": "code",
   "execution_count": 5,
   "id": "0da9770b-8dc5-4645-a6f6-2bd840effd4d",
   "metadata": {},
   "outputs": [],
   "source": [
    "signals = []"
   ]
  },
  {
   "cell_type": "code",
   "execution_count": 6,
   "id": "6b912e1d-74d0-49e3-907d-c2a769d4b2ba",
   "metadata": {},
   "outputs": [],
   "source": [
    "if averages.get('ma_5') > averages.get('ma_20'):\n",
    "    signals.append(1)\n",
    "else:\n",
    "    signals.append(-1)"
   ]
  },
  {
   "cell_type": "code",
   "execution_count": 7,
   "id": "1681e27b-334c-48de-97bf-9752190e810f",
   "metadata": {},
   "outputs": [],
   "source": [
    "if price_target.get('current_price') < price_target.get('conservative_target'):\n",
    "    signals.append(1)\n",
    "else:\n",
    "    signals.append(-1)"
   ]
  },
  {
   "cell_type": "code",
   "execution_count": 8,
   "id": "250c7495-065f-411a-b834-9d06104d77f2",
   "metadata": {},
   "outputs": [
    {
     "data": {
      "text/plain": [
       "{'avg_volume': 2452.6923076923076,\n",
       " 'latest_volume': 603,\n",
       " 'volume_change_percent': -75.41477183628665}"
      ]
     },
     "execution_count": 8,
     "metadata": {},
     "output_type": "execute_result"
    }
   ],
   "source": [
    "volume_trend"
   ]
  },
  {
   "cell_type": "code",
   "execution_count": 9,
   "id": "99ca4cf2-62a5-4690-9436-ece11200d080",
   "metadata": {},
   "outputs": [],
   "source": [
    "if volume_trend.get(\"volume_change_percent\") > 20:\n",
    "    signals.append(1)\n",
    "elif volume_trend.get(\"volume_change_percent\") < -20:\n",
    "    signals.append(-1)\n",
    "else:\n",
    "    signals.append(0)"
   ]
  },
  {
   "cell_type": "code",
   "execution_count": 10,
   "id": "f413d104-79cf-45ce-91dd-985ce2b1148f",
   "metadata": {},
   "outputs": [
    {
     "data": {
      "text/plain": [
       "{'rsi': 40.509,\n",
       " 'avg_gain': 0.9257,\n",
       " 'avg_loss': 1.3595,\n",
       " 'period': 14,\n",
       " 'days': 30}"
      ]
     },
     "execution_count": 10,
     "metadata": {},
     "output_type": "execute_result"
    }
   ],
   "source": [
    "rsi_data"
   ]
  },
  {
   "cell_type": "code",
   "execution_count": 11,
   "id": "c8fe7a83-9f35-4370-8a7b-42cb4f12170a",
   "metadata": {},
   "outputs": [],
   "source": [
    "rsi = rsi_data.get('rsi')\n",
    "if rsi > 70:\n",
    "    signals.append(-1)  # Overbought\n",
    "elif rsi < 30:\n",
    "    signals.append(1) # Oversold\n",
    "else:\n",
    "    signals.append(0)"
   ]
  },
  {
   "cell_type": "code",
   "execution_count": 12,
   "id": "96835c8d-f168-4d00-b4a4-c246546a99c1",
   "metadata": {},
   "outputs": [
    {
     "data": {
      "text/plain": [
       "-1"
      ]
     },
     "execution_count": 12,
     "metadata": {},
     "output_type": "execute_result"
    }
   ],
   "source": [
    "score = sum(signals)\n",
    "score"
   ]
  },
  {
   "cell_type": "code",
   "execution_count": 13,
   "id": "d00e6a2a-8d8c-4155-8075-0e762c87ba38",
   "metadata": {},
   "outputs": [
    {
     "name": "stdout",
     "output_type": "stream",
     "text": [
      "HOLD\n"
     ]
    }
   ],
   "source": [
    "if score>= 2:\n",
    "    print(\"BUY\")\n",
    "elif score <= -2:\n",
    "    print(\"SELL\")\n",
    "else:\n",
    "    print(\"HOLD\")"
   ]
  }
 ],
 "metadata": {
  "kernelspec": {
   "display_name": "Python 3 (ipykernel)",
   "language": "python",
   "name": "python3"
  },
  "language_info": {
   "codemirror_mode": {
    "name": "ipython",
    "version": 3
   },
   "file_extension": ".py",
   "mimetype": "text/x-python",
   "name": "python",
   "nbconvert_exporter": "python",
   "pygments_lexer": "ipython3",
   "version": "3.8.10"
  }
 },
 "nbformat": 4,
 "nbformat_minor": 5
}
