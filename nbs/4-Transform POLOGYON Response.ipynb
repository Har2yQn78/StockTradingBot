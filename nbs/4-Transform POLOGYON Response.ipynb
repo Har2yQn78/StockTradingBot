{
 "cells": [
  {
   "cell_type": "code",
   "execution_count": 3,
   "id": "0b975197-fef3-41a6-922a-f0ea4e239872",
   "metadata": {},
   "outputs": [],
   "source": [
    "import os\n",
    "import requests\n",
    "from decouple import AutoConfig\n",
    "os.chdir(\"../\")"
   ]
  },
  {
   "cell_type": "code",
   "execution_count": 4,
   "id": "4e3596a2-534c-49ff-8d34-a415f230bdb9",
   "metadata": {},
   "outputs": [
    {
     "name": "stdout",
     "output_type": "stream",
     "text": [
      "C:\\Users\\HARRY\\Desktop\\StockTradingbot\n"
     ]
    }
   ],
   "source": [
    "print(os.getcwd())"
   ]
  },
  {
   "cell_type": "code",
   "execution_count": 5,
   "id": "2c031db0-8c1d-4dae-86c0-b0042dd05265",
   "metadata": {},
   "outputs": [],
   "source": [
    "config = AutoConfig(search_path=\"C:/Users/HARRY/Desktop/StockTradingbot\")"
   ]
  },
  {
   "cell_type": "code",
   "execution_count": 6,
   "id": "c8588eb7-fcfd-4e4e-b4ce-039aea86d892",
   "metadata": {},
   "outputs": [],
   "source": [
    "assert config(\"POLOGYON_API_KEY\", default=None, cast=str) is not None"
   ]
  },
  {
   "cell_type": "code",
   "execution_count": 7,
   "id": "623a058f-e004-41da-a52b-ab7bdbb49591",
   "metadata": {},
   "outputs": [],
   "source": [
    "POLOGYON_API_KEY = config(\"POLOGYON_API_KEY\", default=None, cast=str) "
   ]
  },
  {
   "cell_type": "code",
   "execution_count": 8,
   "id": "b90a6bfc-2e38-4898-9c1f-897bfaecede8",
   "metadata": {},
   "outputs": [
    {
     "data": {
      "text/plain": [
       "'yxjwFUvt7zfgiHNA5TyPDTvpY0tjGRAt'"
      ]
     },
     "execution_count": 8,
     "metadata": {},
     "output_type": "execute_result"
    }
   ],
   "source": [
    "POLOGYON_API_KEY"
   ]
  },
  {
   "cell_type": "code",
   "execution_count": 9,
   "id": "1d1a5982-f95d-4a9b-b8d3-defe582f4b48",
   "metadata": {},
   "outputs": [],
   "source": [
    "ticker = \"AAPL\"\n",
    "multiplier = \"5\"\n",
    "timespan = \"day\"\n",
    "from_data = \"2023-01-09\"\n",
    "to_date = \"2023-01-09\"\n",
    "path = f\"/v2/aggs/ticker/{ticker}/range/{multiplier}/{timespan}/{from_data}/{to_date}\"\n",
    "url = f\"https://api.polygon.io{path}?apiKey={POLOGYON_API_KEY}\""
   ]
  },
  {
   "cell_type": "code",
   "execution_count": 10,
   "id": "b511c1eb-c158-448b-8d1f-de2e09b2caaf",
   "metadata": {},
   "outputs": [
    {
     "ename": "SyntaxError",
     "evalue": "leading zeros in decimal integer literals are not permitted; use an 0o prefix for octal integers (1153712464.py, line 1)",
     "output_type": "error",
     "traceback": [
      "\u001b[1;36m  Cell \u001b[1;32mIn[10], line 1\u001b[1;36m\u001b[0m\n\u001b[1;33m    url2 = https://api.polygon.io/v2/aggs/ticker/AAPL/range/1/day/2023-01-09/2023-02-10?adjusted=true&sort=asc&apiKey=yxjwFUvt7zfgiHNA5TyPDTvpY0tjGRAt\u001b[0m\n\u001b[1;37m                                                                       ^\u001b[0m\n\u001b[1;31mSyntaxError\u001b[0m\u001b[1;31m:\u001b[0m leading zeros in decimal integer literals are not permitted; use an 0o prefix for octal integers\n"
     ]
    }
   ],
   "source": [
    "url2 = https://api.polygon.io/v2/aggs/ticker/AAPL/range/1/day/2023-01-09/2023-02-10?adjusted=true&sort=asc&apiKey=yxjwFUvt7zfgiHNA5TyPDTvpY0tjGRAt"
   ]
  },
  {
   "cell_type": "code",
   "execution_count": 11,
   "id": "33a3e2b1-9155-44f6-92ec-ede72aac9730",
   "metadata": {},
   "outputs": [],
   "source": [
    "respones = requests.get(url)"
   ]
  },
  {
   "cell_type": "code",
   "execution_count": 12,
   "id": "46bbcb06-5a8b-4c76-9ea6-deb1e521cb36",
   "metadata": {},
   "outputs": [],
   "source": [
    "data = respones.json()"
   ]
  },
  {
   "cell_type": "code",
   "execution_count": 13,
   "id": "3c6535d5-d4c0-4b2b-ad96-d14903a8627f",
   "metadata": {},
   "outputs": [
    {
     "data": {
      "text/plain": [
       "{'ticker': 'AAPL',\n",
       " 'queryCount': 1,\n",
       " 'resultsCount': 1,\n",
       " 'adjusted': True,\n",
       " 'results': [{'v': 70790813.0,\n",
       "   'vw': 131.6292,\n",
       "   'o': 130.465,\n",
       "   'c': 130.15,\n",
       "   'h': 133.41,\n",
       "   'l': 129.89,\n",
       "   't': 1673240400000,\n",
       "   'n': 645365}],\n",
       " 'status': 'OK',\n",
       " 'request_id': '59262520116d3005ea8d014051832c1a',\n",
       " 'count': 1}"
      ]
     },
     "execution_count": 13,
     "metadata": {},
     "output_type": "execute_result"
    }
   ],
   "source": [
    "data"
   ]
  },
  {
   "cell_type": "code",
   "execution_count": 16,
   "id": "e22a9307-caa3-401b-b03a-563656d19015",
   "metadata": {},
   "outputs": [],
   "source": [
    "result = data['results'][0]"
   ]
  },
  {
   "cell_type": "code",
   "execution_count": 17,
   "id": "bd193c11-74af-4370-918e-f093a0cc1735",
   "metadata": {},
   "outputs": [
    {
     "data": {
      "text/plain": [
       "{'v': 70790813.0,\n",
       " 'vw': 131.6292,\n",
       " 'o': 130.465,\n",
       " 'c': 130.15,\n",
       " 'h': 133.41,\n",
       " 'l': 129.89,\n",
       " 't': 1673240400000,\n",
       " 'n': 645365}"
      ]
     },
     "execution_count": 17,
     "metadata": {},
     "output_type": "execute_result"
    }
   ],
   "source": [
    "result"
   ]
  },
  {
   "cell_type": "code",
   "execution_count": 29,
   "id": "ce37a5ab-fae8-4409-9db3-202683e04cef",
   "metadata": {},
   "outputs": [],
   "source": [
    "from datetime import datetime\n",
    "import pytz \n",
    "\n",
    "def transfor_polygon_result(result):\n",
    "    unix_timestamp = result.get('t') / 1000.0\n",
    "    utc_timestamp = datetime.fromtimestamp(unix_timestamp, tz=pytz.timezone('UTC'))\n",
    "    return{\n",
    "         'open_price': result['o'],\n",
    "         'close_price': result['c'],\n",
    "         'high_price': result['h'],\n",
    "         'low_price': result['l'],\n",
    "         'volume': result['v'],\n",
    "         'number_of_trades': result['n'],\n",
    "         'volume_weighted_average': result['vw'],\n",
    "         'time': utc_timestamp,\n",
    "}"
   ]
  },
  {
   "cell_type": "code",
   "execution_count": 30,
   "id": "77fd4e91-2d58-4eb2-b19c-b6451c68fe1c",
   "metadata": {},
   "outputs": [
    {
     "data": {
      "text/plain": [
       "{'open_price': 130.465,\n",
       " 'close_price': 130.15,\n",
       " 'high_price': 133.41,\n",
       " 'low_price': 129.89,\n",
       " 'volume': 70790813.0,\n",
       " 'volume_weighted_average': 131.6292,\n",
       " 'time': datetime.datetime(2023, 1, 9, 5, 0, tzinfo=<UTC>)}"
      ]
     },
     "execution_count": 30,
     "metadata": {},
     "output_type": "execute_result"
    }
   ],
   "source": [
    "transfor_polygon_result(result)"
   ]
  },
  {
   "cell_type": "code",
   "execution_count": null,
   "id": "60c4bd3b-e9be-47d8-a175-c9a7bb717b16",
   "metadata": {},
   "outputs": [],
   "source": []
  }
 ],
 "metadata": {
  "kernelspec": {
   "display_name": "Python 3 (ipykernel)",
   "language": "python",
   "name": "python3"
  },
  "language_info": {
   "codemirror_mode": {
    "name": "ipython",
    "version": 3
   },
   "file_extension": ".py",
   "mimetype": "text/x-python",
   "name": "python",
   "nbconvert_exporter": "python",
   "pygments_lexer": "ipython3",
   "version": "3.12.5"
  }
 },
 "nbformat": 4,
 "nbformat_minor": 5
}
