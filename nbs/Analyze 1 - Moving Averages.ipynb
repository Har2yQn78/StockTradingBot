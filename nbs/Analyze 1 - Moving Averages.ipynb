{
 "cells": [
  {
   "cell_type": "code",
   "execution_count": 1,
   "id": "6dbd18e9-c63c-487b-966f-a3ee08db37f8",
   "metadata": {},
   "outputs": [],
   "source": [
    "import setup \n",
    "setup.init_django()"
   ]
  },
  {
   "cell_type": "code",
   "execution_count": 2,
   "id": "256a6538-dc39-4f4e-9a7a-4ba6539635b9",
   "metadata": {},
   "outputs": [],
   "source": [
    "from market.models import StockQuote"
   ]
  },
  {
   "cell_type": "code",
   "execution_count": 3,
   "id": "57561978-f1a8-475c-9a68-6d108fe7700a",
   "metadata": {},
   "outputs": [],
   "source": [
    "from django.db.models import Avg, F, RowRange, Window\n",
    "from django.utils import timezone\n",
    "from datetime import timedelta\n",
    "from decimal import Decimal"
   ]
  },
  {
   "cell_type": "code",
   "execution_count": 4,
   "id": "fb00408b-12c2-48ee-9aa8-ef4c5cc9aed1",
   "metadata": {},
   "outputs": [
    {
     "data": {
      "text/plain": [
       "6400"
      ]
     },
     "execution_count": 4,
     "metadata": {},
     "output_type": "execute_result"
    }
   ],
   "source": [
    "days_ago = 30\n",
    "now = timezone.now()\n",
    "start_date = now - timedelta(days=30)\n",
    "end_date = now\n",
    "\n",
    "qs = StockQuote.objects.filter(time__range=(start_date, end_date))\n",
    "qs.count()"
   ]
  },
  {
   "cell_type": "code",
   "execution_count": 5,
   "id": "f9bf8c3e-d3ef-4cdb-b142-34e5ff15fb19",
   "metadata": {},
   "outputs": [],
   "source": [
    "total = 0\n",
    "for obj in qs:\n",
    "    total += obj.close_price"
   ]
  },
  {
   "cell_type": "code",
   "execution_count": 6,
   "id": "d8f6beef-d25b-4e20-8622-e40be9593be8",
   "metadata": {},
   "outputs": [
    {
     "data": {
      "text/plain": [
       "Decimal('416.247672765625')"
      ]
     },
     "execution_count": 6,
     "metadata": {},
     "output_type": "execute_result"
    }
   ],
   "source": [
    "total / qs.count()"
   ]
  },
  {
   "cell_type": "code",
   "execution_count": 7,
   "id": "88ea2a52-23c3-4f28-8484-d0c1d338e88c",
   "metadata": {},
   "outputs": [
    {
     "data": {
      "text/plain": [
       "<QuerySet [{'company': 1, 'avg_price': Decimal('605.9644865537848606')}, {'company': 2, 'avg_price': Decimal('247.5856175324675325')}]>"
      ]
     },
     "execution_count": 7,
     "metadata": {},
     "output_type": "execute_result"
    }
   ],
   "source": [
    "qs.values('company').annotate(avg_price=Avg('close_price'))"
   ]
  },
  {
   "cell_type": "code",
   "execution_count": 8,
   "id": "8316c15e-66b1-4abd-956a-9f40f6ed2a78",
   "metadata": {},
   "outputs": [],
   "source": [
    "count = 5\n",
    "ticker = \"AAPL\"\n",
    "rolling_qs = list(qs.filter(company__ticker=ticker).order_by('-time')[:count])\n",
    "rolling_qs.reverse()"
   ]
  },
  {
   "cell_type": "code",
   "execution_count": 9,
   "id": "9bf2109b-e1a1-447f-8bb4-6673429f5a0d",
   "metadata": {},
   "outputs": [
    {
     "name": "stdout",
     "output_type": "stream",
     "text": [
      "1 17791 233.7600 233.7600\n",
      "2 17792 233.8100 233.7850\n",
      "3 17793 233.7400 233.7700\n",
      "4 17794 233.6936 233.7509\n",
      "5 17795 233.7800 233.75672\n"
     ]
    }
   ],
   "source": [
    "total = 0\n",
    "for i, obj in enumerate(rolling_qs):\n",
    "    total += obj.close_price\n",
    "    avg = total / (i + 1)\n",
    "    print(i + 1, obj.id, obj.close_price, avg)"
   ]
  },
  {
   "cell_type": "code",
   "execution_count": 10,
   "id": "f3b2a11a-9def-44ae-b9fd-dda785b6627e",
   "metadata": {},
   "outputs": [],
   "source": [
    "qs = StockQuote.objects.filter(company__ticker=ticker, time__range=(start_date, end_date))"
   ]
  },
  {
   "cell_type": "code",
   "execution_count": 11,
   "id": "c5c23bbb-3ac8-40af-83d7-81fbdac0803c",
   "metadata": {},
   "outputs": [],
   "source": [
    "frame_start = -(count - 1)\n",
    "ma_val = qs.annotate(\n",
    "    ma=Window(\n",
    "        expression=Avg('close_price'),\n",
    "        order_by=F('time').asc(),\n",
    "        frame=RowRange(start=frame_start, end=0),\n",
    "    )\n",
    ").order_by('-time')"
   ]
  },
  {
   "cell_type": "code",
   "execution_count": 12,
   "id": "b0d7d17c-5ff2-4fa0-8a9b-dd8842318aac",
   "metadata": {},
   "outputs": [
    {
     "name": "stdout",
     "output_type": "stream",
     "text": [
      "17795 233.7800 233.7567200000000000 2025-01-15 00:55:00+00:00\n",
      "17794 233.6936 233.7367200000000000 2025-01-15 00:50:00+00:00\n",
      "17793 233.7400 233.7080000000000000 2025-01-15 00:45:00+00:00\n",
      "17792 233.8100 233.6930600000000000 2025-01-15 00:40:00+00:00\n",
      "17791 233.7600 233.6410600000000000 2025-01-15 00:35:00+00:00\n"
     ]
    }
   ],
   "source": [
    "for obj in ma_val[:5]:\n",
    "    print(obj.id, obj.close_price, obj.ma, obj.time)"
   ]
  },
  {
   "cell_type": "code",
   "execution_count": 13,
   "id": "39bcff96-66d1-41f8-8636-0218ce57fc41",
   "metadata": {},
   "outputs": [
    {
     "data": {
      "text/plain": [
       "(17795,\n",
       " Decimal('233.7800'),\n",
       " Decimal('233.7567200000000000'),\n",
       " Decimal('233.5385700000000000'))"
      ]
     },
     "execution_count": 13,
     "metadata": {},
     "output_type": "execute_result"
    }
   ],
   "source": [
    "frame_start = -(count - 1)\n",
    "ma_vals = qs.annotate(\n",
    "    ma_5=Window(\n",
    "        expression=Avg('close_price'),\n",
    "        order_by=F('time').asc(),\n",
    "        frame=RowRange(start=-4, end=0),\n",
    "    ),\n",
    "    ma_20=Window(\n",
    "        expression=Avg('close_price'),\n",
    "        order_by=F('time').asc(),\n",
    "        frame=RowRange(start=-19, end=0),\n",
    "    )\n",
    ").order_by('-time').first()\n",
    "\n",
    "ma_vals.id, ma_vals.close_price, ma_vals.ma_5, ma_vals.ma_20"
   ]
  }
 ],
 "metadata": {
  "kernelspec": {
   "display_name": "Python 3 (ipykernel)",
   "language": "python",
   "name": "python3"
  },
  "language_info": {
   "codemirror_mode": {
    "name": "ipython",
    "version": 3
   },
   "file_extension": ".py",
   "mimetype": "text/x-python",
   "name": "python",
   "nbconvert_exporter": "python",
   "pygments_lexer": "ipython3",
   "version": "3.8.10"
  }
 },
 "nbformat": 4,
 "nbformat_minor": 5
}
