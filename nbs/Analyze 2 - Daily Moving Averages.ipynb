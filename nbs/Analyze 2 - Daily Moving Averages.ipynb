{
 "cells": [
  {
   "cell_type": "code",
   "execution_count": 2,
   "id": "6dbd18e9-c63c-487b-966f-a3ee08db37f8",
   "metadata": {},
   "outputs": [],
   "source": [
    "import setup \n",
    "setup.init_django()"
   ]
  },
  {
   "cell_type": "code",
   "execution_count": 3,
   "id": "256a6538-dc39-4f4e-9a7a-4ba6539635b9",
   "metadata": {},
   "outputs": [],
   "source": [
    "from market.models import StockQuote"
   ]
  },
  {
   "cell_type": "code",
   "execution_count": 15,
   "id": "57561978-f1a8-475c-9a68-6d108fe7700a",
   "metadata": {},
   "outputs": [],
   "source": [
    "from django.db.models import Avg, F, RowRange, Window, Max\n",
    "from django.db.models.functions import TruncDate\n",
    "from django.utils import timezone\n",
    "from datetime import timedelta\n",
    "from decimal import Decimal"
   ]
  },
  {
   "cell_type": "code",
   "execution_count": 16,
   "id": "fb00408b-12c2-48ee-9aa8-ef4c5cc9aed1",
   "metadata": {},
   "outputs": [
    {
     "data": {
      "text/plain": [
       "5861"
      ]
     },
     "execution_count": 16,
     "metadata": {},
     "output_type": "execute_result"
    }
   ],
   "source": [
    "days_ago = 30\n",
    "now = timezone.now()\n",
    "start_date = now - timedelta(days=30)\n",
    "end_date = now\n",
    "\n",
    "qs = StockQuote.objects.filter(time__range=(start_date, end_date))\n",
    "qs.count()"
   ]
  },
  {
   "cell_type": "code",
   "execution_count": 17,
   "id": "f9bf8c3e-d3ef-4cdb-b142-34e5ff15fb19",
   "metadata": {},
   "outputs": [],
   "source": [
    "total = 0\n",
    "for obj in qs:\n",
    "    total += obj.close_price"
   ]
  },
  {
   "cell_type": "code",
   "execution_count": 18,
   "id": "d8f6beef-d25b-4e20-8622-e40be9593be8",
   "metadata": {},
   "outputs": [
    {
     "data": {
      "text/plain": [
       "Decimal('410.6987832451800034123869647')"
      ]
     },
     "execution_count": 18,
     "metadata": {},
     "output_type": "execute_result"
    }
   ],
   "source": [
    "total / qs.count()"
   ]
  },
  {
   "cell_type": "code",
   "execution_count": 19,
   "id": "88ea2a52-23c3-4f28-8484-d0c1d338e88c",
   "metadata": {},
   "outputs": [
    {
     "data": {
      "text/plain": [
       "<QuerySet [{'company': 1, 'avg_price': Decimal('249.292104238410')}, {'company': 2, 'avg_price': Decimal('194.198671084337')}, {'company': 4, 'avg_price': Decimal('606.357545570095')}]>"
      ]
     },
     "execution_count": 19,
     "metadata": {},
     "output_type": "execute_result"
    }
   ],
   "source": [
    "qs.values('company').annotate(avg_price=Avg('close_price'))"
   ]
  },
  {
   "cell_type": "code",
   "execution_count": 20,
   "id": "8316c15e-66b1-4abd-956a-9f40f6ed2a78",
   "metadata": {},
   "outputs": [],
   "source": [
    "count = 5\n",
    "ticker = \"AAPL\"\n",
    "rolling_qs = list(qs.filter(company__ticker=ticker).order_by('-time')[:count])\n",
    "rolling_qs.reverse()"
   ]
  },
  {
   "cell_type": "code",
   "execution_count": 21,
   "id": "9117e416-2148-4187-8a91-5dc797b54455",
   "metadata": {},
   "outputs": [
    {
     "data": {
      "text/plain": [
       "[<StockQuote: StockQuote object (149470)>,\n",
       " <StockQuote: StockQuote object (149471)>,\n",
       " <StockQuote: StockQuote object (149472)>,\n",
       " <StockQuote: StockQuote object (149473)>,\n",
       " <StockQuote: StockQuote object (149474)>]"
      ]
     },
     "execution_count": 21,
     "metadata": {},
     "output_type": "execute_result"
    }
   ],
   "source": [
    "rolling_qs"
   ]
  },
  {
   "cell_type": "code",
   "execution_count": 22,
   "id": "9bf2109b-e1a1-447f-8bb4-6673429f5a0d",
   "metadata": {},
   "outputs": [
    {
     "name": "stdout",
     "output_type": "stream",
     "text": [
      "1 149470 237.0000 237.0000\n",
      "2 149471 236.9900 236.9950\n",
      "3 149472 237.0000 236.9966666666666666666666667\n",
      "4 149473 237.0000 236.9975\n",
      "5 149474 237.0200 237.0020\n"
     ]
    }
   ],
   "source": [
    "total = 0\n",
    "for i, obj in enumerate(rolling_qs):\n",
    "    total += obj.close_price\n",
    "    avg = total / (i + 1)\n",
    "    print(i + 1, obj.id, obj.close_price, avg)"
   ]
  },
  {
   "cell_type": "code",
   "execution_count": 23,
   "id": "52fc2e68-fea8-4404-9a60-fc0b11ff8e75",
   "metadata": {},
   "outputs": [],
   "source": [
    "lastest_daily_timestamps = (\n",
    "    StockQuote.objects.filter(company__ticker=ticker, time__range=(start_date - timedelta(days=40), end_date))\n",
    "    .annotate(date=TruncDate('time'))\n",
    "    .values('company', 'date')\n",
    "    .annotate(latest_time=Max('time'))\n",
    "    .values('company', 'date', 'latest_time')\n",
    "    .order_by('date')\n",
    ")\n",
    "\n",
    "acutal_timestamps = [x['latest_time'] for x in lastest_daily_timestamps]"
   ]
  },
  {
   "cell_type": "code",
   "execution_count": 28,
   "id": "6abe9b09-a005-4759-bfc6-9e9e58aece3e",
   "metadata": {},
   "outputs": [
    {
     "data": {
      "text/plain": [
       "[datetime.datetime(2024, 11, 4, 23, 55, tzinfo=datetime.timezone.utc),\n",
       " datetime.datetime(2024, 11, 5, 23, 55, tzinfo=datetime.timezone.utc),\n",
       " datetime.datetime(2024, 11, 6, 23, 55, tzinfo=datetime.timezone.utc),\n",
       " datetime.datetime(2024, 11, 7, 23, 55, tzinfo=datetime.timezone.utc),\n",
       " datetime.datetime(2024, 11, 8, 23, 55, tzinfo=datetime.timezone.utc),\n",
       " datetime.datetime(2024, 11, 9, 0, 55, tzinfo=datetime.timezone.utc),\n",
       " datetime.datetime(2024, 11, 11, 23, 55, tzinfo=datetime.timezone.utc),\n",
       " datetime.datetime(2024, 11, 12, 23, 50, tzinfo=datetime.timezone.utc),\n",
       " datetime.datetime(2024, 11, 13, 23, 55, tzinfo=datetime.timezone.utc),\n",
       " datetime.datetime(2024, 11, 14, 23, 55, tzinfo=datetime.timezone.utc),\n",
       " datetime.datetime(2024, 11, 15, 23, 55, tzinfo=datetime.timezone.utc),\n",
       " datetime.datetime(2024, 11, 16, 0, 55, tzinfo=datetime.timezone.utc),\n",
       " datetime.datetime(2024, 11, 18, 23, 55, tzinfo=datetime.timezone.utc),\n",
       " datetime.datetime(2024, 11, 19, 23, 55, tzinfo=datetime.timezone.utc),\n",
       " datetime.datetime(2024, 11, 20, 23, 55, tzinfo=datetime.timezone.utc),\n",
       " datetime.datetime(2024, 11, 21, 23, 55, tzinfo=datetime.timezone.utc),\n",
       " datetime.datetime(2024, 11, 22, 23, 55, tzinfo=datetime.timezone.utc),\n",
       " datetime.datetime(2024, 11, 23, 0, 55, tzinfo=datetime.timezone.utc),\n",
       " datetime.datetime(2024, 11, 25, 23, 55, tzinfo=datetime.timezone.utc),\n",
       " datetime.datetime(2024, 11, 26, 23, 55, tzinfo=datetime.timezone.utc),\n",
       " datetime.datetime(2024, 11, 27, 23, 55, tzinfo=datetime.timezone.utc),\n",
       " datetime.datetime(2024, 11, 28, 0, 55, tzinfo=datetime.timezone.utc),\n",
       " datetime.datetime(2024, 11, 29, 21, 55, tzinfo=datetime.timezone.utc),\n",
       " datetime.datetime(2024, 12, 2, 23, 55, tzinfo=datetime.timezone.utc),\n",
       " datetime.datetime(2024, 12, 3, 23, 55, tzinfo=datetime.timezone.utc),\n",
       " datetime.datetime(2024, 12, 4, 23, 50, tzinfo=datetime.timezone.utc),\n",
       " datetime.datetime(2024, 12, 5, 23, 55, tzinfo=datetime.timezone.utc),\n",
       " datetime.datetime(2024, 12, 6, 23, 50, tzinfo=datetime.timezone.utc),\n",
       " datetime.datetime(2024, 12, 7, 0, 55, tzinfo=datetime.timezone.utc),\n",
       " datetime.datetime(2024, 12, 9, 23, 55, tzinfo=datetime.timezone.utc),\n",
       " datetime.datetime(2024, 12, 10, 23, 55, tzinfo=datetime.timezone.utc),\n",
       " datetime.datetime(2024, 12, 11, 23, 55, tzinfo=datetime.timezone.utc),\n",
       " datetime.datetime(2024, 12, 12, 23, 55, tzinfo=datetime.timezone.utc),\n",
       " datetime.datetime(2024, 12, 13, 23, 55, tzinfo=datetime.timezone.utc),\n",
       " datetime.datetime(2024, 12, 14, 0, 55, tzinfo=datetime.timezone.utc),\n",
       " datetime.datetime(2024, 12, 16, 23, 55, tzinfo=datetime.timezone.utc),\n",
       " datetime.datetime(2024, 12, 17, 23, 50, tzinfo=datetime.timezone.utc),\n",
       " datetime.datetime(2024, 12, 18, 23, 55, tzinfo=datetime.timezone.utc),\n",
       " datetime.datetime(2024, 12, 19, 23, 45, tzinfo=datetime.timezone.utc),\n",
       " datetime.datetime(2024, 12, 20, 23, 55, tzinfo=datetime.timezone.utc),\n",
       " datetime.datetime(2024, 12, 21, 0, 55, tzinfo=datetime.timezone.utc),\n",
       " datetime.datetime(2024, 12, 23, 23, 50, tzinfo=datetime.timezone.utc),\n",
       " datetime.datetime(2024, 12, 24, 21, 55, tzinfo=datetime.timezone.utc),\n",
       " datetime.datetime(2024, 12, 26, 23, 55, tzinfo=datetime.timezone.utc),\n",
       " datetime.datetime(2024, 12, 27, 23, 55, tzinfo=datetime.timezone.utc),\n",
       " datetime.datetime(2024, 12, 28, 0, 55, tzinfo=datetime.timezone.utc),\n",
       " datetime.datetime(2024, 12, 30, 23, 55, tzinfo=datetime.timezone.utc),\n",
       " datetime.datetime(2024, 12, 31, 23, 50, tzinfo=datetime.timezone.utc),\n",
       " datetime.datetime(2025, 1, 1, 0, 55, tzinfo=datetime.timezone.utc),\n",
       " datetime.datetime(2025, 1, 2, 23, 55, tzinfo=datetime.timezone.utc),\n",
       " datetime.datetime(2025, 1, 3, 23, 55, tzinfo=datetime.timezone.utc),\n",
       " datetime.datetime(2025, 1, 4, 0, 55, tzinfo=datetime.timezone.utc),\n",
       " datetime.datetime(2025, 1, 6, 23, 55, tzinfo=datetime.timezone.utc),\n",
       " datetime.datetime(2025, 1, 7, 23, 55, tzinfo=datetime.timezone.utc),\n",
       " datetime.datetime(2025, 1, 8, 23, 55, tzinfo=datetime.timezone.utc),\n",
       " datetime.datetime(2025, 1, 9, 0, 55, tzinfo=datetime.timezone.utc),\n",
       " datetime.datetime(2025, 1, 10, 23, 55, tzinfo=datetime.timezone.utc),\n",
       " datetime.datetime(2025, 1, 11, 0, 55, tzinfo=datetime.timezone.utc)]"
      ]
     },
     "execution_count": 28,
     "metadata": {},
     "output_type": "execute_result"
    }
   ],
   "source": [
    "acutal_timestamps"
   ]
  },
  {
   "cell_type": "code",
   "execution_count": 24,
   "id": "f3b2a11a-9def-44ae-b9fd-dda785b6627e",
   "metadata": {},
   "outputs": [],
   "source": [
    "qs = StockQuote.objects.filter(\n",
    "    company__ticker=ticker, \n",
    "    time__range=(start_date, end_date),\n",
    "    time__in=acutal_timestamps\n",
    ")"
   ]
  },
  {
   "cell_type": "code",
   "execution_count": 25,
   "id": "c5c23bbb-3ac8-40af-83d7-81fbdac0803c",
   "metadata": {},
   "outputs": [],
   "source": [
    "frame_start = -(count - 1)\n",
    "ma_val = qs.annotate(\n",
    "    ma=Window(\n",
    "        expression=Avg('close_price'),\n",
    "        order_by=F('time').asc(),\n",
    "        frame=RowRange(start=frame_start, end=0),\n",
    "    )\n",
    ").order_by('-time')"
   ]
  },
  {
   "cell_type": "code",
   "execution_count": 26,
   "id": "b0d7d17c-5ff2-4fa0-8a9b-dd8842318aac",
   "metadata": {},
   "outputs": [
    {
     "name": "stdout",
     "output_type": "stream",
     "text": [
      "149474 237.0200 240.148000000000 2025-01-11 00:55:00+00:00\n",
      "149463 237.0100 241.684120000000 2025-01-10 23:55:00+00:00\n",
      "163792 242.4000 242.960280000000 2025-01-09 00:55:00+00:00\n",
      "163780 242.1600 243.124280000000 2025-01-08 23:55:00+00:00\n",
      "163605 242.1500 243.340280000000 2025-01-07 23:55:00+00:00\n"
     ]
    }
   ],
   "source": [
    "for obj in ma_val[:5]:\n",
    "    print(obj.id, obj.close_price, obj.ma, obj.time)"
   ]
  },
  {
   "cell_type": "code",
   "execution_count": 27,
   "id": "39bcff96-66d1-41f8-8636-0218ce57fc41",
   "metadata": {},
   "outputs": [
    {
     "data": {
      "text/plain": [
       "(149474,\n",
       " Decimal('237.0200'),\n",
       " Decimal('240.148000000000'),\n",
       " Decimal('248.476490000000'))"
      ]
     },
     "execution_count": 27,
     "metadata": {},
     "output_type": "execute_result"
    }
   ],
   "source": [
    "frame_start = -(count - 1)\n",
    "ma_vals = qs.annotate(\n",
    "    ma_5=Window(\n",
    "        expression=Avg('close_price'),\n",
    "        order_by=F('time').asc(),\n",
    "        frame=RowRange(start=-4, end=0),\n",
    "    ),\n",
    "    ma_20=Window(\n",
    "        expression=Avg('close_price'),\n",
    "        order_by=F('time').asc(),\n",
    "        frame=RowRange(start=-19, end=0),\n",
    "    )\n",
    ").order_by('-time').first()\n",
    "\n",
    "ma_vals.id, ma_vals.close_price, ma_vals.ma_5, ma_vals.ma_20"
   ]
  },
  {
   "cell_type": "code",
   "execution_count": null,
   "id": "57483302-2380-4640-bf20-97ab6760fde8",
   "metadata": {},
   "outputs": [],
   "source": []
  }
 ],
 "metadata": {
  "kernelspec": {
   "display_name": "Python 3 (ipykernel)",
   "language": "python",
   "name": "python3"
  },
  "language_info": {
   "codemirror_mode": {
    "name": "ipython",
    "version": 3
   },
   "file_extension": ".py",
   "mimetype": "text/x-python",
   "name": "python",
   "nbconvert_exporter": "python",
   "pygments_lexer": "ipython3",
   "version": "3.8.10"
  }
 },
 "nbformat": 4,
 "nbformat_minor": 5
}
